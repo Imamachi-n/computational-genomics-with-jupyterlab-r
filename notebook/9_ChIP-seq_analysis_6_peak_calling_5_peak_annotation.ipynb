{
 "cells": [
  {
   "cell_type": "markdown",
   "metadata": {},
   "source": [
    "# 9.ChIP-seq\n",
    "## 9.6 Peak calling\n",
    "### 9.6.5 Peak annotation\n"
   ]
  },
  {
   "cell_type": "markdown",
   "metadata": {},
   "source": [
    "最後に、ChIP-seq から同定したピーク領域のゲノム上のどこに分布しているのか（TSS, exon, intron, intergenic）を可視化する。"
   ]
  },
  {
   "cell_type": "code",
   "execution_count": 2,
   "metadata": {},
   "outputs": [],
   "source": [
    "# AnnotationHub ライブラリの読み込み\n",
    "library(AnnotationHub)"
   ]
  },
  {
   "cell_type": "code",
   "execution_count": 3,
   "metadata": {},
   "outputs": [
    {
     "name": "stderr",
     "output_type": "stream",
     "text": [
      "using temporary cache /var/folders/5l/9jr5d9t912x662bhf5tjh7q40000gn/T//RtmpqcHwQ7/BiocFileCache\n",
      "\n",
      "snapshotDate(): 2020-10-27\n",
      "\n",
      "downloading 1 resources\n",
      "\n",
      "retrieving 1 resource\n",
      "\n",
      "loading from cache\n",
      "\n",
      "Importing File into R ..\n",
      "\n",
      "require(“rtracklayer”)\n",
      "\n"
     ]
    }
   ],
   "source": [
    "# ヒト遺伝子のアノテーション情報を取得(ダウンロード)\n",
    "# MEMO: GRCh38.92 -> AH61126 のデータを使用\n",
    "# MEMO: 読み込みにかなり時間がかかる(5minぐらい)\n",
    "hub = AnnotationHub()\n",
    "gtf = hub[['AH61126']]"
   ]
  },
  {
   "cell_type": "code",
   "execution_count": 4,
   "metadata": {},
   "outputs": [],
   "source": [
    "# chr21 のみを抽出\n",
    "seqlevels(gtf, pruning.mode='coarse') = '21'\n",
    "\n",
    "# 染色体名に chr の prefix をつける\n",
    "seqlevels(gtf, pruning.mode='coarse') = paste0('chr', seqlevels(gtf))"
   ]
  },
  {
   "cell_type": "code",
   "execution_count": 6,
   "metadata": {},
   "outputs": [
    {
     "data": {
      "text/plain": [
       "GRangesList object of length 3:\n",
       "$tss\n",
       "GRanges object with 832 ranges and 22 metadata columns:\n",
       "        seqnames            ranges strand |         source     type     score\n",
       "           <Rle>         <IRanges>  <Rle> |       <factor> <factor> <numeric>\n",
       "    [1]    chr21   5010799-5012798      + | havana             gene        NA\n",
       "    [2]    chr21   5021493-5023492      + | ensembl_havana     gene        NA\n",
       "    [3]    chr21   5072458-5074457      + | havana             gene        NA\n",
       "    [4]    chr21   5127426-5129425      - | ensembl_havana     gene        NA\n",
       "    [5]    chr21   5132806-5134805      - | havana             gene        NA\n",
       "    ...      ...               ...    ... .            ...      ...       ...\n",
       "  [828]    chr21 46524618-46526617      + | ensembl            gene        NA\n",
       "  [829]    chr21 46604209-46606208      - | ensembl_havana     gene        NA\n",
       "  [830]    chr21 46634167-46636166      + | ensembl_havana     gene        NA\n",
       "  [831]    chr21 46653023-46655022      - | havana             gene        NA\n",
       "  [832]    chr21 46689764-46691763      + | havana             gene        NA\n",
       "            phase         gene_id gene_version   gene_name    gene_source\n",
       "        <integer>     <character>  <character> <character>    <character>\n",
       "    [1]      <NA> ENSG00000279493            1  FP565260.4         havana\n",
       "    [2]      <NA> ENSG00000277117            4  FP565260.3 ensembl_havana\n",
       "    [3]      <NA> ENSG00000279687            1  FP565260.5         havana\n",
       "    [4]      <NA> ENSG00000280071            3  FP565260.6 ensembl_havana\n",
       "    [5]      <NA> ENSG00000276612            3  FP565260.2         havana\n",
       "    ...       ...             ...          ...         ...            ...\n",
       "  [828]      <NA> ENSG00000202239            1   RNU6-396P        ensembl\n",
       "  [829]      <NA> ENSG00000160307            9       S100B ensembl_havana\n",
       "  [830]      <NA> ENSG00000160310           17       PRMT2 ensembl_havana\n",
       "  [831]      <NA> ENSG00000230982            1      DSTNP1         havana\n",
       "  [832]      <NA> ENSG00000212932            3    RPL23AP4         havana\n",
       "                gene_biotype transcript_id transcript_version transcript_name\n",
       "                 <character>   <character>        <character>     <character>\n",
       "    [1]       protein_coding          <NA>               <NA>            <NA>\n",
       "    [2]       protein_coding          <NA>               <NA>            <NA>\n",
       "    [3]            antisense          <NA>               <NA>            <NA>\n",
       "    [4]       protein_coding          <NA>               <NA>            <NA>\n",
       "    [5]       protein_coding          <NA>               <NA>            <NA>\n",
       "    ...                  ...           ...                ...             ...\n",
       "  [828]                snRNA          <NA>               <NA>            <NA>\n",
       "  [829]       protein_coding          <NA>               <NA>            <NA>\n",
       "  [830]       protein_coding          <NA>               <NA>            <NA>\n",
       "  [831] processed_pseudogene          <NA>               <NA>            <NA>\n",
       "  [832] processed_pseudogene          <NA>               <NA>            <NA>\n",
       "        transcript_source transcript_biotype         tag\n",
       "              <character>        <character> <character>\n",
       "    [1]              <NA>               <NA>        <NA>\n",
       "    [2]              <NA>               <NA>        <NA>\n",
       "    [3]              <NA>               <NA>        <NA>\n",
       "    [4]              <NA>               <NA>        <NA>\n",
       "    [5]              <NA>               <NA>        <NA>\n",
       "    ...               ...                ...         ...\n",
       "  [828]              <NA>               <NA>        <NA>\n",
       "  [829]              <NA>               <NA>        <NA>\n",
       "  [830]              <NA>               <NA>        <NA>\n",
       "  [831]              <NA>               <NA>        <NA>\n",
       "  [832]              <NA>               <NA>        <NA>\n",
       "        transcript_support_level exon_number     exon_id exon_version\n",
       "                     <character> <character> <character>  <character>\n",
       "    [1]                     <NA>        <NA>        <NA>         <NA>\n",
       "    [2]                     <NA>        <NA>        <NA>         <NA>\n",
       "    [3]                     <NA>        <NA>        <NA>         <NA>\n",
       "    [4]                     <NA>        <NA>        <NA>         <NA>\n",
       "    [5]                     <NA>        <NA>        <NA>         <NA>\n",
       "    ...                      ...         ...         ...          ...\n",
       "  [828]                     <NA>        <NA>        <NA>         <NA>\n",
       "  [829]                     <NA>        <NA>        <NA>         <NA>\n",
       "  [830]                     <NA>        <NA>        <NA>         <NA>\n",
       "  [831]                     <NA>        <NA>        <NA>         <NA>\n",
       "  [832]                     <NA>        <NA>        <NA>         <NA>\n",
       "         protein_id protein_version     ccds_id\n",
       "        <character>     <character> <character>\n",
       "    [1]        <NA>            <NA>        <NA>\n",
       "    [2]        <NA>            <NA>        <NA>\n",
       "    [3]        <NA>            <NA>        <NA>\n",
       "    [4]        <NA>            <NA>        <NA>\n",
       "    [5]        <NA>            <NA>        <NA>\n",
       "    ...         ...             ...         ...\n",
       "  [828]        <NA>            <NA>        <NA>\n",
       "  [829]        <NA>            <NA>        <NA>\n",
       "  [830]        <NA>            <NA>        <NA>\n",
       "  [831]        <NA>            <NA>        <NA>\n",
       "  [832]        <NA>            <NA>        <NA>\n",
       "  -------\n",
       "  seqinfo: 1 sequence from GRCh38 genome\n",
       "\n",
       "$exon\n",
       "GRanges object with 14255 ranges and 22 metadata columns:\n",
       "          seqnames            ranges strand |         source     type     score\n",
       "             <Rle>         <IRanges>  <Rle> |       <factor> <factor> <numeric>\n",
       "      [1]    chr21   5011799-5011874      + | havana             exon        NA\n",
       "      [2]    chr21   5012548-5012687      + | havana             exon        NA\n",
       "      [3]    chr21   5014386-5014471      + | havana             exon        NA\n",
       "      [4]    chr21   5016935-5017145      + | havana             exon        NA\n",
       "      [5]    chr21   5022493-5022693      + | ensembl_havana     exon        NA\n",
       "      ...      ...               ...    ... .            ...      ...       ...\n",
       "  [14251]    chr21 46660833-46661936      + |         havana     exon        NA\n",
       "  [14252]    chr21 46663383-46663554      + |         havana     exon        NA\n",
       "  [14253]    chr21 46664295-46664951      + |         havana     exon        NA\n",
       "  [14254]    chr21 46653558-46654022      - |         havana     exon        NA\n",
       "  [14255]    chr21 46690764-46691226      + |         havana     exon        NA\n",
       "              phase         gene_id gene_version   gene_name    gene_source\n",
       "          <integer>     <character>  <character> <character>    <character>\n",
       "      [1]      <NA> ENSG00000279493            1  FP565260.4         havana\n",
       "      [2]      <NA> ENSG00000279493            1  FP565260.4         havana\n",
       "      [3]      <NA> ENSG00000279493            1  FP565260.4         havana\n",
       "      [4]      <NA> ENSG00000279493            1  FP565260.4         havana\n",
       "      [5]      <NA> ENSG00000277117            4  FP565260.3 ensembl_havana\n",
       "      ...       ...             ...          ...         ...            ...\n",
       "  [14251]      <NA> ENSG00000160310           17       PRMT2 ensembl_havana\n",
       "  [14252]      <NA> ENSG00000160310           17       PRMT2 ensembl_havana\n",
       "  [14253]      <NA> ENSG00000160310           17       PRMT2 ensembl_havana\n",
       "  [14254]      <NA> ENSG00000230982            1      DSTNP1         havana\n",
       "  [14255]      <NA> ENSG00000212932            3    RPL23AP4         havana\n",
       "                  gene_biotype   transcript_id transcript_version\n",
       "                   <character>     <character>        <character>\n",
       "      [1]       protein_coding ENST00000624081                  1\n",
       "      [2]       protein_coding ENST00000624081                  1\n",
       "      [3]       protein_coding ENST00000624081                  1\n",
       "      [4]       protein_coding ENST00000624081                  1\n",
       "      [5]       protein_coding ENST00000612610                  4\n",
       "      ...                  ...             ...                ...\n",
       "  [14251]       protein_coding ENST00000486520                  1\n",
       "  [14252]       protein_coding ENST00000486520                  1\n",
       "  [14253]       protein_coding ENST00000486520                  1\n",
       "  [14254] processed_pseudogene ENST00000419906                  1\n",
       "  [14255] processed_pseudogene ENST00000427757                  1\n",
       "          transcript_name transcript_source   transcript_biotype         tag\n",
       "              <character>       <character>          <character> <character>\n",
       "      [1]  FP565260.4-201            havana       protein_coding       basic\n",
       "      [2]  FP565260.4-201            havana       protein_coding       basic\n",
       "      [3]  FP565260.4-201            havana       protein_coding       basic\n",
       "      [4]  FP565260.4-201            havana       protein_coding       basic\n",
       "      [5]  FP565260.3-201    ensembl_havana       protein_coding       basic\n",
       "      ...             ...               ...                  ...         ...\n",
       "  [14251]       PRMT2-213            havana      retained_intron        <NA>\n",
       "  [14252]       PRMT2-213            havana      retained_intron        <NA>\n",
       "  [14253]       PRMT2-213            havana      retained_intron        <NA>\n",
       "  [14254]      DSTNP1-201            havana processed_pseudogene       basic\n",
       "  [14255]    RPL23AP4-201            havana processed_pseudogene       basic\n",
       "          transcript_support_level exon_number         exon_id exon_version\n",
       "                       <character> <character>     <character>  <character>\n",
       "      [1]                        5           1 ENSE00003760288            1\n",
       "      [2]                        5           2 ENSE00003758404            1\n",
       "      [3]                        5           3 ENSE00003755466            1\n",
       "      [4]                        5           4 ENSE00003755385            1\n",
       "      [5]                        1           1 ENSE00003716400            1\n",
       "      ...                      ...         ...             ...          ...\n",
       "  [14251]                        2           2 ENSE00001898206            1\n",
       "  [14252]                        2           3 ENSE00003480469            1\n",
       "  [14253]                        2           4 ENSE00003500589            1\n",
       "  [14254]                       NA           1 ENSE00001623663            1\n",
       "  [14255]                       NA           1 ENSE00001697032            1\n",
       "           protein_id protein_version     ccds_id\n",
       "          <character>     <character> <character>\n",
       "      [1]        <NA>            <NA>        <NA>\n",
       "      [2]        <NA>            <NA>        <NA>\n",
       "      [3]        <NA>            <NA>        <NA>\n",
       "      [4]        <NA>            <NA>        <NA>\n",
       "      [5]        <NA>            <NA>        <NA>\n",
       "      ...         ...             ...         ...\n",
       "  [14251]        <NA>            <NA>        <NA>\n",
       "  [14252]        <NA>            <NA>        <NA>\n",
       "  [14253]        <NA>            <NA>        <NA>\n",
       "  [14254]        <NA>            <NA>        <NA>\n",
       "  [14255]        <NA>            <NA>        <NA>\n",
       "  -------\n",
       "  seqinfo: 1 sequence from GRCh38 genome\n",
       "\n",
       "$intron\n",
       "GRanges object with 832 ranges and 22 metadata columns:\n",
       "        seqnames            ranges strand |         source     type     score\n",
       "           <Rle>         <IRanges>  <Rle> |       <factor> <factor> <numeric>\n",
       "    [1]    chr21   5011799-5017145      + | havana             gene        NA\n",
       "    [2]    chr21   5022493-5040666      + | ensembl_havana     gene        NA\n",
       "    [3]    chr21   5073458-5087867      + | havana             gene        NA\n",
       "    [4]    chr21   5079294-5128425      - | ensembl_havana     gene        NA\n",
       "    [5]    chr21   5116343-5133805      - | havana             gene        NA\n",
       "    ...      ...               ...    ... .            ...      ...       ...\n",
       "  [828]    chr21 46525618-46525722      + | ensembl            gene        NA\n",
       "  [829]    chr21 46598962-46605208      - | ensembl_havana     gene        NA\n",
       "  [830]    chr21 46635167-46665124      + | ensembl_havana     gene        NA\n",
       "  [831]    chr21 46653558-46654022      - | havana             gene        NA\n",
       "  [832]    chr21 46690764-46691226      + | havana             gene        NA\n",
       "            phase         gene_id gene_version   gene_name    gene_source\n",
       "        <integer>     <character>  <character> <character>    <character>\n",
       "    [1]      <NA> ENSG00000279493            1  FP565260.4         havana\n",
       "    [2]      <NA> ENSG00000277117            4  FP565260.3 ensembl_havana\n",
       "    [3]      <NA> ENSG00000279687            1  FP565260.5         havana\n",
       "    [4]      <NA> ENSG00000280071            3  FP565260.6 ensembl_havana\n",
       "    [5]      <NA> ENSG00000276612            3  FP565260.2         havana\n",
       "    ...       ...             ...          ...         ...            ...\n",
       "  [828]      <NA> ENSG00000202239            1   RNU6-396P        ensembl\n",
       "  [829]      <NA> ENSG00000160307            9       S100B ensembl_havana\n",
       "  [830]      <NA> ENSG00000160310           17       PRMT2 ensembl_havana\n",
       "  [831]      <NA> ENSG00000230982            1      DSTNP1         havana\n",
       "  [832]      <NA> ENSG00000212932            3    RPL23AP4         havana\n",
       "                gene_biotype transcript_id transcript_version transcript_name\n",
       "                 <character>   <character>        <character>     <character>\n",
       "    [1]       protein_coding          <NA>               <NA>            <NA>\n",
       "    [2]       protein_coding          <NA>               <NA>            <NA>\n",
       "    [3]            antisense          <NA>               <NA>            <NA>\n",
       "    [4]       protein_coding          <NA>               <NA>            <NA>\n",
       "    [5]       protein_coding          <NA>               <NA>            <NA>\n",
       "    ...                  ...           ...                ...             ...\n",
       "  [828]                snRNA          <NA>               <NA>            <NA>\n",
       "  [829]       protein_coding          <NA>               <NA>            <NA>\n",
       "  [830]       protein_coding          <NA>               <NA>            <NA>\n",
       "  [831] processed_pseudogene          <NA>               <NA>            <NA>\n",
       "  [832] processed_pseudogene          <NA>               <NA>            <NA>\n",
       "        transcript_source transcript_biotype         tag\n",
       "              <character>        <character> <character>\n",
       "    [1]              <NA>               <NA>        <NA>\n",
       "    [2]              <NA>               <NA>        <NA>\n",
       "    [3]              <NA>               <NA>        <NA>\n",
       "    [4]              <NA>               <NA>        <NA>\n",
       "    [5]              <NA>               <NA>        <NA>\n",
       "    ...               ...                ...         ...\n",
       "  [828]              <NA>               <NA>        <NA>\n",
       "  [829]              <NA>               <NA>        <NA>\n",
       "  [830]              <NA>               <NA>        <NA>\n",
       "  [831]              <NA>               <NA>        <NA>\n",
       "  [832]              <NA>               <NA>        <NA>\n",
       "        transcript_support_level exon_number     exon_id exon_version\n",
       "                     <character> <character> <character>  <character>\n",
       "    [1]                     <NA>        <NA>        <NA>         <NA>\n",
       "    [2]                     <NA>        <NA>        <NA>         <NA>\n",
       "    [3]                     <NA>        <NA>        <NA>         <NA>\n",
       "    [4]                     <NA>        <NA>        <NA>         <NA>\n",
       "    [5]                     <NA>        <NA>        <NA>         <NA>\n",
       "    ...                      ...         ...         ...          ...\n",
       "  [828]                     <NA>        <NA>        <NA>         <NA>\n",
       "  [829]                     <NA>        <NA>        <NA>         <NA>\n",
       "  [830]                     <NA>        <NA>        <NA>         <NA>\n",
       "  [831]                     <NA>        <NA>        <NA>         <NA>\n",
       "  [832]                     <NA>        <NA>        <NA>         <NA>\n",
       "         protein_id protein_version     ccds_id\n",
       "        <character>     <character> <character>\n",
       "    [1]        <NA>            <NA>        <NA>\n",
       "    [2]        <NA>            <NA>        <NA>\n",
       "    [3]        <NA>            <NA>        <NA>\n",
       "    [4]        <NA>            <NA>        <NA>\n",
       "    [5]        <NA>            <NA>        <NA>\n",
       "    ...         ...             ...         ...\n",
       "  [828]        <NA>            <NA>        <NA>\n",
       "  [829]        <NA>            <NA>        <NA>\n",
       "  [830]        <NA>            <NA>        <NA>\n",
       "  [831]        <NA>            <NA>        <NA>\n",
       "  [832]        <NA>            <NA>        <NA>\n",
       "  -------\n",
       "  seqinfo: 1 sequence from GRCh38 genome\n"
      ]
     },
     "metadata": {},
     "output_type": "display_data"
    }
   ],
   "source": [
    "# アノテーションの優先順を作る\n",
    "# [tss[], exon[], intron[]] の GRange オブジェクトのリストを作る\n",
    "annotation_list = GRangesList(\n",
    "  tss    = promoters(subset(gtf, type=='gene'), 1000, 1000),\n",
    "  exon   = subset(gtf, type=='exon'),\n",
    "  intron = subset(gtf, type=='gene')\n",
    ")\n",
    "annotation_list"
   ]
  },
  {
   "cell_type": "markdown",
   "metadata": {},
   "source": [
    "ピークにアノテーション情報を付与する関数を作る。\n",
    "1. ピーク領域を用意する(重なり合うピーク領域はマージする)。\n",
    "1. 各ピーク領域にアノテーション情報を付与する（ピークとアノテーションの overlap を見る）。\n",
    "1. 特定のピーク領域が複数のアノテーションに該当する場合は、優先度に応じてアノテーション情報をつける。\n",
    "1. 集計値を計算する。\n",
    "\n",
    "MEMO: ChIP-seq リードの分布を調べたときに作った関数を類似。"
   ]
  },
  {
   "cell_type": "code",
   "execution_count": 7,
   "metadata": {},
   "outputs": [],
   "source": [
    "# 各ピークにアノテーション情報を付与する関数\n",
    "annotatePeaks = function(peaks, annotation_list, name){\n",
    "  \n",
    "  # ------------------------------------------------ #\n",
    "  # 1. 重なり合うピーク領域はマージする\n",
    "  peaks = reduce(peaks)\n",
    "  \n",
    "  # ------------------------------------------------ #\n",
    "  # 2. 各ピーク領域にアノテーション情報を付与する（ピークとアノテーションの overlap を見る）\n",
    "  result = as.data.frame(findOverlaps(peaks, annotation_list))\n",
    "  \n",
    "  # ------------------------------------------------ #\n",
    "  # 3. アノテーション情報を各ピークにつける\n",
    "  result$annotation = names(annotation_list)[result$subjectHits]\n",
    "  \n",
    "  # 優先順位: TSS -> exon -> intron -> intergenic に基づいて並び替え\n",
    "  result = result[order(result$subjectHits),]    \n",
    "  \n",
    "  # 各ピーク、1種類のカテゴリーが選択されるように修正(1つのピークが複数のカテゴリーに分類されないようにする)\n",
    "  result = subset(result, !duplicated(queryHits))\n",
    "  \n",
    "  # ------------------------------------------------ #\n",
    "  # 4. 集計値を計算\n",
    "  # 各カテゴリーのピークをグルーピングする\n",
    "  result = group_by(.data = result, annotation)\n",
    "\n",
    "  # 各カテゴリーのリード総数を集計\n",
    "  result = summarise(.data = result, counts = length(annotation))\n",
    "  \n",
    "  # いずれのカテゴリーにも分類されなかったリードを 'intergenic' カテゴリーに分類する\n",
    "  result = rbind(result, \n",
    "                 data.frame(annotation = 'intergenic', \n",
    "                            counts     = length(peaks) - sum(result$counts)))\n",
    "  \n",
    "  # 頻度(%)を計算\n",
    "  result$frequency  = with(result, round(counts/sum(counts),2))\n",
    "    \n",
    "  # サンプル名を付加\n",
    "  result$experiment = name\n",
    "  \n",
    "  return(result)\n",
    "}"
   ]
  },
  {
   "cell_type": "code",
   "execution_count": 13,
   "metadata": {},
   "outputs": [],
   "source": [
    "# ChIP-seq のデータのルートパス\n",
    "data_path = \"../data/chip-seq\"\n",
    "\n",
    "# H3K36me3 の ChIP-seq データのファイルパスを取得\n",
    "h3k36_file    = file.path(data_path, 'GM12878_hg38_H3K36me3.chr21.bam')\n",
    "\n",
    "# CTCF データのファイルパスを取得\n",
    "ctcf_file = file.path(data_path, 'GM12878_hg38_CTCF_r1.chr21.bam')\n",
    "\n",
    "# Control データのファイル\n",
    "control_file = file.path(data_path, 'GM12878_hg38_Input_r5.chr21.bam')"
   ]
  },
  {
   "cell_type": "code",
   "execution_count": 11,
   "metadata": {},
   "outputs": [],
   "source": [
    "library(normr)"
   ]
  },
  {
   "cell_type": "code",
   "execution_count": 14,
   "metadata": {},
   "outputs": [
    {
     "name": "stderr",
     "output_type": "stream",
     "text": [
      "Warning message:\n",
      "“'fetchExtendedChromInfoFromUCSC' is deprecated.\n",
      "Use 'getChromInfoFromUCSC' instead.\n",
      "See help(\"Deprecated\")”\n",
      "Warning message in .local(bampath, gr, ...):\n",
      "“some ranges' widths are not a multiple of the selected\n",
      "             binsize, some bins will correspond to less than binsize basepairs”\n",
      "Warning message in .local(bampath, gr, ...):\n",
      "“some ranges' widths are not a multiple of the selected\n",
      "             binsize, some bins will correspond to less than binsize basepairs”\n"
     ]
    }
   ],
   "source": [
    "# Chip / Control サンプルを使って peak calling\n",
    "ctcf_fit = enrichR(\n",
    "    \n",
    "            # ChIP ファイル\n",
    "            treatment = ctcf_file,\n",
    "            \n",
    "            # Control ファイル\n",
    "            control   = control_file,\n",
    "            \n",
    "            # ヒトゲノムのバージョン\n",
    "            genome    = \"hg38\",\n",
    "            \n",
    "            # 途中経過のログを出力するかどうか\n",
    "            verbose   = FALSE)"
   ]
  },
  {
   "cell_type": "code",
   "execution_count": 15,
   "metadata": {},
   "outputs": [],
   "source": [
    "# window width を 5000bp に設定\n",
    "countConfiguration = countConfigSingleEnd(binsize = 5000)"
   ]
  },
  {
   "cell_type": "code",
   "execution_count": 16,
   "metadata": {},
   "outputs": [
    {
     "name": "stderr",
     "output_type": "stream",
     "text": [
      "Warning message:\n",
      "“'fetchExtendedChromInfoFromUCSC' is deprecated.\n",
      "Use 'getChromInfoFromUCSC' instead.\n",
      "See help(\"Deprecated\")”\n",
      "Warning message in .local(bampath, gr, ...):\n",
      "“some ranges' widths are not a multiple of the selected\n",
      "             binsize, some bins will correspond to less than binsize basepairs”\n",
      "Warning message in .local(bampath, gr, ...):\n",
      "“some ranges' widths are not a multiple of the selected\n",
      "             binsize, some bins will correspond to less than binsize basepairs”\n"
     ]
    }
   ],
   "source": [
    "# enrichR を使って broad peaks を同定する\n",
    "h3k36_fit = enrichR(\n",
    "            \n",
    "            # ChIP ファイル\n",
    "            treatment   = h3k36_file,\n",
    "            \n",
    "            # control ファイル\n",
    "            control     = control_file,\n",
    "            \n",
    "            # ゲノムバージョン\n",
    "            genome      = \"hg38\",\n",
    "            verbose     = FALSE,\n",
    "            \n",
    "            # window サイズ\n",
    "            countConfig = countConfiguration)"
   ]
  },
  {
   "cell_type": "code",
   "execution_count": 17,
   "metadata": {},
   "outputs": [],
   "source": [
    "# ピーク領域を GRanges オブジェクトとして取得\n",
    "ctcf_peaks = getRanges(ctcf_fit)\n",
    "h3k36_peaks = getRanges(h3k36_fit)"
   ]
  },
  {
   "cell_type": "code",
   "execution_count": 26,
   "metadata": {},
   "outputs": [
    {
     "data": {
      "text/plain": [
       "GRanges object with 724 ranges and 3 metadata columns:\n",
       "        seqnames            ranges strand | component       qvalue enrichment\n",
       "           <Rle>         <IRanges>  <Rle> | <integer>    <numeric>  <numeric>\n",
       "    [1]    chr21 43939251-43939500      * |         1 4.69882e-140    1.37891\n",
       "    [2]    chr21 43646751-43647000      * |         1 2.52006e-137    1.42361\n",
       "    [3]    chr21 43810751-43811000      * |         1 1.86405e-121    1.30519\n",
       "    [4]    chr21 43939001-43939250      * |         1 2.10822e-121    1.19820\n",
       "    [5]    chr21 37712251-37712500      * |         1 6.35712e-118    1.70989\n",
       "    ...      ...               ...    ... .       ...          ...        ...\n",
       "  [720]    chr21 38172001-38172250      * |         1   0.00867374   0.951189\n",
       "  [721]    chr21 38806001-38806250      * |         1   0.00867374   0.951189\n",
       "  [722]    chr21 42009501-42009750      * |         1   0.00867374   0.656253\n",
       "  [723]    chr21 46153001-46153250      * |         1   0.00867374   0.951189\n",
       "  [724]    chr21 46294751-46295000      * |         1   0.00867374   0.722822\n",
       "  -------\n",
       "  seqinfo: 24 sequences from an unspecified genome"
      ]
     },
     "metadata": {},
     "output_type": "display_data"
    }
   ],
   "source": [
    "# qvalue と enrichment を抽出し、先程作った GRange オブジェクトに列を追加\n",
    "ctcf_peaks$qvalue     = getQvalues(ctcf_fit)\n",
    "ctcf_peaks$enrichment = getEnrichment(ctcf_fit)\n",
    "\n",
    "# 適切な peaks を抽出\n",
    "# リード数が 0 カウントの領域をカットする(component 列が NA の領域をカット)\n",
    "ctcf_peaks = subset(ctcf_peaks, !is.na(component))\n",
    "\n",
    "# q value < 0.01 のデータのみ抽出\n",
    "ctcf_peaks = subset(ctcf_peaks, qvalue < 0.01)\n",
    "\n",
    "# q value が小さい順に並び替え\n",
    "ctcf_peaks = ctcf_peaks[order(ctcf_peaks$qvalue)]\n",
    "ctcf_peaks"
   ]
  },
  {
   "cell_type": "code",
   "execution_count": 27,
   "metadata": {},
   "outputs": [
    {
     "data": {
      "text/plain": [
       "GRanges object with 961 ranges and 3 metadata columns:\n",
       "        seqnames            ranges strand | component       qvalue enrichment\n",
       "           <Rle>         <IRanges>  <Rle> | <integer>    <numeric>  <numeric>\n",
       "    [1]    chr21 33550001-33555000      * |         1 7.70895e-214    1.76568\n",
       "    [2]    chr21 44900001-44905000      * |         1 4.91137e-172    1.90642\n",
       "    [3]    chr21 43685001-43690000      * |         1 5.01687e-170    1.98352\n",
       "    [4]    chr21 42850001-42855000      * |         1 3.27279e-168    1.84401\n",
       "    [5]    chr21 32345001-32350000      * |         1 8.44698e-160    1.97946\n",
       "    ...      ...               ...    ... .       ...          ...        ...\n",
       "  [957]    chr21 39835001-39840000      * |         1   0.00848161   0.610820\n",
       "  [958]    chr21 40940001-40945000      * |         1   0.00848161   0.610820\n",
       "  [959]    chr21   9620001-9625000      * |         1   0.00863593   1.586200\n",
       "  [960]    chr21 28535001-28540000      * |         1   0.00877135   0.585849\n",
       "  [961]    chr21 40085001-40090000      * |         1   0.00921305   0.655353\n",
       "  -------\n",
       "  seqinfo: 24 sequences from an unspecified genome"
      ]
     },
     "metadata": {},
     "output_type": "display_data"
    }
   ],
   "source": [
    "# qvalue と enrichment を抽出し、先程作った GRange オブジェクトに列を追加\n",
    "h3k36_peaks$qvalue     = getQvalues(h3k36_fit)\n",
    "h3k36_peaks$enrichment = getEnrichment(h3k36_fit)\n",
    "\n",
    "# 適切な peaks を抽出\n",
    "# リード数が 0 カウントの領域をカットする(component 列が NA の領域をカット)\n",
    "h3k36_peaks = subset(h3k36_peaks, !is.na(component))\n",
    "\n",
    "# q value < 0.01 のデータのみ抽出\n",
    "h3k36_peaks = subset(h3k36_peaks, qvalue < 0.01)\n",
    "\n",
    "# q value が小さい順に並び替え\n",
    "h3k36_peaks = h3k36_peaks[order(h3k36_peaks$qvalue)]\n",
    "h3k36_peaks"
   ]
  },
  {
   "cell_type": "code",
   "execution_count": 28,
   "metadata": {},
   "outputs": [],
   "source": [
    "# ピークのリストを作る\n",
    "peak_list = list(\n",
    "    CTCF     = ctcf_peaks, \n",
    "    H3K36me3 = h3k36_peaks\n",
    ")"
   ]
  },
  {
   "cell_type": "code",
   "execution_count": 29,
   "metadata": {},
   "outputs": [],
   "source": [
    "library(\"dplyr\")"
   ]
  },
  {
   "cell_type": "code",
   "execution_count": 30,
   "metadata": {},
   "outputs": [
    {
     "name": "stderr",
     "output_type": "stream",
     "text": [
      "`summarise()` ungrouping output (override with `.groups` argument)\n",
      "\n",
      "`summarise()` ungrouping output (override with `.groups` argument)\n",
      "\n"
     ]
    }
   ],
   "source": [
    "# annotatePeaks 関数を用いて、各アノテーションの分布を調べる\n",
    "annot_peaks_list = lapply(names(peak_list), function(peak_name){\n",
    "  annotatePeaks(peak_list[[peak_name]], annotation_list, peak_name)\n",
    "})"
   ]
  },
  {
   "cell_type": "code",
   "execution_count": 31,
   "metadata": {},
   "outputs": [
    {
     "data": {
      "text/html": [
       "<ol>\n",
       "\t<li><table>\n",
       "<caption>A tibble: 4 × 4</caption>\n",
       "<thead>\n",
       "\t<tr><th scope=col>annotation</th><th scope=col>counts</th><th scope=col>frequency</th><th scope=col>experiment</th></tr>\n",
       "\t<tr><th scope=col>&lt;chr&gt;</th><th scope=col>&lt;int&gt;</th><th scope=col>&lt;dbl&gt;</th><th scope=col>&lt;chr&gt;</th></tr>\n",
       "</thead>\n",
       "<tbody>\n",
       "\t<tr><td>exon      </td><td> 52</td><td>0.11</td><td>CTCF</td></tr>\n",
       "\t<tr><td>intron    </td><td>199</td><td>0.43</td><td>CTCF</td></tr>\n",
       "\t<tr><td>tss       </td><td> 72</td><td>0.15</td><td>CTCF</td></tr>\n",
       "\t<tr><td>intergenic</td><td>145</td><td>0.31</td><td>CTCF</td></tr>\n",
       "</tbody>\n",
       "</table>\n",
       "</li>\n",
       "\t<li><table>\n",
       "<caption>A tibble: 4 × 4</caption>\n",
       "<thead>\n",
       "\t<tr><th scope=col>annotation</th><th scope=col>counts</th><th scope=col>frequency</th><th scope=col>experiment</th></tr>\n",
       "\t<tr><th scope=col>&lt;chr&gt;</th><th scope=col>&lt;int&gt;</th><th scope=col>&lt;dbl&gt;</th><th scope=col>&lt;chr&gt;</th></tr>\n",
       "</thead>\n",
       "<tbody>\n",
       "\t<tr><td>exon      </td><td>173</td><td>0.38</td><td>H3K36me3</td></tr>\n",
       "\t<tr><td>intron    </td><td>116</td><td>0.25</td><td>H3K36me3</td></tr>\n",
       "\t<tr><td>tss       </td><td> 91</td><td>0.20</td><td>H3K36me3</td></tr>\n",
       "\t<tr><td>intergenic</td><td> 80</td><td>0.17</td><td>H3K36me3</td></tr>\n",
       "</tbody>\n",
       "</table>\n",
       "</li>\n",
       "</ol>\n"
      ],
      "text/latex": [
       "\\begin{enumerate}\n",
       "\\item A tibble: 4 × 4\n",
       "\\begin{tabular}{llll}\n",
       " annotation & counts & frequency & experiment\\\\\n",
       " <chr> & <int> & <dbl> & <chr>\\\\\n",
       "\\hline\n",
       "\t exon       &  52 & 0.11 & CTCF\\\\\n",
       "\t intron     & 199 & 0.43 & CTCF\\\\\n",
       "\t tss        &  72 & 0.15 & CTCF\\\\\n",
       "\t intergenic & 145 & 0.31 & CTCF\\\\\n",
       "\\end{tabular}\n",
       "\n",
       "\\item A tibble: 4 × 4\n",
       "\\begin{tabular}{llll}\n",
       " annotation & counts & frequency & experiment\\\\\n",
       " <chr> & <int> & <dbl> & <chr>\\\\\n",
       "\\hline\n",
       "\t exon       & 173 & 0.38 & H3K36me3\\\\\n",
       "\t intron     & 116 & 0.25 & H3K36me3\\\\\n",
       "\t tss        &  91 & 0.20 & H3K36me3\\\\\n",
       "\t intergenic &  80 & 0.17 & H3K36me3\\\\\n",
       "\\end{tabular}\n",
       "\n",
       "\\end{enumerate}\n"
      ],
      "text/markdown": [
       "1. \n",
       "A tibble: 4 × 4\n",
       "\n",
       "| annotation &lt;chr&gt; | counts &lt;int&gt; | frequency &lt;dbl&gt; | experiment &lt;chr&gt; |\n",
       "|---|---|---|---|\n",
       "| exon       |  52 | 0.11 | CTCF |\n",
       "| intron     | 199 | 0.43 | CTCF |\n",
       "| tss        |  72 | 0.15 | CTCF |\n",
       "| intergenic | 145 | 0.31 | CTCF |\n",
       "\n",
       "\n",
       "2. \n",
       "A tibble: 4 × 4\n",
       "\n",
       "| annotation &lt;chr&gt; | counts &lt;int&gt; | frequency &lt;dbl&gt; | experiment &lt;chr&gt; |\n",
       "|---|---|---|---|\n",
       "| exon       | 173 | 0.38 | H3K36me3 |\n",
       "| intron     | 116 | 0.25 | H3K36me3 |\n",
       "| tss        |  91 | 0.20 | H3K36me3 |\n",
       "| intergenic |  80 | 0.17 | H3K36me3 |\n",
       "\n",
       "\n",
       "\n",
       "\n"
      ],
      "text/plain": [
       "[[1]]\n",
       "\u001b[38;5;246m# A tibble: 4 x 4\u001b[39m\n",
       "  annotation counts frequency experiment\n",
       "  \u001b[3m\u001b[38;5;246m<chr>\u001b[39m\u001b[23m       \u001b[3m\u001b[38;5;246m<int>\u001b[39m\u001b[23m     \u001b[3m\u001b[38;5;246m<dbl>\u001b[39m\u001b[23m \u001b[3m\u001b[38;5;246m<chr>\u001b[39m\u001b[23m     \n",
       "\u001b[38;5;250m1\u001b[39m exon           52      0.11 CTCF      \n",
       "\u001b[38;5;250m2\u001b[39m intron        199      0.43 CTCF      \n",
       "\u001b[38;5;250m3\u001b[39m tss            72      0.15 CTCF      \n",
       "\u001b[38;5;250m4\u001b[39m intergenic    145      0.31 CTCF      \n",
       "\n",
       "[[2]]\n",
       "\u001b[38;5;246m# A tibble: 4 x 4\u001b[39m\n",
       "  annotation counts frequency experiment\n",
       "  \u001b[3m\u001b[38;5;246m<chr>\u001b[39m\u001b[23m       \u001b[3m\u001b[38;5;246m<int>\u001b[39m\u001b[23m     \u001b[3m\u001b[38;5;246m<dbl>\u001b[39m\u001b[23m \u001b[3m\u001b[38;5;246m<chr>\u001b[39m\u001b[23m     \n",
       "\u001b[38;5;250m1\u001b[39m exon          173      0.38 H3K36me3  \n",
       "\u001b[38;5;250m2\u001b[39m intron        116      0.25 H3K36me3  \n",
       "\u001b[38;5;250m3\u001b[39m tss            91      0.2  H3K36me3  \n",
       "\u001b[38;5;250m4\u001b[39m intergenic     80      0.17 H3K36me3  \n"
      ]
     },
     "metadata": {},
     "output_type": "display_data"
    }
   ],
   "source": [
    "annot_peaks_list"
   ]
  },
  {
   "cell_type": "code",
   "execution_count": 36,
   "metadata": {},
   "outputs": [],
   "source": [
    "# 1つの data.frame に統合\n",
    "annot_peaks_df = dplyr::bind_rows(annot_peaks_list)"
   ]
  },
  {
   "cell_type": "code",
   "execution_count": 34,
   "metadata": {},
   "outputs": [],
   "source": [
    "library(\"ggplot2\")"
   ]
  },
  {
   "cell_type": "code",
   "execution_count": 37,
   "metadata": {},
   "outputs": [
    {
     "data": {
      "image/png": "[encoded data removed]",
      "text/plain": [
       "plot without title"
      ]
     },
     "metadata": {
      "image/png": {
       "height": 420,
       "width": 420
      }
     },
     "output_type": "display_data"
    }
   ],
   "source": [
    "# ピークの分布を可視化\n",
    "ggplot(data = annot_peaks_df, \n",
    "       aes(\n",
    "           x    = experiment, \n",
    "           y    = frequency, \n",
    "           fill = annotation\n",
    "        )) +\n",
    "  geom_bar(stat='identity') +\n",
    "  scale_fill_brewer(palette='Set2') +\n",
    "  theme_bw()+\n",
    "  theme(\n",
    "    axis.text = element_text(size=18, face='bold'),\n",
    "    axis.title = element_text(size=14,face=\"bold\"),\n",
    "    plot.title = element_text(hjust = 0.5))  +\n",
    "  ggtitle('Peak distribution in\\ngenomic regions') +\n",
    "  xlab('Experiment') +\n",
    "  ylab('Frequency')"
   ]
  },
  {
   "cell_type": "code",
   "execution_count": null,
   "metadata": {},
   "outputs": [],
   "source": []
  }
 ],
 "metadata": {
  "kernelspec": {
   "display_name": "R",
   "language": "R",
   "name": "ir"
  },
  "language_info": {
   "codemirror_mode": "r",
   "file_extension": ".r",
   "mimetype": "text/x-r-source",
   "name": "R",
   "pygments_lexer": "r",
   "version": "4.0.3"
  }
 },
 "nbformat": 4,
 "nbformat_minor": 4
}
