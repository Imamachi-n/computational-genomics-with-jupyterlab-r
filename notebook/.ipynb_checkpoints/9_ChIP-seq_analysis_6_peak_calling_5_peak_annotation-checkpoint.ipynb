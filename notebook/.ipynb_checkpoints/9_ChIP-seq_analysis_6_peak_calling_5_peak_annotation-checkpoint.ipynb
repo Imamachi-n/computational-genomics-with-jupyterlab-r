{
 "cells": [
  {
   "cell_type": "markdown",
   "metadata": {},
   "source": [
    "# 9.ChIP-seq\n",
    "## 9.6 Peak calling\n",
    "### 9.6.5 Peak annotation\n"
   ]
  },
  {
   "cell_type": "code",
   "execution_count": null,
   "metadata": {},
   "outputs": [],
   "source": []
  }
 ],
 "metadata": {
  "kernelspec": {
   "display_name": "R",
   "language": "R",
   "name": "ir"
  },
  "language_info": {
   "codemirror_mode": "r",
   "file_extension": ".r",
   "mimetype": "text/x-r-source",
   "name": "R",
   "pygments_lexer": "r",
   "version": "4.0.3"
  }
 },
 "nbformat": 4,
 "nbformat_minor": 4
}
