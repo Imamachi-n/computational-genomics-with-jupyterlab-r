{
 "cells": [
  {
   "cell_type": "markdown",
   "metadata": {},
   "source": [
    "# 9.ChIP-seq\n",
    "## 9.6 Peak calling\n",
    "### 9.6.4 Peak quality control\n",
    "input サンプルの seq depth が十分でない場合、誤って enriched regions を同定してしまう可能性がある。\n",
    "TF ChIP-seq の場合、TF モチーフ配列が存在するかどうかも、データの品質に問題ないかどうかを判断する重要な指標となる。"
   ]
  },
  {
   "cell_type": "markdown",
   "metadata": {},
   "source": [
    "#### 9.6.4.1 ピークのリード数の割合"
   ]
  },
  {
   "cell_type": "code",
   "execution_count": 1,
   "metadata": {},
   "outputs": [],
   "source": [
    "# ChIP-seq のデータのルートパス\n",
    "data_path = \"../data/chip-seq\"\n",
    "\n",
    "# H3K36me3 の ChIP-seq データのファイルパスを取得\n",
    "chip_file    = file.path(data_path, 'GM12878_hg38_H3K36me3.chr21.bam')\n",
    "\n",
    "# input データのファイルパスを取得\n",
    "control_file = file.path(data_path, 'GM12878_hg38_Input_r5.chr21.bam')"
   ]
  },
  {
   "cell_type": "code",
   "execution_count": 3,
   "metadata": {},
   "outputs": [],
   "source": [
    "library(normr)"
   ]
  },
  {
   "cell_type": "code",
   "execution_count": 4,
   "metadata": {},
   "outputs": [
    {
     "name": "stderr",
     "output_type": "stream",
     "text": [
      "Warning message:\n",
      "“'fetchExtendedChromInfoFromUCSC' is deprecated.\n",
      "Use 'getChromInfoFromUCSC' instead.\n",
      "See help(\"Deprecated\")”\n",
      "Warning message in .local(bampath, gr, ...):\n",
      "“some ranges' widths are not a multiple of the selected\n",
      "             binsize, some bins will correspond to less than binsize basepairs”\n",
      "Warning message in .local(bampath, gr, ...):\n",
      "“some ranges' widths are not a multiple of the selected\n",
      "             binsize, some bins will correspond to less than binsize basepairs”\n"
     ]
    }
   ],
   "source": [
    "# window width を 5000bp に設定\n",
    "countConfiguration = countConfigSingleEnd(binsize = 5000)\n",
    "\n",
    "# enrichR を使って broad peaks を同定する\n",
    "h3k36_fit = enrichR(\n",
    "            \n",
    "            # ChIP ファイル\n",
    "            treatment   = chip_file,\n",
    "            \n",
    "            # control ファイル\n",
    "            control     = control_file,\n",
    "            \n",
    "            # ゲノムバージョン\n",
    "            genome      = \"hg38\",\n",
    "            verbose     = FALSE,\n",
    "            \n",
    "            # window サイズ\n",
    "            countConfig = countConfiguration)"
   ]
  },
  {
   "cell_type": "code",
   "execution_count": 5,
   "metadata": {},
   "outputs": [],
   "source": [
    "# tilling window ごとのリード数を取得(data.frame に変換)\n",
    "h3k36_counts = data.frame(getCounts(h3k36_fit))"
   ]
  },
  {
   "cell_type": "code",
   "execution_count": 9,
   "metadata": {},
   "outputs": [],
   "source": [
    "# カラム名を変更\n",
    "colnames(h3k36_counts) = c('Input','H3K36me3')"
   ]
  },
  {
   "cell_type": "code",
   "execution_count": 10,
   "metadata": {},
   "outputs": [],
   "source": [
    "# q-value を取得\n",
    "h3k36_counts$qvalue = getQvalues(h3k36_fit)"
   ]
  },
  {
   "cell_type": "code",
   "execution_count": 11,
   "metadata": {},
   "outputs": [],
   "source": [
    "# dq value cutoff を使って、各 window 領域がピークかどうか定義\n",
    "h3k36_counts$enriched[is.na(h3k36_counts$qvalue)]  = 'Not Peak'\n",
    "h3k36_counts$enriched[h3k36_counts$qvalue > 0.05]  = 'Not Peak'\n",
    "h3k36_counts$enriched[h3k36_counts$qvalue <= 0.05] = 'Peak'"
   ]
  },
  {
   "cell_type": "code",
   "execution_count": 24,
   "metadata": {},
   "outputs": [
    {
     "data": {
      "text/html": [
       "<table>\n",
       "<caption>A data.frame: 5 × 3</caption>\n",
       "<thead>\n",
       "\t<tr><th></th><th scope=col>Input</th><th scope=col>H3K36me3</th><th scope=col>enriched</th></tr>\n",
       "\t<tr><th></th><th scope=col>&lt;int&gt;</th><th scope=col>&lt;int&gt;</th><th scope=col>&lt;chr&gt;</th></tr>\n",
       "</thead>\n",
       "<tbody>\n",
       "\t<tr><th scope=row>1500</th><td>0</td><td>0</td><td>Not Peak</td></tr>\n",
       "\t<tr><th scope=row>1501</th><td>0</td><td>0</td><td>Not Peak</td></tr>\n",
       "\t<tr><th scope=row>1502</th><td>0</td><td>0</td><td>Not Peak</td></tr>\n",
       "\t<tr><th scope=row>1503</th><td>0</td><td>0</td><td>Not Peak</td></tr>\n",
       "\t<tr><th scope=row>1504</th><td>0</td><td>0</td><td>Not Peak</td></tr>\n",
       "</tbody>\n",
       "</table>\n"
      ],
      "text/latex": [
       "A data.frame: 5 × 3\n",
       "\\begin{tabular}{r|lll}\n",
       "  & Input & H3K36me3 & enriched\\\\\n",
       "  & <int> & <int> & <chr>\\\\\n",
       "\\hline\n",
       "\t1500 & 0 & 0 & Not Peak\\\\\n",
       "\t1501 & 0 & 0 & Not Peak\\\\\n",
       "\t1502 & 0 & 0 & Not Peak\\\\\n",
       "\t1503 & 0 & 0 & Not Peak\\\\\n",
       "\t1504 & 0 & 0 & Not Peak\\\\\n",
       "\\end{tabular}\n"
      ],
      "text/markdown": [
       "\n",
       "A data.frame: 5 × 3\n",
       "\n",
       "| <!--/--> | Input &lt;int&gt; | H3K36me3 &lt;int&gt; | enriched &lt;chr&gt; |\n",
       "|---|---|---|---|\n",
       "| 1500 | 0 | 0 | Not Peak |\n",
       "| 1501 | 0 | 0 | Not Peak |\n",
       "| 1502 | 0 | 0 | Not Peak |\n",
       "| 1503 | 0 | 0 | Not Peak |\n",
       "| 1504 | 0 | 0 | Not Peak |\n",
       "\n"
      ],
      "text/plain": [
       "     Input H3K36me3 enriched\n",
       "1500 0     0        Not Peak\n",
       "1501 0     0        Not Peak\n",
       "1502 0     0        Not Peak\n",
       "1503 0     0        Not Peak\n",
       "1504 0     0        Not Peak"
      ]
     },
     "metadata": {},
     "output_type": "display_data"
    }
   ],
   "source": [
    "# q value カラムを削除\n",
    "h3k36_counts$qvalue = NULL\n",
    "h3k36_counts[1500:1504,]"
   ]
  },
  {
   "cell_type": "code",
   "execution_count": 13,
   "metadata": {},
   "outputs": [],
   "source": [
    "library(\"tidyr\")"
   ]
  },
  {
   "cell_type": "code",
   "execution_count": 19,
   "metadata": {},
   "outputs": [],
   "source": [
    "# data.frame を整形\n",
    "h3k36_counts_df = tidyr::pivot_longer(\n",
    "    data      = h3k36_counts, \n",
    "    cols      = -enriched,\n",
    "    names_to  = 'experiment',\n",
    "    values_to = 'counts'\n",
    ")"
   ]
  },
  {
   "cell_type": "code",
   "execution_count": 21,
   "metadata": {},
   "outputs": [
    {
     "data": {
      "text/html": [
       "<table>\n",
       "<caption>A tibble: 5 × 3</caption>\n",
       "<thead>\n",
       "\t<tr><th scope=col>enriched</th><th scope=col>experiment</th><th scope=col>counts</th></tr>\n",
       "\t<tr><th scope=col>&lt;chr&gt;</th><th scope=col>&lt;chr&gt;</th><th scope=col>&lt;int&gt;</th></tr>\n",
       "</thead>\n",
       "<tbody>\n",
       "\t<tr><td>Not Peak</td><td>H3K36me3</td><td>0</td></tr>\n",
       "\t<tr><td>Not Peak</td><td>Input   </td><td>0</td></tr>\n",
       "\t<tr><td>Not Peak</td><td>H3K36me3</td><td>0</td></tr>\n",
       "\t<tr><td>Not Peak</td><td>Input   </td><td>0</td></tr>\n",
       "\t<tr><td>Not Peak</td><td>H3K36me3</td><td>0</td></tr>\n",
       "</tbody>\n",
       "</table>\n"
      ],
      "text/latex": [
       "A tibble: 5 × 3\n",
       "\\begin{tabular}{lll}\n",
       " enriched & experiment & counts\\\\\n",
       " <chr> & <chr> & <int>\\\\\n",
       "\\hline\n",
       "\t Not Peak & H3K36me3 & 0\\\\\n",
       "\t Not Peak & Input    & 0\\\\\n",
       "\t Not Peak & H3K36me3 & 0\\\\\n",
       "\t Not Peak & Input    & 0\\\\\n",
       "\t Not Peak & H3K36me3 & 0\\\\\n",
       "\\end{tabular}\n"
      ],
      "text/markdown": [
       "\n",
       "A tibble: 5 × 3\n",
       "\n",
       "| enriched &lt;chr&gt; | experiment &lt;chr&gt; | counts &lt;int&gt; |\n",
       "|---|---|---|\n",
       "| Not Peak | H3K36me3 | 0 |\n",
       "| Not Peak | Input    | 0 |\n",
       "| Not Peak | H3K36me3 | 0 |\n",
       "| Not Peak | Input    | 0 |\n",
       "| Not Peak | H3K36me3 | 0 |\n",
       "\n"
      ],
      "text/plain": [
       "  enriched experiment counts\n",
       "1 Not Peak H3K36me3   0     \n",
       "2 Not Peak Input      0     \n",
       "3 Not Peak H3K36me3   0     \n",
       "4 Not Peak Input      0     \n",
       "5 Not Peak H3K36me3   0     "
      ]
     },
     "metadata": {},
     "output_type": "display_data"
    }
   ],
   "source": [
    "h3k36_counts_df[300:304,]"
   ]
  },
  {
   "cell_type": "code",
   "execution_count": 27,
   "metadata": {},
   "outputs": [],
   "source": [
    "library(\"dplyr\")"
   ]
  },
  {
   "cell_type": "code",
   "execution_count": 28,
   "metadata": {},
   "outputs": [],
   "source": [
    "# enriched(ピーク領域 or それ以外の領域)と experiment(H3K36me3 or Input) でグループ化\n",
    "h3k36_counts_df = group_by(.data = h3k36_counts_df, experiment, enriched)"
   ]
  },
  {
   "cell_type": "code",
   "execution_count": 31,
   "metadata": {},
   "outputs": [
    {
     "name": "stderr",
     "output_type": "stream",
     "text": [
      "`summarise()` regrouping output by 'experiment' (override with `.groups` argument)\n",
      "\n"
     ]
    }
   ],
   "source": [
    "# ピーク領域 or それ以外の領域のリード数の合計を取得\n",
    "h3k36_counts_df = summarize(.data = h3k36_counts_df, num_of_reads = sum(counts))"
   ]
  },
  {
   "cell_type": "code",
   "execution_count": 32,
   "metadata": {},
   "outputs": [
    {
     "data": {
      "text/html": [
       "<table>\n",
       "<caption>A grouped_df: 4 × 3</caption>\n",
       "<thead>\n",
       "\t<tr><th scope=col>experiment</th><th scope=col>enriched</th><th scope=col>num_of_reads</th></tr>\n",
       "\t<tr><th scope=col>&lt;chr&gt;</th><th scope=col>&lt;chr&gt;</th><th scope=col>&lt;int&gt;</th></tr>\n",
       "</thead>\n",
       "<tbody>\n",
       "\t<tr><td>H3K36me3</td><td>Not Peak</td><td> 67623</td></tr>\n",
       "\t<tr><td>H3K36me3</td><td>Peak    </td><td> 90993</td></tr>\n",
       "\t<tr><td>Input   </td><td>Not Peak</td><td>492369</td></tr>\n",
       "\t<tr><td>Input   </td><td>Peak    </td><td>155827</td></tr>\n",
       "</tbody>\n",
       "</table>\n"
      ],
      "text/latex": [
       "A grouped\\_df: 4 × 3\n",
       "\\begin{tabular}{lll}\n",
       " experiment & enriched & num\\_of\\_reads\\\\\n",
       " <chr> & <chr> & <int>\\\\\n",
       "\\hline\n",
       "\t H3K36me3 & Not Peak &  67623\\\\\n",
       "\t H3K36me3 & Peak     &  90993\\\\\n",
       "\t Input    & Not Peak & 492369\\\\\n",
       "\t Input    & Peak     & 155827\\\\\n",
       "\\end{tabular}\n"
      ],
      "text/markdown": [
       "\n",
       "A grouped_df: 4 × 3\n",
       "\n",
       "| experiment &lt;chr&gt; | enriched &lt;chr&gt; | num_of_reads &lt;int&gt; |\n",
       "|---|---|---|\n",
       "| H3K36me3 | Not Peak |  67623 |\n",
       "| H3K36me3 | Peak     |  90993 |\n",
       "| Input    | Not Peak | 492369 |\n",
       "| Input    | Peak     | 155827 |\n",
       "\n"
      ],
      "text/plain": [
       "  experiment enriched num_of_reads\n",
       "1 H3K36me3   Not Peak  67623      \n",
       "2 H3K36me3   Peak      90993      \n",
       "3 Input      Not Peak 492369      \n",
       "4 Input      Peak     155827      "
      ]
     },
     "metadata": {},
     "output_type": "display_data"
    }
   ],
   "source": [
    "h3k36_counts_df"
   ]
  },
  {
   "cell_type": "code",
   "execution_count": 33,
   "metadata": {},
   "outputs": [],
   "source": [
    "# experiment(H3K36me3 or Input) でグループ化\n",
    "h3k36_counts_df = group_by(.data = h3k36_counts_df, experiment)"
   ]
  },
  {
   "cell_type": "code",
   "execution_count": 34,
   "metadata": {},
   "outputs": [],
   "source": [
    "# Total リード数を列として追加\n",
    "h3k36_counts_df = mutate(.data = h3k36_counts_df, total=sum(num_of_reads))"
   ]
  },
  {
   "cell_type": "code",
   "execution_count": 35,
   "metadata": {},
   "outputs": [
    {
     "data": {
      "text/html": [
       "<table>\n",
       "<caption>A grouped_df: 4 × 4</caption>\n",
       "<thead>\n",
       "\t<tr><th scope=col>experiment</th><th scope=col>enriched</th><th scope=col>num_of_reads</th><th scope=col>total</th></tr>\n",
       "\t<tr><th scope=col>&lt;chr&gt;</th><th scope=col>&lt;chr&gt;</th><th scope=col>&lt;int&gt;</th><th scope=col>&lt;int&gt;</th></tr>\n",
       "</thead>\n",
       "<tbody>\n",
       "\t<tr><td>H3K36me3</td><td>Not Peak</td><td> 67623</td><td>158616</td></tr>\n",
       "\t<tr><td>H3K36me3</td><td>Peak    </td><td> 90993</td><td>158616</td></tr>\n",
       "\t<tr><td>Input   </td><td>Not Peak</td><td>492369</td><td>648196</td></tr>\n",
       "\t<tr><td>Input   </td><td>Peak    </td><td>155827</td><td>648196</td></tr>\n",
       "</tbody>\n",
       "</table>\n"
      ],
      "text/latex": [
       "A grouped\\_df: 4 × 4\n",
       "\\begin{tabular}{llll}\n",
       " experiment & enriched & num\\_of\\_reads & total\\\\\n",
       " <chr> & <chr> & <int> & <int>\\\\\n",
       "\\hline\n",
       "\t H3K36me3 & Not Peak &  67623 & 158616\\\\\n",
       "\t H3K36me3 & Peak     &  90993 & 158616\\\\\n",
       "\t Input    & Not Peak & 492369 & 648196\\\\\n",
       "\t Input    & Peak     & 155827 & 648196\\\\\n",
       "\\end{tabular}\n"
      ],
      "text/markdown": [
       "\n",
       "A grouped_df: 4 × 4\n",
       "\n",
       "| experiment &lt;chr&gt; | enriched &lt;chr&gt; | num_of_reads &lt;int&gt; | total &lt;int&gt; |\n",
       "|---|---|---|---|\n",
       "| H3K36me3 | Not Peak |  67623 | 158616 |\n",
       "| H3K36me3 | Peak     |  90993 | 158616 |\n",
       "| Input    | Not Peak | 492369 | 648196 |\n",
       "| Input    | Peak     | 155827 | 648196 |\n",
       "\n"
      ],
      "text/plain": [
       "  experiment enriched num_of_reads total \n",
       "1 H3K36me3   Not Peak  67623       158616\n",
       "2 H3K36me3   Peak      90993       158616\n",
       "3 Input      Not Peak 492369       648196\n",
       "4 Input      Peak     155827       648196"
      ]
     },
     "metadata": {},
     "output_type": "display_data"
    }
   ],
   "source": [
    "h3k36_counts_df"
   ]
  },
  {
   "cell_type": "code",
   "execution_count": 36,
   "metadata": {},
   "outputs": [],
   "source": [
    "# リード数の割合を列として追加\n",
    "h3k36_counts_df$percentage = with(h3k36_counts_df, round(num_of_reads/total,2))"
   ]
  },
  {
   "cell_type": "code",
   "execution_count": 37,
   "metadata": {},
   "outputs": [
    {
     "data": {
      "text/html": [
       "<table>\n",
       "<caption>A grouped_df: 4 × 5</caption>\n",
       "<thead>\n",
       "\t<tr><th scope=col>experiment</th><th scope=col>enriched</th><th scope=col>num_of_reads</th><th scope=col>total</th><th scope=col>percentage</th></tr>\n",
       "\t<tr><th scope=col>&lt;chr&gt;</th><th scope=col>&lt;chr&gt;</th><th scope=col>&lt;int&gt;</th><th scope=col>&lt;int&gt;</th><th scope=col>&lt;dbl&gt;</th></tr>\n",
       "</thead>\n",
       "<tbody>\n",
       "\t<tr><td>H3K36me3</td><td>Not Peak</td><td> 67623</td><td>158616</td><td>0.43</td></tr>\n",
       "\t<tr><td>H3K36me3</td><td>Peak    </td><td> 90993</td><td>158616</td><td>0.57</td></tr>\n",
       "\t<tr><td>Input   </td><td>Not Peak</td><td>492369</td><td>648196</td><td>0.76</td></tr>\n",
       "\t<tr><td>Input   </td><td>Peak    </td><td>155827</td><td>648196</td><td>0.24</td></tr>\n",
       "</tbody>\n",
       "</table>\n"
      ],
      "text/latex": [
       "A grouped\\_df: 4 × 5\n",
       "\\begin{tabular}{lllll}\n",
       " experiment & enriched & num\\_of\\_reads & total & percentage\\\\\n",
       " <chr> & <chr> & <int> & <int> & <dbl>\\\\\n",
       "\\hline\n",
       "\t H3K36me3 & Not Peak &  67623 & 158616 & 0.43\\\\\n",
       "\t H3K36me3 & Peak     &  90993 & 158616 & 0.57\\\\\n",
       "\t Input    & Not Peak & 492369 & 648196 & 0.76\\\\\n",
       "\t Input    & Peak     & 155827 & 648196 & 0.24\\\\\n",
       "\\end{tabular}\n"
      ],
      "text/markdown": [
       "\n",
       "A grouped_df: 4 × 5\n",
       "\n",
       "| experiment &lt;chr&gt; | enriched &lt;chr&gt; | num_of_reads &lt;int&gt; | total &lt;int&gt; | percentage &lt;dbl&gt; |\n",
       "|---|---|---|---|---|\n",
       "| H3K36me3 | Not Peak |  67623 | 158616 | 0.43 |\n",
       "| H3K36me3 | Peak     |  90993 | 158616 | 0.57 |\n",
       "| Input    | Not Peak | 492369 | 648196 | 0.76 |\n",
       "| Input    | Peak     | 155827 | 648196 | 0.24 |\n",
       "\n"
      ],
      "text/plain": [
       "  experiment enriched num_of_reads total  percentage\n",
       "1 H3K36me3   Not Peak  67623       158616 0.43      \n",
       "2 H3K36me3   Peak      90993       158616 0.57      \n",
       "3 Input      Not Peak 492369       648196 0.76      \n",
       "4 Input      Peak     155827       648196 0.24      "
      ]
     },
     "metadata": {},
     "output_type": "display_data"
    }
   ],
   "source": [
    "h3k36_counts_df"
   ]
  },
  {
   "cell_type": "code",
   "execution_count": 38,
   "metadata": {},
   "outputs": [],
   "source": [
    "library(\"ggplot2\")"
   ]
  },
  {
   "cell_type": "code",
   "execution_count": 51,
   "metadata": {},
   "outputs": [
    {
     "data": {
      "image/png": "[encoded data removed]",
      "text/plain": [
       "plot without title"
      ]
     },
     "metadata": {
      "image/png": {
       "height": 420,
       "width": 420
      }
     },
     "output_type": "display_data"
    }
   ],
   "source": [
    "ggplot(\n",
    "    data = h3k36_counts_df, \n",
    "    aes(\n",
    "        x = experiment, \n",
    "        y = percentage, \n",
    "        fill = enriched\n",
    "    )) +\n",
    "    geom_bar(stat='identity', position='fill') +\n",
    "    theme_bw() +\n",
    "    theme(\n",
    "        axis.text = element_text(size=16, face='bold'),\n",
    "        axis.title = element_text(size=18,face=\"bold\"),\n",
    "        plot.title = element_text(size=18,hjust = 0.5),\n",
    "        legend.text=element_text(size=12)) +\n",
    "    xlab('Experiment') +\n",
    "    ylab('Percetage of reads in region') +\n",
    "    ggtitle('Percentage of reads in peaks for H3K36me3') +\n",
    "    scale_fill_manual(values=c('gray','red'))"
   ]
  },
  {
   "cell_type": "markdown",
   "metadata": {},
   "source": [
    "ピーク領域で Input のリード数よりも H3K36me3 のリード数のほうが多い。  \n",
    "リード数の割合は、抗体の質にも依存している。"
   ]
  },
  {
   "cell_type": "code",
   "execution_count": null,
   "metadata": {},
   "outputs": [],
   "source": []
  }
 ],
 "metadata": {
  "kernelspec": {
   "display_name": "R",
   "language": "R",
   "name": "ir"
  },
  "language_info": {
   "codemirror_mode": "r",
   "file_extension": ".r",
   "mimetype": "text/x-r-source",
   "name": "R",
   "pygments_lexer": "r",
   "version": "4.0.3"
  }
 },
 "nbformat": 4,
 "nbformat_minor": 4
}
