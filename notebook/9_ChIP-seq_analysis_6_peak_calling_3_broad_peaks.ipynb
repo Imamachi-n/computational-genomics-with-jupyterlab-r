{
 "cells": [
  {
   "cell_type": "markdown",
   "metadata": {},
   "source": [
    "# 9.ChIP-seq\n",
    "## 9.6 Peak calling\n",
    "### 9.6.3 Peak calling: Broad regions\n",
    "sharp / broad ピークの両方を検出するために `normR` ライブラリをここでは使用する。"
   ]
  },
  {
   "cell_type": "code",
   "execution_count": 3,
   "metadata": {},
   "outputs": [],
   "source": [
    "# ChIP-seq のデータのルートパス\n",
    "data_path = \"../data/chip-seq\"\n",
    "\n",
    "# H3K36me3 の ChIP-seq データのファイルパスを取得\n",
    "chip_file    = file.path(data_path, 'GM12878_hg38_H3K36me3.chr21.bam')\n",
    "\n",
    "# input データのファイルパスを取得\n",
    "control_file = file.path(data_path, 'GM12878_hg38_Input_r5.chr21.bam')"
   ]
  },
  {
   "cell_type": "code",
   "execution_count": 5,
   "metadata": {},
   "outputs": [],
   "source": [
    "library(normr)"
   ]
  },
  {
   "cell_type": "code",
   "execution_count": 6,
   "metadata": {},
   "outputs": [],
   "source": [
    "# window width を 5000bp に設定\n",
    "countConfiguration = countConfigSingleEnd(binsize = 5000)"
   ]
  },
  {
   "cell_type": "code",
   "execution_count": 7,
   "metadata": {},
   "outputs": [
    {
     "name": "stderr",
     "output_type": "stream",
     "text": [
      "Warning message:\n",
      "“'fetchExtendedChromInfoFromUCSC' is deprecated.\n",
      "Use 'getChromInfoFromUCSC' instead.\n",
      "See help(\"Deprecated\")”\n",
      "Warning message in .local(bampath, gr, ...):\n",
      "“some ranges' widths are not a multiple of the selected\n",
      "             binsize, some bins will correspond to less than binsize basepairs”\n",
      "Warning message in .local(bampath, gr, ...):\n",
      "“some ranges' widths are not a multiple of the selected\n",
      "             binsize, some bins will correspond to less than binsize basepairs”\n"
     ]
    }
   ],
   "source": [
    "# enrichR を使って broad peaks を同定する\n",
    "h3k36_fit = enrichR(\n",
    "            \n",
    "            # ChIP ファイル\n",
    "            treatment   = chip_file,\n",
    "            \n",
    "            # control ファイル\n",
    "            control     = control_file,\n",
    "            \n",
    "            # ゲノムバージョン\n",
    "            genome      = \"hg38\",\n",
    "            verbose     = FALSE,\n",
    "            \n",
    "            # window サイズ\n",
    "            countConfig = countConfiguration)"
   ]
  },
  {
   "cell_type": "code",
   "execution_count": 8,
   "metadata": {},
   "outputs": [
    {
     "name": "stdout",
     "output_type": "stream",
     "text": [
      "NormRFit-class object\n",
      "\n",
      "Type:                  'enrichR'\n",
      "Number of Regions:     617665\n",
      "Number of Components:  2\n",
      "Theta* (naive bg):     0.197\n",
      "Background component B: 1\n",
      "\n",
      "+++ Results of fit +++ \n",
      "Mixture Proportions:\n",
      "Background       Class 1    \n",
      "     85.4%         14.6%    \n",
      "Theta:\n",
      "Background       Class 1    \n",
      "     0.138         0.442    \n",
      "\n",
      "Bayesian Information Criterion:\t741525\n",
      "\n",
      "+++ Results of binomial test +++ \n",
      "T-Filter threshold: 5\n",
      "Number of Regions filtered out: 610736\n",
      "Significantly different from background B based on q-values:\n",
      "TOTAL:\n",
      "          ***       **        *        .              n.s.\n",
      "Bins        0     1005      314      381      237     4992\n",
      "%        0.00     9.18    12.04    15.52    17.68    45.58\n",
      "---\n",
      "Signif. codes:  0 '***' 0.001 '**' 0.01 '*' 0.05 '.' 0.1 '  ' 1 'n.s.'\n",
      "\n"
     ]
    }
   ],
   "source": [
    "# Summary データを見てみる\n",
    "summary(h3k36_fit)"
   ]
  },
  {
   "cell_type": "markdown",
   "metadata": {},
   "source": [
    "同定されたピークを可視化する"
   ]
  },
  {
   "cell_type": "code",
   "execution_count": 9,
   "metadata": {},
   "outputs": [
    {
     "data": {
      "text/plain": [
       "GRanges object with 617665 ranges and 1 metadata column:\n",
       "           seqnames            ranges strand | component\n",
       "              <Rle>         <IRanges>  <Rle> | <integer>\n",
       "       [1]     chr1            1-5000      * |      <NA>\n",
       "       [2]     chr1        5001-10000      * |      <NA>\n",
       "       [3]     chr1       10001-15000      * |      <NA>\n",
       "       [4]     chr1       15001-20000      * |      <NA>\n",
       "       [5]     chr1       20001-25000      * |      <NA>\n",
       "       ...      ...               ...    ... .       ...\n",
       "  [617661]     chrY 57205001-57210000      * |      <NA>\n",
       "  [617662]     chrY 57210001-57215000      * |      <NA>\n",
       "  [617663]     chrY 57215001-57220000      * |      <NA>\n",
       "  [617664]     chrY 57220001-57225000      * |      <NA>\n",
       "  [617665]     chrY 57225001-57227415      * |      <NA>\n",
       "  -------\n",
       "  seqinfo: 24 sequences from an unspecified genome"
      ]
     },
     "metadata": {},
     "output_type": "display_data"
    }
   ],
   "source": [
    "# broad peaks のゲノム座標軸を取得(GRanges オブジェクトに変換)\n",
    "h3k36_peaks = getRanges(h3k36_fit)\n",
    "h3k36_peaks"
   ]
  },
  {
   "cell_type": "code",
   "execution_count": 10,
   "metadata": {},
   "outputs": [
    {
     "data": {
      "text/plain": [
       "GRanges object with 617665 ranges and 3 metadata columns:\n",
       "           seqnames            ranges strand | component    qvalue enrichment\n",
       "              <Rle>         <IRanges>  <Rle> | <integer> <numeric>  <numeric>\n",
       "       [1]     chr1            1-5000      * |      <NA>        NA          0\n",
       "       [2]     chr1        5001-10000      * |      <NA>        NA          0\n",
       "       [3]     chr1       10001-15000      * |      <NA>        NA          0\n",
       "       [4]     chr1       15001-20000      * |      <NA>        NA          0\n",
       "       [5]     chr1       20001-25000      * |      <NA>        NA          0\n",
       "       ...      ...               ...    ... .       ...       ...        ...\n",
       "  [617661]     chrY 57205001-57210000      * |      <NA>        NA          0\n",
       "  [617662]     chrY 57210001-57215000      * |      <NA>        NA          0\n",
       "  [617663]     chrY 57215001-57220000      * |      <NA>        NA          0\n",
       "  [617664]     chrY 57220001-57225000      * |      <NA>        NA          0\n",
       "  [617665]     chrY 57225001-57227415      * |      <NA>        NA          0\n",
       "  -------\n",
       "  seqinfo: 24 sequences from an unspecified genome"
      ]
     },
     "metadata": {},
     "output_type": "display_data"
    }
   ],
   "source": [
    "# qvalue と enrichment を抽出し、先程作った GRange オブジェクトに列を追加\n",
    "h3k36_peaks$qvalue     = getQvalues(h3k36_fit)\n",
    "h3k36_peaks$enrichment = getEnrichment(h3k36_fit)\n",
    "h3k36_peaks"
   ]
  },
  {
   "cell_type": "code",
   "execution_count": 13,
   "metadata": {},
   "outputs": [
    {
     "data": {
      "text/plain": [
       "GRanges object with 961 ranges and 3 metadata columns:\n",
       "        seqnames            ranges strand | component       qvalue enrichment\n",
       "           <Rle>         <IRanges>  <Rle> | <integer>    <numeric>  <numeric>\n",
       "    [1]    chr21 33550001-33555000      * |         1 7.71000e-214    1.76568\n",
       "    [2]    chr21 44900001-44905000      * |         1 4.91188e-172    1.90642\n",
       "    [3]    chr21 43685001-43690000      * |         1 5.01737e-170    1.98352\n",
       "    [4]    chr21 42850001-42855000      * |         1 3.27313e-168    1.84401\n",
       "    [5]    chr21 32345001-32350000      * |         1 8.44777e-160    1.97946\n",
       "    ...      ...               ...    ... .       ...          ...        ...\n",
       "  [957]    chr21 39835001-39840000      * |         1   0.00848164   0.610820\n",
       "  [958]    chr21 40940001-40945000      * |         1   0.00848164   0.610820\n",
       "  [959]    chr21   9620001-9625000      * |         1   0.00863594   1.586199\n",
       "  [960]    chr21 28535001-28540000      * |         1   0.00877138   0.585849\n",
       "  [961]    chr21 40085001-40090000      * |         1   0.00921308   0.655352\n",
       "  -------\n",
       "  seqinfo: 24 sequences from an unspecified genome"
      ]
     },
     "metadata": {},
     "output_type": "display_data"
    }
   ],
   "source": [
    "# 適切な peaks を抽出\n",
    "# リード数が 0 カウントの領域をカットする(component 列が NA の領域をカット)\n",
    "h3k36_peaks = subset(h3k36_peaks, !is.na(component))\n",
    "\n",
    "# q value < 0.01 のデータのみ抽出\n",
    "h3k36_peaks = subset(h3k36_peaks, qvalue < 0.01)\n",
    "\n",
    "# q value が小さい順に並び替え\n",
    "h3k36_peaks = h3k36_peaks[order(h3k36_peaks$qvalue)]\n",
    "h3k36_peaks"
   ]
  },
  {
   "cell_type": "code",
   "execution_count": 16,
   "metadata": {},
   "outputs": [],
   "source": [
    "library(GenomicRanges)"
   ]
  },
  {
   "cell_type": "code",
   "execution_count": 19,
   "metadata": {},
   "outputs": [
    {
     "data": {
      "text/plain": [
       "GRanges object with 460 ranges and 0 metadata columns:\n",
       "        seqnames            ranges strand\n",
       "           <Rle>         <IRanges>  <Rle>\n",
       "    [1]    chr21   5030001-5035000      *\n",
       "    [2]    chr21   5130001-5150000      *\n",
       "    [3]    chr21   6120001-6125000      *\n",
       "    [4]    chr21   6425001-6430000      *\n",
       "    [5]    chr21   6455001-6460000      *\n",
       "    ...      ...               ...    ...\n",
       "  [456]    chr21 46480001-46500000      *\n",
       "  [457]    chr21 46510001-46520000      *\n",
       "  [458]    chr21 46530001-46570000      *\n",
       "  [459]    chr21 46640001-46655000      *\n",
       "  [460]    chr21 46660001-46665000      *\n",
       "  -------\n",
       "  seqinfo: 24 sequences from an unspecified genome"
      ]
     },
     "metadata": {},
     "output_type": "display_data"
    }
   ],
   "source": [
    "# overlap する領域同士をまとめる\n",
    "# MEMO: https://bioconductor.org/packages/release/bioc/vignettes/GenomicRanges/inst/doc/GenomicRangesIntroduction.html#:~:text=reduce\n",
    "h3k36_peaks = reduce(h3k36_peaks)\n",
    "h3k36_peaks"
   ]
  },
  {
   "cell_type": "code",
   "execution_count": 33,
   "metadata": {},
   "outputs": [],
   "source": [
    "library(GenomicRanges)\n",
    "library(GenomicAlignments)"
   ]
  },
  {
   "cell_type": "code",
   "execution_count": 24,
   "metadata": {},
   "outputs": [],
   "source": [
    "# 1つの BAM ファイルから、カバレッジデータを計算する関数\n",
    "# MEMO: Sharp peaks から再掲\n",
    "calculateCoverage = function(\n",
    "  bam_file,\n",
    "  extend = 200\n",
    "){\n",
    "  \n",
    "  # BAM ファイルからリードデータを取得\n",
    "  reads = readGAlignments(bam_file)\n",
    "  \n",
    "  # GRanges オブジェクトに変換\n",
    "  reads = granges(reads)\n",
    "  \n",
    "  # リード長を 200bp に補正\n",
    "  reads = resize(reads, width=extend, fix='start')\n",
    "  \n",
    "  # カバレッジ vector を取得\n",
    "  cov   = coverage(reads)\n",
    "  \n",
    "  # sequencing depth に基づき補正(CPM を計算 & 小数点第２位以下を丸める)\n",
    "  cov = round(cov * (1000000/length(reads)),2)\n",
    "  \n",
    "  # GRanges オブジェクトに変換\n",
    "  cov   = as(cov, 'GRanges')\n",
    "  \n",
    "  # chr21 のみ抽出\n",
    "  seqlevels(cov, pruning.mode='coarse') = 'chr21'\n",
    "  return(cov)\n",
    "}"
   ]
  },
  {
   "cell_type": "code",
   "execution_count": 25,
   "metadata": {},
   "outputs": [],
   "source": [
    "# H3K36me3 と Input ファイルのカバレッジデータを作成\n",
    "cont_cov = calculateCoverage(control_file)\n",
    "h3k36_cov = calculateCoverage(chip_file)"
   ]
  },
  {
   "cell_type": "code",
   "execution_count": 26,
   "metadata": {},
   "outputs": [],
   "source": [
    "library(Gviz)"
   ]
  },
  {
   "cell_type": "code",
   "execution_count": 27,
   "metadata": {},
   "outputs": [],
   "source": [
    "# データトラックの用意(Control & H3K36me3)\n",
    "data_tracks = list(\n",
    "    h3k36 = DataTrack(h3k36_cov,  name = 'h3k36_cov',  type='h', lwd=3),\n",
    "    input = DataTrack(cont_cov,   name = 'Input',      type='h', lwd=3)\n",
    ")"
   ]
  },
  {
   "cell_type": "code",
   "execution_count": 28,
   "metadata": {},
   "outputs": [],
   "source": [
    "# 可視化するゲノム座標軸の範囲を定義\n",
    "start = min(start(h3k36_peaks[2])) - 25000\n",
    "end   = max(end(h3k36_peaks[2])) + 25000"
   ]
  },
  {
   "cell_type": "code",
   "execution_count": 29,
   "metadata": {},
   "outputs": [],
   "source": [
    "# peak track を用意\n",
    "peak_track = AnnotationTrack(reduce(h3k36_peaks), name='H3K36me3')"
   ]
  },
  {
   "cell_type": "code",
   "execution_count": 31,
   "metadata": {},
   "outputs": [],
   "source": [
    "# ideogram トラックを構築\n",
    "# MEMO: 染色体の模式図(イデオグラム)のトラックを作成している\n",
    "chr_track   = IdeogramTrack(\n",
    "    chromosome = 'chr21', \n",
    "    genome     = 'hg38'\n",
    ")"
   ]
  },
  {
   "cell_type": "code",
   "execution_count": 34,
   "metadata": {},
   "outputs": [],
   "source": [
    "# ヒトゲノムの染色体長を取得\n",
    "# getChromInfoFromUCSC： UCSC のゲノム情報を使用する\n",
    "hg_chrs = getChromInfoFromUCSC('hg38')\n",
    "\n",
    "# ヒトゲノムの21番染色体を取得\n",
    "# grepl: chr21$ に一致するかどうか boolean で返す\n",
    "# subset: data.frame(データフレーム) から grepl で true となる対象データを抽出する \n",
    "hg_chrs = subset(hg_chrs, grepl('chr21$',chrom))\n",
    "\n",
    "# ダウンロードしたヒトゲノムの染色体長のデータ: data.frame(データフレーム)というデータ構造\n",
    "# これを data.frame(データフレーム) から 名前付きベクター(配列)にデータ構造を変換する\n",
    "# setnames: chrom を名前とした size の名前付きベクターを作成する\n",
    "# with: データ構造を変換したり、データの絞り込みを行ったりできる(ここでは名前付きベクターにデータ構造を変換している)\n",
    "seqlengths = with(hg_chrs, setNames(size, chrom))\n",
    "\n",
    "# ゲノムの座標軸のトラックを構築\n",
    "axis = GenomeAxisTrack(\n",
    "    range = GRanges('chr21', IRanges(1, width=seqlengths))\n",
    ")"
   ]
  },
  {
   "cell_type": "code",
   "execution_count": 40,
   "metadata": {},
   "outputs": [],
   "source": [
    "# GenomicFeatures ライブラリの読み込み\n",
    "library(GenomicFeatures)\n",
    "# AnnotationHub ライブラリの読み込み\n",
    "library(AnnotationHub)"
   ]
  },
  {
   "cell_type": "code",
   "execution_count": 45,
   "metadata": {},
   "outputs": [
    {
     "name": "stderr",
     "output_type": "stream",
     "text": [
      "snapshotDate(): 2020-10-27\n",
      "\n",
      "downloading 1 resources\n",
      "\n",
      "retrieving 1 resource\n",
      "\n",
      "loading from cache\n",
      "\n",
      "Importing File into R ..\n",
      "\n",
      "require(\"rtracklayer\")\n",
      "\n"
     ]
    }
   ],
   "source": [
    "# ヒト遺伝子のアノテーション情報を取得(ダウンロード)\n",
    "# MEMO: GRCh38.92 -> AH61126 のデータを使用\n",
    "# MEMO: 読み込みにかなり時間がかかる(5minぐらい)\n",
    "hub = AnnotationHub()\n",
    "gtf = hub[['AH61126']]"
   ]
  },
  {
   "cell_type": "code",
   "execution_count": 46,
   "metadata": {},
   "outputs": [
    {
     "name": "stderr",
     "output_type": "stream",
     "text": [
      "Warning message in .get_cds_IDX(mcols0$type, mcols0$phase):\n",
      "\"The \"phase\" metadata column contains non-NA values for features of type\n",
      "  stop_codon. This information was ignored.\"\n"
     ]
    }
   ],
   "source": [
    "# chr21 のみを抽出\n",
    "seqlevels(gtf, pruning.mode='coarse') = '21'\n",
    "\n",
    "# Ensembl のデータは染色体名が「1, 2, 3,...」となっているので、「chr1, chr2, chr3,...」の形式に変換する\n",
    "# 染色体名を抽出\n",
    "ensembl_seqlevels = seqlevels(gtf)\n",
    "\n",
    "# 染色体名に chr の prefix をつける\n",
    "ucsc_seqlevels = paste0('chr', ensembl_seqlevels)\n",
    "\n",
    "# 染色体名を置換\n",
    "seqlevels(gtf, pruning.mode='coarse') = ucsc_seqlevels\n",
    "\n",
    "# gtf アノテーション情報を data.base オブジェクトに変換\n",
    "txdb = makeTxDbFromGRanges(gtf)\n",
    "\n",
    "# transcript データベースを gene track オブジェクトとして定義\n",
    "gene_track = GeneRegionTrack(txdb, chr='chr21', genome='hg38')"
   ]
  },
  {
   "cell_type": "code",
   "execution_count": 47,
   "metadata": {},
   "outputs": [
    {
     "data": {
      "image/png": "[encoded data removed]",
      "text/plain": [
       "plot without title"
      ]
     },
     "metadata": {
      "image/png": {
       "height": 420,
       "width": 420
      }
     },
     "output_type": "display_data"
    }
   ],
   "source": [
    "# enriched region を可視化\n",
    "plotTracks(\n",
    "    trackList = c(chr_track, axis, gene_track, peak_track, data_tracks),\n",
    "    sizes     = c(.5,.5,.5,.1,1,1), \n",
    "    background.title     = \"black\",\n",
    "    collapseTranscripts  = \"longest\", \n",
    "    transcriptAnnotation = \"symbol\",\n",
    "    from = start,\n",
    "    to   = end\n",
    ")"
   ]
  },
  {
   "cell_type": "code",
   "execution_count": null,
   "metadata": {},
   "outputs": [],
   "source": []
  }
 ],
 "metadata": {
  "kernelspec": {
   "display_name": "R",
   "language": "R",
   "name": "ir"
  },
  "language_info": {
   "codemirror_mode": "r",
   "file_extension": ".r",
   "mimetype": "text/x-r-source",
   "name": "R",
   "pygments_lexer": "r",
   "version": "4.0.3"
  }
 },
 "nbformat": 4,
 "nbformat_minor": 4
}
