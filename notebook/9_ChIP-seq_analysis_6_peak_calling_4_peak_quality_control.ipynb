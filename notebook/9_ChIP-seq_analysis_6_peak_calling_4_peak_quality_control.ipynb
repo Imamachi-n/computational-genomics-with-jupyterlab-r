{
 "cells": [
  {
   "cell_type": "markdown",
   "metadata": {},
   "source": [
    "# 9.ChIP-seq\n",
    "## 9.6 Peak calling\n",
    "### 9.6.4 Peak quality control\n",
    "input サンプルの seq depth が十分でない場合、誤って enriched regions を同定してしまう可能性がある。\n",
    "TF ChIP-seq の場合、TF モチーフ配列が存在するかどうかも、データの品質に問題ないかどうかを判断する重要な指標となる。"
   ]
  },
  {
   "cell_type": "markdown",
   "metadata": {},
   "source": [
    "#### 9.6.4.1 ピークのリード数の割合"
   ]
  },
  {
   "cell_type": "code",
   "execution_count": 1,
   "metadata": {},
   "outputs": [],
   "source": [
    "# ChIP-seq のデータのルートパス\n",
    "data_path = \"../data/chip-seq\"\n",
    "\n",
    "# H3K36me3 の ChIP-seq データのファイルパスを取得\n",
    "chip_file    = file.path(data_path, 'GM12878_hg38_H3K36me3.chr21.bam')\n",
    "\n",
    "# input データのファイルパスを取得\n",
    "control_file = file.path(data_path, 'GM12878_hg38_Input_r5.chr21.bam')"
   ]
  },
  {
   "cell_type": "code",
   "execution_count": 3,
   "metadata": {},
   "outputs": [],
   "source": [
    "library(normr)"
   ]
  },
  {
   "cell_type": "code",
   "execution_count": 4,
   "metadata": {},
   "outputs": [
    {
     "name": "stderr",
     "output_type": "stream",
     "text": [
      "Warning message:\n",
      "“'fetchExtendedChromInfoFromUCSC' is deprecated.\n",
      "Use 'getChromInfoFromUCSC' instead.\n",
      "See help(\"Deprecated\")”\n",
      "Warning message in .local(bampath, gr, ...):\n",
      "“some ranges' widths are not a multiple of the selected\n",
      "             binsize, some bins will correspond to less than binsize basepairs”\n",
      "Warning message in .local(bampath, gr, ...):\n",
      "“some ranges' widths are not a multiple of the selected\n",
      "             binsize, some bins will correspond to less than binsize basepairs”\n"
     ]
    }
   ],
   "source": [
    "# window width を 5000bp に設定\n",
    "countConfiguration = countConfigSingleEnd(binsize = 5000)\n",
    "\n",
    "# enrichR を使って broad peaks を同定する\n",
    "h3k36_fit = enrichR(\n",
    "            \n",
    "            # ChIP ファイル\n",
    "            treatment   = chip_file,\n",
    "            \n",
    "            # control ファイル\n",
    "            control     = control_file,\n",
    "            \n",
    "            # ゲノムバージョン\n",
    "            genome      = \"hg38\",\n",
    "            verbose     = FALSE,\n",
    "            \n",
    "            # window サイズ\n",
    "            countConfig = countConfiguration)"
   ]
  },
  {
   "cell_type": "code",
   "execution_count": 5,
   "metadata": {},
   "outputs": [],
   "source": [
    "# tilling window ごとのリード数を取得(data.frame に変換)\n",
    "h3k36_counts = data.frame(getCounts(h3k36_fit))"
   ]
  },
  {
   "cell_type": "code",
   "execution_count": 9,
   "metadata": {},
   "outputs": [],
   "source": [
    "# カラム名を変更\n",
    "colnames(h3k36_counts) = c('Input','H3K36me3')"
   ]
  },
  {
   "cell_type": "code",
   "execution_count": 10,
   "metadata": {},
   "outputs": [],
   "source": [
    "# q-value を取得\n",
    "h3k36_counts$qvalue = getQvalues(h3k36_fit)"
   ]
  },
  {
   "cell_type": "code",
   "execution_count": 11,
   "metadata": {},
   "outputs": [],
   "source": [
    "# dq value cutoff を使って、各 window 領域がピークかどうか定義\n",
    "h3k36_counts$enriched[is.na(h3k36_counts$qvalue)]  = 'Not Peak'\n",
    "h3k36_counts$enriched[h3k36_counts$qvalue > 0.05]  = 'Not Peak'\n",
    "h3k36_counts$enriched[h3k36_counts$qvalue <= 0.05] = 'Peak'"
   ]
  },
  {
   "cell_type": "code",
   "execution_count": 24,
   "metadata": {},
   "outputs": [
    {
     "data": {
      "text/html": [
       "<table>\n",
       "<caption>A data.frame: 5 × 3</caption>\n",
       "<thead>\n",
       "\t<tr><th></th><th scope=col>Input</th><th scope=col>H3K36me3</th><th scope=col>enriched</th></tr>\n",
       "\t<tr><th></th><th scope=col>&lt;int&gt;</th><th scope=col>&lt;int&gt;</th><th scope=col>&lt;chr&gt;</th></tr>\n",
       "</thead>\n",
       "<tbody>\n",
       "\t<tr><th scope=row>1500</th><td>0</td><td>0</td><td>Not Peak</td></tr>\n",
       "\t<tr><th scope=row>1501</th><td>0</td><td>0</td><td>Not Peak</td></tr>\n",
       "\t<tr><th scope=row>1502</th><td>0</td><td>0</td><td>Not Peak</td></tr>\n",
       "\t<tr><th scope=row>1503</th><td>0</td><td>0</td><td>Not Peak</td></tr>\n",
       "\t<tr><th scope=row>1504</th><td>0</td><td>0</td><td>Not Peak</td></tr>\n",
       "</tbody>\n",
       "</table>\n"
      ],
      "text/latex": [
       "A data.frame: 5 × 3\n",
       "\\begin{tabular}{r|lll}\n",
       "  & Input & H3K36me3 & enriched\\\\\n",
       "  & <int> & <int> & <chr>\\\\\n",
       "\\hline\n",
       "\t1500 & 0 & 0 & Not Peak\\\\\n",
       "\t1501 & 0 & 0 & Not Peak\\\\\n",
       "\t1502 & 0 & 0 & Not Peak\\\\\n",
       "\t1503 & 0 & 0 & Not Peak\\\\\n",
       "\t1504 & 0 & 0 & Not Peak\\\\\n",
       "\\end{tabular}\n"
      ],
      "text/markdown": [
       "\n",
       "A data.frame: 5 × 3\n",
       "\n",
       "| <!--/--> | Input &lt;int&gt; | H3K36me3 &lt;int&gt; | enriched &lt;chr&gt; |\n",
       "|---|---|---|---|\n",
       "| 1500 | 0 | 0 | Not Peak |\n",
       "| 1501 | 0 | 0 | Not Peak |\n",
       "| 1502 | 0 | 0 | Not Peak |\n",
       "| 1503 | 0 | 0 | Not Peak |\n",
       "| 1504 | 0 | 0 | Not Peak |\n",
       "\n"
      ],
      "text/plain": [
       "     Input H3K36me3 enriched\n",
       "1500 0     0        Not Peak\n",
       "1501 0     0        Not Peak\n",
       "1502 0     0        Not Peak\n",
       "1503 0     0        Not Peak\n",
       "1504 0     0        Not Peak"
      ]
     },
     "metadata": {},
     "output_type": "display_data"
    }
   ],
   "source": [
    "# q value カラムを削除\n",
    "h3k36_counts$qvalue = NULL\n",
    "h3k36_counts[1500:1504,]"
   ]
  },
  {
   "cell_type": "code",
   "execution_count": 13,
   "metadata": {},
   "outputs": [],
   "source": [
    "library(\"tidyr\")"
   ]
  },
  {
   "cell_type": "code",
   "execution_count": 19,
   "metadata": {},
   "outputs": [],
   "source": [
    "# data.frame を整形\n",
    "h3k36_counts_df = tidyr::pivot_longer(\n",
    "    data      = h3k36_counts, \n",
    "    cols      = -enriched,\n",
    "    names_to  = 'experiment',\n",
    "    values_to = 'counts'\n",
    ")"
   ]
  },
  {
   "cell_type": "code",
   "execution_count": 21,
   "metadata": {},
   "outputs": [
    {
     "data": {
      "text/html": [
       "<table>\n",
       "<caption>A tibble: 5 × 3</caption>\n",
       "<thead>\n",
       "\t<tr><th scope=col>enriched</th><th scope=col>experiment</th><th scope=col>counts</th></tr>\n",
       "\t<tr><th scope=col>&lt;chr&gt;</th><th scope=col>&lt;chr&gt;</th><th scope=col>&lt;int&gt;</th></tr>\n",
       "</thead>\n",
       "<tbody>\n",
       "\t<tr><td>Not Peak</td><td>H3K36me3</td><td>0</td></tr>\n",
       "\t<tr><td>Not Peak</td><td>Input   </td><td>0</td></tr>\n",
       "\t<tr><td>Not Peak</td><td>H3K36me3</td><td>0</td></tr>\n",
       "\t<tr><td>Not Peak</td><td>Input   </td><td>0</td></tr>\n",
       "\t<tr><td>Not Peak</td><td>H3K36me3</td><td>0</td></tr>\n",
       "</tbody>\n",
       "</table>\n"
      ],
      "text/latex": [
       "A tibble: 5 × 3\n",
       "\\begin{tabular}{lll}\n",
       " enriched & experiment & counts\\\\\n",
       " <chr> & <chr> & <int>\\\\\n",
       "\\hline\n",
       "\t Not Peak & H3K36me3 & 0\\\\\n",
       "\t Not Peak & Input    & 0\\\\\n",
       "\t Not Peak & H3K36me3 & 0\\\\\n",
       "\t Not Peak & Input    & 0\\\\\n",
       "\t Not Peak & H3K36me3 & 0\\\\\n",
       "\\end{tabular}\n"
      ],
      "text/markdown": [
       "\n",
       "A tibble: 5 × 3\n",
       "\n",
       "| enriched &lt;chr&gt; | experiment &lt;chr&gt; | counts &lt;int&gt; |\n",
       "|---|---|---|\n",
       "| Not Peak | H3K36me3 | 0 |\n",
       "| Not Peak | Input    | 0 |\n",
       "| Not Peak | H3K36me3 | 0 |\n",
       "| Not Peak | Input    | 0 |\n",
       "| Not Peak | H3K36me3 | 0 |\n",
       "\n"
      ],
      "text/plain": [
       "  enriched experiment counts\n",
       "1 Not Peak H3K36me3   0     \n",
       "2 Not Peak Input      0     \n",
       "3 Not Peak H3K36me3   0     \n",
       "4 Not Peak Input      0     \n",
       "5 Not Peak H3K36me3   0     "
      ]
     },
     "metadata": {},
     "output_type": "display_data"
    }
   ],
   "source": [
    "h3k36_counts_df[300:304,]"
   ]
  },
  {
   "cell_type": "code",
   "execution_count": 27,
   "metadata": {},
   "outputs": [],
   "source": [
    "library(\"dplyr\")"
   ]
  },
  {
   "cell_type": "code",
   "execution_count": 28,
   "metadata": {},
   "outputs": [],
   "source": [
    "# enriched(ピーク領域 or それ以外の領域)と experiment(H3K36me3 or Input) でグループ化\n",
    "h3k36_counts_df = group_by(.data = h3k36_counts_df, experiment, enriched)"
   ]
  },
  {
   "cell_type": "code",
   "execution_count": 31,
   "metadata": {},
   "outputs": [
    {
     "name": "stderr",
     "output_type": "stream",
     "text": [
      "`summarise()` regrouping output by 'experiment' (override with `.groups` argument)\n",
      "\n"
     ]
    }
   ],
   "source": [
    "# ピーク領域 or それ以外の領域のリード数の合計を取得\n",
    "h3k36_counts_df = summarize(.data = h3k36_counts_df, num_of_reads = sum(counts))"
   ]
  },
  {
   "cell_type": "code",
   "execution_count": 32,
   "metadata": {},
   "outputs": [
    {
     "data": {
      "text/html": [
       "<table>\n",
       "<caption>A grouped_df: 4 × 3</caption>\n",
       "<thead>\n",
       "\t<tr><th scope=col>experiment</th><th scope=col>enriched</th><th scope=col>num_of_reads</th></tr>\n",
       "\t<tr><th scope=col>&lt;chr&gt;</th><th scope=col>&lt;chr&gt;</th><th scope=col>&lt;int&gt;</th></tr>\n",
       "</thead>\n",
       "<tbody>\n",
       "\t<tr><td>H3K36me3</td><td>Not Peak</td><td> 67623</td></tr>\n",
       "\t<tr><td>H3K36me3</td><td>Peak    </td><td> 90993</td></tr>\n",
       "\t<tr><td>Input   </td><td>Not Peak</td><td>492369</td></tr>\n",
       "\t<tr><td>Input   </td><td>Peak    </td><td>155827</td></tr>\n",
       "</tbody>\n",
       "</table>\n"
      ],
      "text/latex": [
       "A grouped\\_df: 4 × 3\n",
       "\\begin{tabular}{lll}\n",
       " experiment & enriched & num\\_of\\_reads\\\\\n",
       " <chr> & <chr> & <int>\\\\\n",
       "\\hline\n",
       "\t H3K36me3 & Not Peak &  67623\\\\\n",
       "\t H3K36me3 & Peak     &  90993\\\\\n",
       "\t Input    & Not Peak & 492369\\\\\n",
       "\t Input    & Peak     & 155827\\\\\n",
       "\\end{tabular}\n"
      ],
      "text/markdown": [
       "\n",
       "A grouped_df: 4 × 3\n",
       "\n",
       "| experiment &lt;chr&gt; | enriched &lt;chr&gt; | num_of_reads &lt;int&gt; |\n",
       "|---|---|---|\n",
       "| H3K36me3 | Not Peak |  67623 |\n",
       "| H3K36me3 | Peak     |  90993 |\n",
       "| Input    | Not Peak | 492369 |\n",
       "| Input    | Peak     | 155827 |\n",
       "\n"
      ],
      "text/plain": [
       "  experiment enriched num_of_reads\n",
       "1 H3K36me3   Not Peak  67623      \n",
       "2 H3K36me3   Peak      90993      \n",
       "3 Input      Not Peak 492369      \n",
       "4 Input      Peak     155827      "
      ]
     },
     "metadata": {},
     "output_type": "display_data"
    }
   ],
   "source": [
    "h3k36_counts_df"
   ]
  },
  {
   "cell_type": "code",
   "execution_count": 33,
   "metadata": {},
   "outputs": [],
   "source": [
    "# experiment(H3K36me3 or Input) でグループ化\n",
    "h3k36_counts_df = group_by(.data = h3k36_counts_df, experiment)"
   ]
  },
  {
   "cell_type": "code",
   "execution_count": 34,
   "metadata": {},
   "outputs": [],
   "source": [
    "# Total リード数を列として追加\n",
    "h3k36_counts_df = mutate(.data = h3k36_counts_df, total=sum(num_of_reads))"
   ]
  },
  {
   "cell_type": "code",
   "execution_count": 35,
   "metadata": {},
   "outputs": [
    {
     "data": {
      "text/html": [
       "<table>\n",
       "<caption>A grouped_df: 4 × 4</caption>\n",
       "<thead>\n",
       "\t<tr><th scope=col>experiment</th><th scope=col>enriched</th><th scope=col>num_of_reads</th><th scope=col>total</th></tr>\n",
       "\t<tr><th scope=col>&lt;chr&gt;</th><th scope=col>&lt;chr&gt;</th><th scope=col>&lt;int&gt;</th><th scope=col>&lt;int&gt;</th></tr>\n",
       "</thead>\n",
       "<tbody>\n",
       "\t<tr><td>H3K36me3</td><td>Not Peak</td><td> 67623</td><td>158616</td></tr>\n",
       "\t<tr><td>H3K36me3</td><td>Peak    </td><td> 90993</td><td>158616</td></tr>\n",
       "\t<tr><td>Input   </td><td>Not Peak</td><td>492369</td><td>648196</td></tr>\n",
       "\t<tr><td>Input   </td><td>Peak    </td><td>155827</td><td>648196</td></tr>\n",
       "</tbody>\n",
       "</table>\n"
      ],
      "text/latex": [
       "A grouped\\_df: 4 × 4\n",
       "\\begin{tabular}{llll}\n",
       " experiment & enriched & num\\_of\\_reads & total\\\\\n",
       " <chr> & <chr> & <int> & <int>\\\\\n",
       "\\hline\n",
       "\t H3K36me3 & Not Peak &  67623 & 158616\\\\\n",
       "\t H3K36me3 & Peak     &  90993 & 158616\\\\\n",
       "\t Input    & Not Peak & 492369 & 648196\\\\\n",
       "\t Input    & Peak     & 155827 & 648196\\\\\n",
       "\\end{tabular}\n"
      ],
      "text/markdown": [
       "\n",
       "A grouped_df: 4 × 4\n",
       "\n",
       "| experiment &lt;chr&gt; | enriched &lt;chr&gt; | num_of_reads &lt;int&gt; | total &lt;int&gt; |\n",
       "|---|---|---|---|\n",
       "| H3K36me3 | Not Peak |  67623 | 158616 |\n",
       "| H3K36me3 | Peak     |  90993 | 158616 |\n",
       "| Input    | Not Peak | 492369 | 648196 |\n",
       "| Input    | Peak     | 155827 | 648196 |\n",
       "\n"
      ],
      "text/plain": [
       "  experiment enriched num_of_reads total \n",
       "1 H3K36me3   Not Peak  67623       158616\n",
       "2 H3K36me3   Peak      90993       158616\n",
       "3 Input      Not Peak 492369       648196\n",
       "4 Input      Peak     155827       648196"
      ]
     },
     "metadata": {},
     "output_type": "display_data"
    }
   ],
   "source": [
    "h3k36_counts_df"
   ]
  },
  {
   "cell_type": "code",
   "execution_count": 36,
   "metadata": {},
   "outputs": [],
   "source": [
    "# リード数の割合を列として追加\n",
    "h3k36_counts_df$percentage = with(h3k36_counts_df, round(num_of_reads/total,2))"
   ]
  },
  {
   "cell_type": "code",
   "execution_count": 37,
   "metadata": {},
   "outputs": [
    {
     "data": {
      "text/html": [
       "<table>\n",
       "<caption>A grouped_df: 4 × 5</caption>\n",
       "<thead>\n",
       "\t<tr><th scope=col>experiment</th><th scope=col>enriched</th><th scope=col>num_of_reads</th><th scope=col>total</th><th scope=col>percentage</th></tr>\n",
       "\t<tr><th scope=col>&lt;chr&gt;</th><th scope=col>&lt;chr&gt;</th><th scope=col>&lt;int&gt;</th><th scope=col>&lt;int&gt;</th><th scope=col>&lt;dbl&gt;</th></tr>\n",
       "</thead>\n",
       "<tbody>\n",
       "\t<tr><td>H3K36me3</td><td>Not Peak</td><td> 67623</td><td>158616</td><td>0.43</td></tr>\n",
       "\t<tr><td>H3K36me3</td><td>Peak    </td><td> 90993</td><td>158616</td><td>0.57</td></tr>\n",
       "\t<tr><td>Input   </td><td>Not Peak</td><td>492369</td><td>648196</td><td>0.76</td></tr>\n",
       "\t<tr><td>Input   </td><td>Peak    </td><td>155827</td><td>648196</td><td>0.24</td></tr>\n",
       "</tbody>\n",
       "</table>\n"
      ],
      "text/latex": [
       "A grouped\\_df: 4 × 5\n",
       "\\begin{tabular}{lllll}\n",
       " experiment & enriched & num\\_of\\_reads & total & percentage\\\\\n",
       " <chr> & <chr> & <int> & <int> & <dbl>\\\\\n",
       "\\hline\n",
       "\t H3K36me3 & Not Peak &  67623 & 158616 & 0.43\\\\\n",
       "\t H3K36me3 & Peak     &  90993 & 158616 & 0.57\\\\\n",
       "\t Input    & Not Peak & 492369 & 648196 & 0.76\\\\\n",
       "\t Input    & Peak     & 155827 & 648196 & 0.24\\\\\n",
       "\\end{tabular}\n"
      ],
      "text/markdown": [
       "\n",
       "A grouped_df: 4 × 5\n",
       "\n",
       "| experiment &lt;chr&gt; | enriched &lt;chr&gt; | num_of_reads &lt;int&gt; | total &lt;int&gt; | percentage &lt;dbl&gt; |\n",
       "|---|---|---|---|---|\n",
       "| H3K36me3 | Not Peak |  67623 | 158616 | 0.43 |\n",
       "| H3K36me3 | Peak     |  90993 | 158616 | 0.57 |\n",
       "| Input    | Not Peak | 492369 | 648196 | 0.76 |\n",
       "| Input    | Peak     | 155827 | 648196 | 0.24 |\n",
       "\n"
      ],
      "text/plain": [
       "  experiment enriched num_of_reads total  percentage\n",
       "1 H3K36me3   Not Peak  67623       158616 0.43      \n",
       "2 H3K36me3   Peak      90993       158616 0.57      \n",
       "3 Input      Not Peak 492369       648196 0.76      \n",
       "4 Input      Peak     155827       648196 0.24      "
      ]
     },
     "metadata": {},
     "output_type": "display_data"
    }
   ],
   "source": [
    "h3k36_counts_df"
   ]
  },
  {
   "cell_type": "code",
   "execution_count": 38,
   "metadata": {},
   "outputs": [],
   "source": [
    "library(\"ggplot2\")"
   ]
  },
  {
   "cell_type": "code",
   "execution_count": 51,
   "metadata": {},
   "outputs": [
    {
     "data": {
      "image/png": "[encoded data removed]",
      "text/plain": [
       "plot without title"
      ]
     },
     "metadata": {
      "image/png": {
       "height": 420,
       "width": 420
      }
     },
     "output_type": "display_data"
    }
   ],
   "source": [
    "ggplot(\n",
    "    data = h3k36_counts_df, \n",
    "    aes(\n",
    "        x = experiment, \n",
    "        y = percentage, \n",
    "        fill = enriched\n",
    "    )) +\n",
    "    geom_bar(stat='identity', position='fill') +\n",
    "    theme_bw() +\n",
    "    theme(\n",
    "        axis.text = element_text(size=16, face='bold'),\n",
    "        axis.title = element_text(size=18,face=\"bold\"),\n",
    "        plot.title = element_text(size=18,hjust = 0.5),\n",
    "        legend.text=element_text(size=12)) +\n",
    "    xlab('Experiment') +\n",
    "    ylab('Percetage of reads in region') +\n",
    "    ggtitle('Percentage of reads in peaks for H3K36me3') +\n",
    "    scale_fill_manual(values=c('gray','red'))"
   ]
  },
  {
   "cell_type": "markdown",
   "metadata": {},
   "source": [
    "ピーク領域で Input のリード数よりも H3K36me3 のリード数のほうが多い。  \n",
    "リード数の割合は、抗体の質にも依存している。"
   ]
  },
  {
   "cell_type": "markdown",
   "metadata": {},
   "source": [
    "#### 9.6.4.2 DNA motifs on peaks\n",
    "研究が進んでいる転写因子はすでに公開されているモチーフ配列が存在します。そのため、公開されているモチーフ配列を使って、ChIP-seq データの品質をチェックすることができます。やり方としては、主に２種類あります。\n",
    "1. モチーフ配列を含むピークの割合を調べる。\n",
    "1. モチーフ配列の分布を調べる(ピーク領域の中央にモチーフ配列が存在するはず)。"
   ]
  },
  {
   "cell_type": "markdown",
   "metadata": {},
   "source": [
    "##### 9.6.4.2.1 Representing motifs as matrices\n",
    "CTCF のモチーフ配列がピーク領域に含む割合を計算してみましょう。ここでは、`MotifDB` と呼ばれる Bioconductor のデータベースを利用します。`MotifDB` は複数のモチーフ配列データベースを集約化したものです。"
   ]
  },
  {
   "cell_type": "code",
   "execution_count": 52,
   "metadata": {},
   "outputs": [
    {
     "name": "stderr",
     "output_type": "stream",
     "text": [
      "See system.file(\"LICENSE\", package=\"MotifDb\") for use restrictions.\n",
      "\n"
     ]
    }
   ],
   "source": [
    "# MotifDB パッケージの読み込み\n",
    "library(MotifDb)"
   ]
  },
  {
   "cell_type": "code",
   "execution_count": 53,
   "metadata": {},
   "outputs": [],
   "source": [
    "# データベースから CTCF モチーフを取得\n",
    "motifs = query(query(MotifDb, 'Hsapiens'), 'CTCF')"
   ]
  },
  {
   "cell_type": "code",
   "execution_count": 54,
   "metadata": {},
   "outputs": [
    {
     "data": {
      "text/plain": [
       "MotifDb object of length 12\n",
       "| Created from downloaded public sources: 2013-Aug-30\n",
       "| 12 position frequency matrices from 8 sources:\n",
       "|        HOCOMOCOv10:    2\n",
       "| HOCOMOCOv11-core-A:    2\n",
       "|        JASPAR_2014:    1\n",
       "|        JASPAR_CORE:    1\n",
       "|         jaspar2016:    1\n",
       "|         jaspar2018:    2\n",
       "|          jolma2013:    1\n",
       "|       SwissRegulon:    2\n",
       "| 1 organism/s\n",
       "|           Hsapiens:   12\n",
       "Hsapiens-HOCOMOCOv10-CTCFL_HUMAN.H10MO.A \n",
       "Hsapiens-HOCOMOCOv10-CTCF_HUMAN.H10MO.A \n",
       "Hsapiens-HOCOMOCOv11-core-A-CTCFL_HUMAN.H11MO.0.A \n",
       "Hsapiens-HOCOMOCOv11-core-A-CTCF_HUMAN.H11MO.0.A \n",
       "Hsapiens-JASPAR_CORE-CTCF-MA0139.1 \n",
       "...\n",
       "Hsapiens-jaspar2018-CTCF-MA0139.1 \n",
       "Hsapiens-jaspar2018-CTCFL-MA1102.1 \n",
       "Hsapiens-jolma2013-CTCF \n",
       "Hsapiens-SwissRegulon-CTCFL.SwissRegulon \n",
       "Hsapiens-SwissRegulon-CTCF.SwissRegulon "
      ]
     },
     "metadata": {},
     "output_type": "display_data"
    }
   ],
   "source": [
    "# 取得できたモチーフ配列を見てみる(8つのデータベースから12種類のモチーフ配列が見つかりました)\n",
    "motifs"
   ]
  },
  {
   "cell_type": "code",
   "execution_count": 60,
   "metadata": {},
   "outputs": [
    {
     "data": {
      "text/html": [
       "<table>\n",
       "<caption>A matrix: 4 × 19 of type dbl</caption>\n",
       "<thead>\n",
       "\t<tr><th></th><th scope=col>1</th><th scope=col>2</th><th scope=col>3</th><th scope=col>4</th><th scope=col>5</th><th scope=col>6</th><th scope=col>7</th><th scope=col>8</th><th scope=col>9</th><th scope=col>10</th><th scope=col>11</th><th scope=col>12</th><th scope=col>13</th><th scope=col>14</th><th scope=col>15</th><th scope=col>16</th><th scope=col>17</th><th scope=col>18</th><th scope=col>19</th></tr>\n",
       "</thead>\n",
       "<tbody>\n",
       "\t<tr><th scope=row>A</th><td>0.100</td><td>0.162</td><td>0.302</td><td>0.072</td><td>0.012</td><td>0.786</td><td>0.024</td><td>0.122</td><td>0.914</td><td>0.012</td><td>0.376</td><td>0.022</td><td>0.028</td><td>0.024</td><td>0.096</td><td>0.424</td><td>0.086</td><td>0.122</td><td>0.342</td></tr>\n",
       "\t<tr><th scope=row>C</th><td>0.356</td><td>0.214</td><td>0.100</td><td>0.826</td><td>0.966</td><td>0.024</td><td>0.620</td><td>0.494</td><td>0.010</td><td>0.008</td><td>0.010</td><td>0.022</td><td>0.002</td><td>0.016</td><td>0.818</td><td>0.024</td><td>0.532</td><td>0.348</td><td>0.260</td></tr>\n",
       "\t<tr><th scope=row>G</th><td>0.122</td><td>0.406</td><td>0.436</td><td>0.050</td><td>0.012</td><td>0.108</td><td>0.336</td><td>0.056</td><td>0.048</td><td>0.976</td><td>0.602</td><td>0.606</td><td>0.962</td><td>0.880</td><td>0.038</td><td>0.522</td><td>0.326</td><td>0.122</td><td>0.318</td></tr>\n",
       "\t<tr><th scope=row>T</th><td>0.422</td><td>0.218</td><td>0.162</td><td>0.052</td><td>0.010</td><td>0.082</td><td>0.020</td><td>0.328</td><td>0.028</td><td>0.004</td><td>0.012</td><td>0.350</td><td>0.008</td><td>0.080</td><td>0.048</td><td>0.030</td><td>0.056</td><td>0.408</td><td>0.080</td></tr>\n",
       "</tbody>\n",
       "</table>\n"
      ],
      "text/latex": [
       "A matrix: 4 × 19 of type dbl\n",
       "\\begin{tabular}{r|lllllllllllllllllll}\n",
       "  & 1 & 2 & 3 & 4 & 5 & 6 & 7 & 8 & 9 & 10 & 11 & 12 & 13 & 14 & 15 & 16 & 17 & 18 & 19\\\\\n",
       "\\hline\n",
       "\tA & 0.100 & 0.162 & 0.302 & 0.072 & 0.012 & 0.786 & 0.024 & 0.122 & 0.914 & 0.012 & 0.376 & 0.022 & 0.028 & 0.024 & 0.096 & 0.424 & 0.086 & 0.122 & 0.342\\\\\n",
       "\tC & 0.356 & 0.214 & 0.100 & 0.826 & 0.966 & 0.024 & 0.620 & 0.494 & 0.010 & 0.008 & 0.010 & 0.022 & 0.002 & 0.016 & 0.818 & 0.024 & 0.532 & 0.348 & 0.260\\\\\n",
       "\tG & 0.122 & 0.406 & 0.436 & 0.050 & 0.012 & 0.108 & 0.336 & 0.056 & 0.048 & 0.976 & 0.602 & 0.606 & 0.962 & 0.880 & 0.038 & 0.522 & 0.326 & 0.122 & 0.318\\\\\n",
       "\tT & 0.422 & 0.218 & 0.162 & 0.052 & 0.010 & 0.082 & 0.020 & 0.328 & 0.028 & 0.004 & 0.012 & 0.350 & 0.008 & 0.080 & 0.048 & 0.030 & 0.056 & 0.408 & 0.080\\\\\n",
       "\\end{tabular}\n"
      ],
      "text/markdown": [
       "\n",
       "A matrix: 4 × 19 of type dbl\n",
       "\n",
       "| <!--/--> | 1 | 2 | 3 | 4 | 5 | 6 | 7 | 8 | 9 | 10 | 11 | 12 | 13 | 14 | 15 | 16 | 17 | 18 | 19 |\n",
       "|---|---|---|---|---|---|---|---|---|---|---|---|---|---|---|---|---|---|---|---|\n",
       "| A | 0.100 | 0.162 | 0.302 | 0.072 | 0.012 | 0.786 | 0.024 | 0.122 | 0.914 | 0.012 | 0.376 | 0.022 | 0.028 | 0.024 | 0.096 | 0.424 | 0.086 | 0.122 | 0.342 |\n",
       "| C | 0.356 | 0.214 | 0.100 | 0.826 | 0.966 | 0.024 | 0.620 | 0.494 | 0.010 | 0.008 | 0.010 | 0.022 | 0.002 | 0.016 | 0.818 | 0.024 | 0.532 | 0.348 | 0.260 |\n",
       "| G | 0.122 | 0.406 | 0.436 | 0.050 | 0.012 | 0.108 | 0.336 | 0.056 | 0.048 | 0.976 | 0.602 | 0.606 | 0.962 | 0.880 | 0.038 | 0.522 | 0.326 | 0.122 | 0.318 |\n",
       "| T | 0.422 | 0.218 | 0.162 | 0.052 | 0.010 | 0.082 | 0.020 | 0.328 | 0.028 | 0.004 | 0.012 | 0.350 | 0.008 | 0.080 | 0.048 | 0.030 | 0.056 | 0.408 | 0.080 |\n",
       "\n"
      ],
      "text/plain": [
       "  1     2     3     4     5     6     7     8     9     10    11    12    13   \n",
       "A 0.100 0.162 0.302 0.072 0.012 0.786 0.024 0.122 0.914 0.012 0.376 0.022 0.028\n",
       "C 0.356 0.214 0.100 0.826 0.966 0.024 0.620 0.494 0.010 0.008 0.010 0.022 0.002\n",
       "G 0.122 0.406 0.436 0.050 0.012 0.108 0.336 0.056 0.048 0.976 0.602 0.606 0.962\n",
       "T 0.422 0.218 0.162 0.052 0.010 0.082 0.020 0.328 0.028 0.004 0.012 0.350 0.008\n",
       "  14    15    16    17    18    19   \n",
       "A 0.024 0.096 0.424 0.086 0.122 0.342\n",
       "C 0.016 0.818 0.024 0.532 0.348 0.260\n",
       "G 0.880 0.038 0.522 0.326 0.122 0.318\n",
       "T 0.080 0.048 0.030 0.056 0.408 0.080"
      ]
     },
     "metadata": {},
     "output_type": "display_data"
    }
   ],
   "source": [
    "ctcf_motif  = motifs[[1]]\n",
    "ctcf_motif"
   ]
  },
  {
   "cell_type": "markdown",
   "metadata": {},
   "source": [
    "上記のマトリクス(行列)は、転写因子が対象の配列に結合するかどうか、その確率を計算するために使われます。  \n",
    "しかしここで注意しないといけないことは、バックグラウンドの確率を考慮していないという点です。ゲノム配列は 25% ずつ均等に A,T,G,C の各塩基が分布しているわけではなく、ある程度の偏りがあるため、バックグラウンドの確率を考慮する必要があります。\n",
    "\n",
    "そこで、バックグラウンドの塩基の出現確率 $B_k$ をモチーフ配列の各塩基の確率 $P_{i,k}$ で割ることで補正します。  \n",
    "次に、その値の対数を取って、対数尤度を計算します($Score_{i,k} = log(P_{i,k}/B_k)$)。対数でスケーリングされたマトリクスから計算されるスコアの合計値から対象のピーク領域の配列のスコアを計算することができます。\n",
    "\n",
    "上記のマトリクスのことを position-specific scoring matrix (PSSM) or position-specific weight matrix (PWM) と呼びます。\n",
    "ピーク領域の配列に対して window をスライドさせて、各 window のスコアを計算できます。通常、モチーフ配列を含んでいるかどうか判別するために、カットオフ値を設定する必要があります。\n",
    "\n",
    "対象の配列について PWM から得られるスコアが高ければ高いほど良いということになります。ここで使用する古典的なアルゴリズムでは、スコアの 80% をデフォルトのカットオフ値として使用します。再スケーリングは、min-max 最スケーリングで最小スコアを差し引き、それを $max(PWMscore) - min(PWMscore)$ で割ります。\n",
    "\n",
    "<img src=\"https://compgenomr.github.io/book/Figures/PWMScanning.png\" width=\"350\">\n",
    "\n",
    "上記の例では、**ACACT** は最スケーリング後の最大スコアが 15.6% となるため、モチーフ配列とかけ離れていると判断されます。\n",
    "Total スコアが -3.6。最大スコアが 7.2。最小スコアが -5.6。$(-3.6-(-5.6)/(7.2-(-5.6))) * 100 = 15.6%$\n",
    "\n",
    "#### min-max normalization\n",
    "最小値・最大値を使った方法では標本のデータしか見ていないため、最大値・最小値に強く影響を受けてしまう。したがって、外れ値などが混ざっていると結局大きく引っ張られてしまう。最大値を 1 に、最小値を 0 にする正規化。\n",
    "\n",
    "$$x_{new} = (x - x_{min}) / (x_{max} - x_{min})$$"
   ]
  },
  {
   "cell_type": "markdown",
   "metadata": {},
   "source": [
    "##### 9.6.4.2.2 Representing motifs as sequence logos\n",
    "position frequency matrix (PFM) を使って、マトリクス内の各位置(塩基)の重要度(情報量)を計算することができます。これは、転写因子の特定配列に対する結合しやすさを定量化します。\n",
    "さらに、結合マトリクス(行列)をシークエンスログとして視覚的に表現することもできます。この値は、相対エントロピー(0~2 の範囲)として定量化されます。\n",
    "\n",
    "$$entropy = -\\sum P_{i,k}log_2(P_{i,k})$$\n",
    "\n",
    "$P_{i,k}$: PFM のカラム $i$ の 塩基 $k$ の出現確率。\n",
    "\n",
    "エントロピー値は、対象の列でどの塩基の出現確率も似ている場合(突出して出現確率の高い塩基がない場合)は高く、\n",
    "たった１つの塩基が出現する確率が高い場合は低くなります。塩基は４文字なので、エントロピーの最大値は $log_2n$ で 2 になる。\n",
    "\n",
    "$$IC = log_2(n) + \\sum P_{i,k}log_2(P_{i,k})$$\n",
    "\n",
    "IC: information content は最大エントロピーから観測された列のエントロピーを差し引いた値です。  \n",
    "IC は、ある塩基の出現確率が高い場合は高く、すべての塩基が等しく出現する可能性が高いか低い場合は低くなります。\n",
    "<img src=\"https://compgenomr.github.io/book/Figures/CTCF_Motif.png\" width=\"650\">"
   ]
  },
  {
   "cell_type": "markdown",
   "metadata": {},
   "source": [
    "##### 9.6.4.2.3 Percentage of peaks with the motif\n",
    "まず、ピーク領域の前後 200bp を伸長します。リードサイズが 200bp であり、400bp が正しい結合サイトのポジションが含まれる期待値だからです。"
   ]
  },
  {
   "cell_type": "code",
   "execution_count": 61,
   "metadata": {},
   "outputs": [],
   "source": [
    "# ChIP データのファイル\n",
    "chip_file    = file.path(data_path, 'GM12878_hg38_CTCF_r1.chr21.bam')"
   ]
  },
  {
   "cell_type": "code",
   "execution_count": 62,
   "metadata": {},
   "outputs": [
    {
     "name": "stderr",
     "output_type": "stream",
     "text": [
      "Warning message:\n",
      "“'fetchExtendedChromInfoFromUCSC' is deprecated.\n",
      "Use 'getChromInfoFromUCSC' instead.\n",
      "See help(\"Deprecated\")”\n",
      "Warning message in .local(bampath, gr, ...):\n",
      "“some ranges' widths are not a multiple of the selected\n",
      "             binsize, some bins will correspond to less than binsize basepairs”\n",
      "Warning message in .local(bampath, gr, ...):\n",
      "“some ranges' widths are not a multiple of the selected\n",
      "             binsize, some bins will correspond to less than binsize basepairs”\n"
     ]
    }
   ],
   "source": [
    "# Chip / Control サンプルを使って peak calling\n",
    "ctcf_fit = enrichR(\n",
    "    \n",
    "            # ChIP ファイル\n",
    "            treatment = chip_file,\n",
    "            \n",
    "            # Control ファイル\n",
    "            control   = control_file,\n",
    "            \n",
    "            # ヒトゲノムのバージョン\n",
    "            genome    = \"hg38\",\n",
    "            \n",
    "            # 途中経過のログを出力するかどうか\n",
    "            verbose   = FALSE)"
   ]
  },
  {
   "cell_type": "code",
   "execution_count": 63,
   "metadata": {},
   "outputs": [
    {
     "data": {
      "text/plain": [
       "GRanges object with 724 ranges and 3 metadata columns:\n",
       "        seqnames            ranges strand | component       qvalue enrichment\n",
       "           <Rle>         <IRanges>  <Rle> | <integer>    <numeric>  <numeric>\n",
       "    [1]    chr21 43939251-43939500      * |         1 4.70188e-140    1.37890\n",
       "    [2]    chr21 43646751-43647000      * |         1 2.52164e-137    1.42360\n",
       "    [3]    chr21 43810751-43811000      * |         1 1.86513e-121    1.30518\n",
       "    [4]    chr21 43939001-43939250      * |         1 2.10952e-121    1.19820\n",
       "    [5]    chr21 37712251-37712500      * |         1 6.36029e-118    1.70989\n",
       "    ...      ...               ...    ... .       ...          ...        ...\n",
       "  [720]    chr21 38172001-38172250      * |         1   0.00867393   0.951184\n",
       "  [721]    chr21 38806001-38806250      * |         1   0.00867393   0.951184\n",
       "  [722]    chr21 42009501-42009750      * |         1   0.00867393   0.656249\n",
       "  [723]    chr21 46153001-46153250      * |         1   0.00867393   0.951184\n",
       "  [724]    chr21 46294751-46295000      * |         1   0.00867393   0.722818\n",
       "  -------\n",
       "  seqinfo: 24 sequences from an unspecified genome"
      ]
     },
     "metadata": {},
     "output_type": "display_data"
    }
   ],
   "source": [
    "# ピーク領域を GRanges オブジェクトとして取得\n",
    "ctcf_peaks = getRanges(ctcf_fit)\n",
    "\n",
    "# 各ピーク領域に対応する q-value を取得して、GRanges オブジェクトの列に追加\n",
    "ctcf_peaks$qvalue = getQvalues(ctcf_fit)\n",
    "\n",
    "# 計算した enrichment を取得して、GRanges オブジェクトの列に追加\n",
    "ctcf_peaks$enrichment = getEnrichment(ctcf_fit)\n",
    "\n",
    "# リード数が 0 カウントの領域をカットする(component 列が NA の領域をカット)\n",
    "ctcf_peaks = subset(ctcf_peaks, !is.na(component))\n",
    "\n",
    "# q value < 0.01 のデータのみ抽出\n",
    "ctcf_peaks = subset(ctcf_peaks, qvalue < 0.01)\n",
    "\n",
    "# q value が小さい順に並び替え\n",
    "ctcf_peaks = ctcf_peaks[order(ctcf_peaks$qvalue)]\n",
    "ctcf_peaks"
   ]
  },
  {
   "cell_type": "code",
   "execution_count": 64,
   "metadata": {},
   "outputs": [],
   "source": [
    "# ピーク領域の拡張\n",
    "ctcf_peaks_resized = resize(ctcf_peaks, width = 400, fix = 'center')"
   ]
  },
  {
   "cell_type": "code",
   "execution_count": 66,
   "metadata": {},
   "outputs": [],
   "source": [
    "# ヒトゲノム配列の読み込み\n",
    "library(BSgenome.Hsapiens.UCSC.hg38)"
   ]
  },
  {
   "cell_type": "code",
   "execution_count": 67,
   "metadata": {},
   "outputs": [],
   "source": [
    "# ピーク領域のゲノム配列を取得\n",
    "seq = getSeq(BSgenome.Hsapiens.UCSC.hg38, ctcf_peaks_resized)"
   ]
  },
  {
   "cell_type": "code",
   "execution_count": 68,
   "metadata": {},
   "outputs": [
    {
     "data": {
      "text/plain": [
       "DNAStringSet object of length 724:\n",
       "      width seq\n",
       "  [1]   400 \u001b[48;5;157m\u001b[30mC\u001b[39m\u001b[49m\u001b[48;5;157m\u001b[30mC\u001b[39m\u001b[49m\u001b[48;5;157m\u001b[30mC\u001b[39m\u001b[49m\u001b[48;5;217m\u001b[30mA\u001b[39m\u001b[49m\u001b[48;5;157m\u001b[30mC\u001b[39m\u001b[49m\u001b[48;5;223m\u001b[30mT\u001b[39m\u001b[49m\u001b[48;5;159m\u001b[30mG\u001b[39m\u001b[49m\u001b[48;5;223m\u001b[30mT\u001b[39m\u001b[49m\u001b[48;5;159m\u001b[30mG\u001b[39m\u001b[49m\u001b[48;5;159m\u001b[30mG\u001b[39m\u001b[49m\u001b[48;5;157m\u001b[30mC\u001b[39m\u001b[49m\u001b[48;5;157m\u001b[30mC\u001b[39m\u001b[49m\u001b[48;5;157m\u001b[30mC\u001b[39m\u001b[49m\u001b[48;5;157m\u001b[30mC\u001b[39m\u001b[49m\u001b[48;5;159m\u001b[30mG\u001b[39m\u001b[49m\u001b[48;5;223m\u001b[30mT\u001b[39m\u001b[49m\u001b[48;5;159m\u001b[30mG\u001b[39m\u001b[49m\u001b[48;5;217m\u001b[30mA\u001b[39m\u001b[49m\u001b[48;5;157m\u001b[30mC\u001b[39m\u001b[49m\u001b[48;5;157m\u001b[30mC\u001b[39m\u001b[49m\u001b[48;5;157m\u001b[30mC\u001b[39m\u001b[49m\u001b[48;5;223m\u001b[30mT\u001b[39m\u001b[49m\u001b[48;5;159m\u001b[30mG\u001b[39m\u001b[49m\u001b[48;5;217m\u001b[30mA\u001b[39m\u001b[49m\u001b[48;5;159m\u001b[30mG\u001b[39m\u001b[49m\u001b[48;5;157m\u001b[30mC\u001b[39m\u001b[49m\u001b[48;5;159m\u001b[30mG\u001b[39m\u001b[49m\u001b[48;5;217m\u001b[30mA\u001b[39m\u001b[49m\u001b[48;5;159m\u001b[30mG\u001b[39m\u001b[49m\u001b[48;5;217m\u001b[30mA\u001b[39m\u001b[49m\u001b[48;5;217m\u001b[30mA\u001b[39m\u001b[49m\u001b[48;5;223m\u001b[30mT\u001b[39m\u001b[49m\u001b[48;5;159m\u001b[30mG\u001b[39m\u001b[49m...\u001b[48;5;157m\u001b[30mC\u001b[39m\u001b[49m\u001b[48;5;217m\u001b[30mA\u001b[39m\u001b[49m\u001b[48;5;157m\u001b[30mC\u001b[39m\u001b[49m\u001b[48;5;157m\u001b[30mC\u001b[39m\u001b[49m\u001b[48;5;217m\u001b[30mA\u001b[39m\u001b[49m\u001b[48;5;157m\u001b[30mC\u001b[39m\u001b[49m\u001b[48;5;157m\u001b[30mC\u001b[39m\u001b[49m\u001b[48;5;159m\u001b[30mG\u001b[39m\u001b[49m\u001b[48;5;223m\u001b[30mT\u001b[39m\u001b[49m\u001b[48;5;223m\u001b[30mT\u001b[39m\u001b[49m\u001b[48;5;223m\u001b[30mT\u001b[39m\u001b[49m\u001b[48;5;217m\u001b[30mA\u001b[39m\u001b[49m\u001b[48;5;159m\u001b[30mG\u001b[39m\u001b[49m\u001b[48;5;157m\u001b[30mC\u001b[39m\u001b[49m\u001b[48;5;217m\u001b[30mA\u001b[39m\u001b[49m\u001b[48;5;217m\u001b[30mA\u001b[39m\u001b[49m\u001b[48;5;217m\u001b[30mA\u001b[39m\u001b[49m\u001b[48;5;157m\u001b[30mC\u001b[39m\u001b[49m\u001b[48;5;157m\u001b[30mC\u001b[39m\u001b[49m\u001b[48;5;223m\u001b[30mT\u001b[39m\u001b[49m\u001b[48;5;223m\u001b[30mT\u001b[39m\u001b[49m\u001b[48;5;159m\u001b[30mG\u001b[39m\u001b[49m\u001b[48;5;157m\u001b[30mC\u001b[39m\u001b[49m\u001b[48;5;223m\u001b[30mT\u001b[39m\u001b[49m\u001b[48;5;159m\u001b[30mG\u001b[39m\u001b[49m\u001b[48;5;157m\u001b[30mC\u001b[39m\u001b[49m\u001b[48;5;217m\u001b[30mA\u001b[39m\u001b[49m\u001b[48;5;159m\u001b[30mG\u001b[39m\u001b[49m\u001b[48;5;223m\u001b[30mT\u001b[39m\u001b[49m\u001b[48;5;223m\u001b[30mT\u001b[39m\u001b[49m\u001b[48;5;223m\u001b[30mT\u001b[39m\u001b[49m\u001b[48;5;159m\u001b[30mG\u001b[39m\u001b[49m\n",
       "  [2]   400 \u001b[48;5;217m\u001b[30mA\u001b[39m\u001b[49m\u001b[48;5;217m\u001b[30mA\u001b[39m\u001b[49m\u001b[48;5;157m\u001b[30mC\u001b[39m\u001b[49m\u001b[48;5;157m\u001b[30mC\u001b[39m\u001b[49m\u001b[48;5;157m\u001b[30mC\u001b[39m\u001b[49m\u001b[48;5;223m\u001b[30mT\u001b[39m\u001b[49m\u001b[48;5;217m\u001b[30mA\u001b[39m\u001b[49m\u001b[48;5;159m\u001b[30mG\u001b[39m\u001b[49m\u001b[48;5;223m\u001b[30mT\u001b[39m\u001b[49m\u001b[48;5;159m\u001b[30mG\u001b[39m\u001b[49m\u001b[48;5;223m\u001b[30mT\u001b[39m\u001b[49m\u001b[48;5;217m\u001b[30mA\u001b[39m\u001b[49m\u001b[48;5;217m\u001b[30mA\u001b[39m\u001b[49m\u001b[48;5;159m\u001b[30mG\u001b[39m\u001b[49m\u001b[48;5;223m\u001b[30mT\u001b[39m\u001b[49m\u001b[48;5;223m\u001b[30mT\u001b[39m\u001b[49m\u001b[48;5;217m\u001b[30mA\u001b[39m\u001b[49m\u001b[48;5;217m\u001b[30mA\u001b[39m\u001b[49m\u001b[48;5;157m\u001b[30mC\u001b[39m\u001b[49m\u001b[48;5;217m\u001b[30mA\u001b[39m\u001b[49m\u001b[48;5;223m\u001b[30mT\u001b[39m\u001b[49m\u001b[48;5;217m\u001b[30mA\u001b[39m\u001b[49m\u001b[48;5;157m\u001b[30mC\u001b[39m\u001b[49m\u001b[48;5;157m\u001b[30mC\u001b[39m\u001b[49m\u001b[48;5;217m\u001b[30mA\u001b[39m\u001b[49m\u001b[48;5;217m\u001b[30mA\u001b[39m\u001b[49m\u001b[48;5;217m\u001b[30mA\u001b[39m\u001b[49m\u001b[48;5;159m\u001b[30mG\u001b[39m\u001b[49m\u001b[48;5;159m\u001b[30mG\u001b[39m\u001b[49m\u001b[48;5;159m\u001b[30mG\u001b[39m\u001b[49m\u001b[48;5;217m\u001b[30mA\u001b[39m\u001b[49m\u001b[48;5;157m\u001b[30mC\u001b[39m\u001b[49m\u001b[48;5;217m\u001b[30mA\u001b[39m\u001b[49m...\u001b[48;5;157m\u001b[30mC\u001b[39m\u001b[49m\u001b[48;5;223m\u001b[30mT\u001b[39m\u001b[49m\u001b[48;5;223m\u001b[30mT\u001b[39m\u001b[49m\u001b[48;5;223m\u001b[30mT\u001b[39m\u001b[49m\u001b[48;5;217m\u001b[30mA\u001b[39m\u001b[49m\u001b[48;5;223m\u001b[30mT\u001b[39m\u001b[49m\u001b[48;5;217m\u001b[30mA\u001b[39m\u001b[49m\u001b[48;5;157m\u001b[30mC\u001b[39m\u001b[49m\u001b[48;5;217m\u001b[30mA\u001b[39m\u001b[49m\u001b[48;5;223m\u001b[30mT\u001b[39m\u001b[49m\u001b[48;5;223m\u001b[30mT\u001b[39m\u001b[49m\u001b[48;5;157m\u001b[30mC\u001b[39m\u001b[49m\u001b[48;5;157m\u001b[30mC\u001b[39m\u001b[49m\u001b[48;5;223m\u001b[30mT\u001b[39m\u001b[49m\u001b[48;5;223m\u001b[30mT\u001b[39m\u001b[49m\u001b[48;5;157m\u001b[30mC\u001b[39m\u001b[49m\u001b[48;5;223m\u001b[30mT\u001b[39m\u001b[49m\u001b[48;5;159m\u001b[30mG\u001b[39m\u001b[49m\u001b[48;5;157m\u001b[30mC\u001b[39m\u001b[49m\u001b[48;5;223m\u001b[30mT\u001b[39m\u001b[49m\u001b[48;5;217m\u001b[30mA\u001b[39m\u001b[49m\u001b[48;5;217m\u001b[30mA\u001b[39m\u001b[49m\u001b[48;5;223m\u001b[30mT\u001b[39m\u001b[49m\u001b[48;5;157m\u001b[30mC\u001b[39m\u001b[49m\u001b[48;5;223m\u001b[30mT\u001b[39m\u001b[49m\u001b[48;5;223m\u001b[30mT\u001b[39m\u001b[49m\u001b[48;5;223m\u001b[30mT\u001b[39m\u001b[49m\u001b[48;5;159m\u001b[30mG\u001b[39m\u001b[49m\u001b[48;5;217m\u001b[30mA\u001b[39m\u001b[49m\u001b[48;5;217m\u001b[30mA\u001b[39m\u001b[49m\u001b[48;5;157m\u001b[30mC\u001b[39m\u001b[49m\u001b[48;5;157m\u001b[30mC\u001b[39m\u001b[49m\n",
       "  [3]   400 \u001b[48;5;217m\u001b[30mA\u001b[39m\u001b[49m\u001b[48;5;223m\u001b[30mT\u001b[39m\u001b[49m\u001b[48;5;159m\u001b[30mG\u001b[39m\u001b[49m\u001b[48;5;159m\u001b[30mG\u001b[39m\u001b[49m\u001b[48;5;157m\u001b[30mC\u001b[39m\u001b[49m\u001b[48;5;157m\u001b[30mC\u001b[39m\u001b[49m\u001b[48;5;223m\u001b[30mT\u001b[39m\u001b[49m\u001b[48;5;157m\u001b[30mC\u001b[39m\u001b[49m\u001b[48;5;223m\u001b[30mT\u001b[39m\u001b[49m\u001b[48;5;157m\u001b[30mC\u001b[39m\u001b[49m\u001b[48;5;157m\u001b[30mC\u001b[39m\u001b[49m\u001b[48;5;157m\u001b[30mC\u001b[39m\u001b[49m\u001b[48;5;157m\u001b[30mC\u001b[39m\u001b[49m\u001b[48;5;157m\u001b[30mC\u001b[39m\u001b[49m\u001b[48;5;159m\u001b[30mG\u001b[39m\u001b[49m\u001b[48;5;157m\u001b[30mC\u001b[39m\u001b[49m\u001b[48;5;159m\u001b[30mG\u001b[39m\u001b[49m\u001b[48;5;223m\u001b[30mT\u001b[39m\u001b[49m\u001b[48;5;159m\u001b[30mG\u001b[39m\u001b[49m\u001b[48;5;159m\u001b[30mG\u001b[39m\u001b[49m\u001b[48;5;157m\u001b[30mC\u001b[39m\u001b[49m\u001b[48;5;223m\u001b[30mT\u001b[39m\u001b[49m\u001b[48;5;223m\u001b[30mT\u001b[39m\u001b[49m\u001b[48;5;157m\u001b[30mC\u001b[39m\u001b[49m\u001b[48;5;223m\u001b[30mT\u001b[39m\u001b[49m\u001b[48;5;157m\u001b[30mC\u001b[39m\u001b[49m\u001b[48;5;157m\u001b[30mC\u001b[39m\u001b[49m\u001b[48;5;157m\u001b[30mC\u001b[39m\u001b[49m\u001b[48;5;157m\u001b[30mC\u001b[39m\u001b[49m\u001b[48;5;157m\u001b[30mC\u001b[39m\u001b[49m\u001b[48;5;159m\u001b[30mG\u001b[39m\u001b[49m\u001b[48;5;223m\u001b[30mT\u001b[39m\u001b[49m\u001b[48;5;159m\u001b[30mG\u001b[39m\u001b[49m...\u001b[48;5;159m\u001b[30mG\u001b[39m\u001b[49m\u001b[48;5;217m\u001b[30mA\u001b[39m\u001b[49m\u001b[48;5;157m\u001b[30mC\u001b[39m\u001b[49m\u001b[48;5;157m\u001b[30mC\u001b[39m\u001b[49m\u001b[48;5;157m\u001b[30mC\u001b[39m\u001b[49m\u001b[48;5;217m\u001b[30mA\u001b[39m\u001b[49m\u001b[48;5;159m\u001b[30mG\u001b[39m\u001b[49m\u001b[48;5;159m\u001b[30mG\u001b[39m\u001b[49m\u001b[48;5;217m\u001b[30mA\u001b[39m\u001b[49m\u001b[48;5;223m\u001b[30mT\u001b[39m\u001b[49m\u001b[48;5;157m\u001b[30mC\u001b[39m\u001b[49m\u001b[48;5;223m\u001b[30mT\u001b[39m\u001b[49m\u001b[48;5;159m\u001b[30mG\u001b[39m\u001b[49m\u001b[48;5;223m\u001b[30mT\u001b[39m\u001b[49m\u001b[48;5;223m\u001b[30mT\u001b[39m\u001b[49m\u001b[48;5;223m\u001b[30mT\u001b[39m\u001b[49m\u001b[48;5;159m\u001b[30mG\u001b[39m\u001b[49m\u001b[48;5;159m\u001b[30mG\u001b[39m\u001b[49m\u001b[48;5;159m\u001b[30mG\u001b[39m\u001b[49m\u001b[48;5;157m\u001b[30mC\u001b[39m\u001b[49m\u001b[48;5;159m\u001b[30mG\u001b[39m\u001b[49m\u001b[48;5;217m\u001b[30mA\u001b[39m\u001b[49m\u001b[48;5;159m\u001b[30mG\u001b[39m\u001b[49m\u001b[48;5;223m\u001b[30mT\u001b[39m\u001b[49m\u001b[48;5;159m\u001b[30mG\u001b[39m\u001b[49m\u001b[48;5;157m\u001b[30mC\u001b[39m\u001b[49m\u001b[48;5;157m\u001b[30mC\u001b[39m\u001b[49m\u001b[48;5;223m\u001b[30mT\u001b[39m\u001b[49m\u001b[48;5;157m\u001b[30mC\u001b[39m\u001b[49m\u001b[48;5;159m\u001b[30mG\u001b[39m\u001b[49m\u001b[48;5;223m\u001b[30mT\u001b[39m\u001b[49m\u001b[48;5;223m\u001b[30mT\u001b[39m\u001b[49m\n",
       "  [4]   400 \u001b[48;5;159m\u001b[30mG\u001b[39m\u001b[49m\u001b[48;5;159m\u001b[30mG\u001b[39m\u001b[49m\u001b[48;5;157m\u001b[30mC\u001b[39m\u001b[49m\u001b[48;5;223m\u001b[30mT\u001b[39m\u001b[49m\u001b[48;5;159m\u001b[30mG\u001b[39m\u001b[49m\u001b[48;5;157m\u001b[30mC\u001b[39m\u001b[49m\u001b[48;5;157m\u001b[30mC\u001b[39m\u001b[49m\u001b[48;5;157m\u001b[30mC\u001b[39m\u001b[49m\u001b[48;5;157m\u001b[30mC\u001b[39m\u001b[49m\u001b[48;5;217m\u001b[30mA\u001b[39m\u001b[49m\u001b[48;5;223m\u001b[30mT\u001b[39m\u001b[49m\u001b[48;5;157m\u001b[30mC\u001b[39m\u001b[49m\u001b[48;5;217m\u001b[30mA\u001b[39m\u001b[49m\u001b[48;5;157m\u001b[30mC\u001b[39m\u001b[49m\u001b[48;5;159m\u001b[30mG\u001b[39m\u001b[49m\u001b[48;5;157m\u001b[30mC\u001b[39m\u001b[49m\u001b[48;5;223m\u001b[30mT\u001b[39m\u001b[49m\u001b[48;5;157m\u001b[30mC\u001b[39m\u001b[49m\u001b[48;5;223m\u001b[30mT\u001b[39m\u001b[49m\u001b[48;5;157m\u001b[30mC\u001b[39m\u001b[49m\u001b[48;5;223m\u001b[30mT\u001b[39m\u001b[49m\u001b[48;5;157m\u001b[30mC\u001b[39m\u001b[49m\u001b[48;5;157m\u001b[30mC\u001b[39m\u001b[49m\u001b[48;5;223m\u001b[30mT\u001b[39m\u001b[49m\u001b[48;5;157m\u001b[30mC\u001b[39m\u001b[49m\u001b[48;5;157m\u001b[30mC\u001b[39m\u001b[49m\u001b[48;5;217m\u001b[30mA\u001b[39m\u001b[49m\u001b[48;5;157m\u001b[30mC\u001b[39m\u001b[49m\u001b[48;5;157m\u001b[30mC\u001b[39m\u001b[49m\u001b[48;5;217m\u001b[30mA\u001b[39m\u001b[49m\u001b[48;5;159m\u001b[30mG\u001b[39m\u001b[49m\u001b[48;5;159m\u001b[30mG\u001b[39m\u001b[49m\u001b[48;5;223m\u001b[30mT\u001b[39m\u001b[49m...\u001b[48;5;157m\u001b[30mC\u001b[39m\u001b[49m\u001b[48;5;157m\u001b[30mC\u001b[39m\u001b[49m\u001b[48;5;223m\u001b[30mT\u001b[39m\u001b[49m\u001b[48;5;223m\u001b[30mT\u001b[39m\u001b[49m\u001b[48;5;159m\u001b[30mG\u001b[39m\u001b[49m\u001b[48;5;217m\u001b[30mA\u001b[39m\u001b[49m\u001b[48;5;223m\u001b[30mT\u001b[39m\u001b[49m\u001b[48;5;217m\u001b[30mA\u001b[39m\u001b[49m\u001b[48;5;217m\u001b[30mA\u001b[39m\u001b[49m\u001b[48;5;157m\u001b[30mC\u001b[39m\u001b[49m\u001b[48;5;217m\u001b[30mA\u001b[39m\u001b[49m\u001b[48;5;157m\u001b[30mC\u001b[39m\u001b[49m\u001b[48;5;157m\u001b[30mC\u001b[39m\u001b[49m\u001b[48;5;157m\u001b[30mC\u001b[39m\u001b[49m\u001b[48;5;157m\u001b[30mC\u001b[39m\u001b[49m\u001b[48;5;217m\u001b[30mA\u001b[39m\u001b[49m\u001b[48;5;157m\u001b[30mC\u001b[39m\u001b[49m\u001b[48;5;157m\u001b[30mC\u001b[39m\u001b[49m\u001b[48;5;157m\u001b[30mC\u001b[39m\u001b[49m\u001b[48;5;157m\u001b[30mC\u001b[39m\u001b[49m\u001b[48;5;157m\u001b[30mC\u001b[39m\u001b[49m\u001b[48;5;159m\u001b[30mG\u001b[39m\u001b[49m\u001b[48;5;223m\u001b[30mT\u001b[39m\u001b[49m\u001b[48;5;157m\u001b[30mC\u001b[39m\u001b[49m\u001b[48;5;159m\u001b[30mG\u001b[39m\u001b[49m\u001b[48;5;157m\u001b[30mC\u001b[39m\u001b[49m\u001b[48;5;223m\u001b[30mT\u001b[39m\u001b[49m\u001b[48;5;159m\u001b[30mG\u001b[39m\u001b[49m\u001b[48;5;223m\u001b[30mT\u001b[39m\u001b[49m\u001b[48;5;223m\u001b[30mT\u001b[39m\u001b[49m\u001b[48;5;159m\u001b[30mG\u001b[39m\u001b[49m\u001b[48;5;223m\u001b[30mT\u001b[39m\u001b[49m\n",
       "  [5]   400 \u001b[48;5;157m\u001b[30mC\u001b[39m\u001b[49m\u001b[48;5;223m\u001b[30mT\u001b[39m\u001b[49m\u001b[48;5;217m\u001b[30mA\u001b[39m\u001b[49m\u001b[48;5;159m\u001b[30mG\u001b[39m\u001b[49m\u001b[48;5;157m\u001b[30mC\u001b[39m\u001b[49m\u001b[48;5;217m\u001b[30mA\u001b[39m\u001b[49m\u001b[48;5;223m\u001b[30mT\u001b[39m\u001b[49m\u001b[48;5;157m\u001b[30mC\u001b[39m\u001b[49m\u001b[48;5;217m\u001b[30mA\u001b[39m\u001b[49m\u001b[48;5;159m\u001b[30mG\u001b[39m\u001b[49m\u001b[48;5;223m\u001b[30mT\u001b[39m\u001b[49m\u001b[48;5;217m\u001b[30mA\u001b[39m\u001b[49m\u001b[48;5;217m\u001b[30mA\u001b[39m\u001b[49m\u001b[48;5;157m\u001b[30mC\u001b[39m\u001b[49m\u001b[48;5;157m\u001b[30mC\u001b[39m\u001b[49m\u001b[48;5;217m\u001b[30mA\u001b[39m\u001b[49m\u001b[48;5;159m\u001b[30mG\u001b[39m\u001b[49m\u001b[48;5;217m\u001b[30mA\u001b[39m\u001b[49m\u001b[48;5;159m\u001b[30mG\u001b[39m\u001b[49m\u001b[48;5;159m\u001b[30mG\u001b[39m\u001b[49m\u001b[48;5;159m\u001b[30mG\u001b[39m\u001b[49m\u001b[48;5;223m\u001b[30mT\u001b[39m\u001b[49m\u001b[48;5;217m\u001b[30mA\u001b[39m\u001b[49m\u001b[48;5;157m\u001b[30mC\u001b[39m\u001b[49m\u001b[48;5;159m\u001b[30mG\u001b[39m\u001b[49m\u001b[48;5;223m\u001b[30mT\u001b[39m\u001b[49m\u001b[48;5;157m\u001b[30mC\u001b[39m\u001b[49m\u001b[48;5;223m\u001b[30mT\u001b[39m\u001b[49m\u001b[48;5;157m\u001b[30mC\u001b[39m\u001b[49m\u001b[48;5;157m\u001b[30mC\u001b[39m\u001b[49m\u001b[48;5;217m\u001b[30mA\u001b[39m\u001b[49m\u001b[48;5;159m\u001b[30mG\u001b[39m\u001b[49m\u001b[48;5;223m\u001b[30mT\u001b[39m\u001b[49m...\u001b[48;5;223m\u001b[30mT\u001b[39m\u001b[49m\u001b[48;5;157m\u001b[30mC\u001b[39m\u001b[49m\u001b[48;5;157m\u001b[30mC\u001b[39m\u001b[49m\u001b[48;5;223m\u001b[30mT\u001b[39m\u001b[49m\u001b[48;5;157m\u001b[30mC\u001b[39m\u001b[49m\u001b[48;5;157m\u001b[30mC\u001b[39m\u001b[49m\u001b[48;5;157m\u001b[30mC\u001b[39m\u001b[49m\u001b[48;5;223m\u001b[30mT\u001b[39m\u001b[49m\u001b[48;5;157m\u001b[30mC\u001b[39m\u001b[49m\u001b[48;5;157m\u001b[30mC\u001b[39m\u001b[49m\u001b[48;5;157m\u001b[30mC\u001b[39m\u001b[49m\u001b[48;5;223m\u001b[30mT\u001b[39m\u001b[49m\u001b[48;5;157m\u001b[30mC\u001b[39m\u001b[49m\u001b[48;5;157m\u001b[30mC\u001b[39m\u001b[49m\u001b[48;5;223m\u001b[30mT\u001b[39m\u001b[49m\u001b[48;5;157m\u001b[30mC\u001b[39m\u001b[49m\u001b[48;5;157m\u001b[30mC\u001b[39m\u001b[49m\u001b[48;5;157m\u001b[30mC\u001b[39m\u001b[49m\u001b[48;5;157m\u001b[30mC\u001b[39m\u001b[49m\u001b[48;5;223m\u001b[30mT\u001b[39m\u001b[49m\u001b[48;5;223m\u001b[30mT\u001b[39m\u001b[49m\u001b[48;5;157m\u001b[30mC\u001b[39m\u001b[49m\u001b[48;5;223m\u001b[30mT\u001b[39m\u001b[49m\u001b[48;5;157m\u001b[30mC\u001b[39m\u001b[49m\u001b[48;5;157m\u001b[30mC\u001b[39m\u001b[49m\u001b[48;5;223m\u001b[30mT\u001b[39m\u001b[49m\u001b[48;5;157m\u001b[30mC\u001b[39m\u001b[49m\u001b[48;5;157m\u001b[30mC\u001b[39m\u001b[49m\u001b[48;5;223m\u001b[30mT\u001b[39m\u001b[49m\u001b[48;5;157m\u001b[30mC\u001b[39m\u001b[49m\u001b[48;5;223m\u001b[30mT\u001b[39m\u001b[49m\u001b[48;5;223m\u001b[30mT\u001b[39m\u001b[49m\n",
       "  ...   ... ...\n",
       "[720]   400 \u001b[48;5;159m\u001b[30mG\u001b[39m\u001b[49m\u001b[48;5;159m\u001b[30mG\u001b[39m\u001b[49m\u001b[48;5;159m\u001b[30mG\u001b[39m\u001b[49m\u001b[48;5;159m\u001b[30mG\u001b[39m\u001b[49m\u001b[48;5;157m\u001b[30mC\u001b[39m\u001b[49m\u001b[48;5;159m\u001b[30mG\u001b[39m\u001b[49m\u001b[48;5;217m\u001b[30mA\u001b[39m\u001b[49m\u001b[48;5;217m\u001b[30mA\u001b[39m\u001b[49m\u001b[48;5;159m\u001b[30mG\u001b[39m\u001b[49m\u001b[48;5;159m\u001b[30mG\u001b[39m\u001b[49m\u001b[48;5;157m\u001b[30mC\u001b[39m\u001b[49m\u001b[48;5;217m\u001b[30mA\u001b[39m\u001b[49m\u001b[48;5;159m\u001b[30mG\u001b[39m\u001b[49m\u001b[48;5;157m\u001b[30mC\u001b[39m\u001b[49m\u001b[48;5;223m\u001b[30mT\u001b[39m\u001b[49m\u001b[48;5;223m\u001b[30mT\u001b[39m\u001b[49m\u001b[48;5;223m\u001b[30mT\u001b[39m\u001b[49m\u001b[48;5;159m\u001b[30mG\u001b[39m\u001b[49m\u001b[48;5;223m\u001b[30mT\u001b[39m\u001b[49m\u001b[48;5;157m\u001b[30mC\u001b[39m\u001b[49m\u001b[48;5;157m\u001b[30mC\u001b[39m\u001b[49m\u001b[48;5;223m\u001b[30mT\u001b[39m\u001b[49m\u001b[48;5;159m\u001b[30mG\u001b[39m\u001b[49m\u001b[48;5;157m\u001b[30mC\u001b[39m\u001b[49m\u001b[48;5;157m\u001b[30mC\u001b[39m\u001b[49m\u001b[48;5;157m\u001b[30mC\u001b[39m\u001b[49m\u001b[48;5;157m\u001b[30mC\u001b[39m\u001b[49m\u001b[48;5;223m\u001b[30mT\u001b[39m\u001b[49m\u001b[48;5;217m\u001b[30mA\u001b[39m\u001b[49m\u001b[48;5;223m\u001b[30mT\u001b[39m\u001b[49m\u001b[48;5;159m\u001b[30mG\u001b[39m\u001b[49m\u001b[48;5;159m\u001b[30mG\u001b[39m\u001b[49m\u001b[48;5;159m\u001b[30mG\u001b[39m\u001b[49m...\u001b[48;5;223m\u001b[30mT\u001b[39m\u001b[49m\u001b[48;5;217m\u001b[30mA\u001b[39m\u001b[49m\u001b[48;5;217m\u001b[30mA\u001b[39m\u001b[49m\u001b[48;5;223m\u001b[30mT\u001b[39m\u001b[49m\u001b[48;5;217m\u001b[30mA\u001b[39m\u001b[49m\u001b[48;5;159m\u001b[30mG\u001b[39m\u001b[49m\u001b[48;5;159m\u001b[30mG\u001b[39m\u001b[49m\u001b[48;5;223m\u001b[30mT\u001b[39m\u001b[49m\u001b[48;5;223m\u001b[30mT\u001b[39m\u001b[49m\u001b[48;5;157m\u001b[30mC\u001b[39m\u001b[49m\u001b[48;5;159m\u001b[30mG\u001b[39m\u001b[49m\u001b[48;5;157m\u001b[30mC\u001b[39m\u001b[49m\u001b[48;5;223m\u001b[30mT\u001b[39m\u001b[49m\u001b[48;5;159m\u001b[30mG\u001b[39m\u001b[49m\u001b[48;5;157m\u001b[30mC\u001b[39m\u001b[49m\u001b[48;5;157m\u001b[30mC\u001b[39m\u001b[49m\u001b[48;5;223m\u001b[30mT\u001b[39m\u001b[49m\u001b[48;5;159m\u001b[30mG\u001b[39m\u001b[49m\u001b[48;5;217m\u001b[30mA\u001b[39m\u001b[49m\u001b[48;5;223m\u001b[30mT\u001b[39m\u001b[49m\u001b[48;5;159m\u001b[30mG\u001b[39m\u001b[49m\u001b[48;5;159m\u001b[30mG\u001b[39m\u001b[49m\u001b[48;5;159m\u001b[30mG\u001b[39m\u001b[49m\u001b[48;5;157m\u001b[30mC\u001b[39m\u001b[49m\u001b[48;5;217m\u001b[30mA\u001b[39m\u001b[49m\u001b[48;5;159m\u001b[30mG\u001b[39m\u001b[49m\u001b[48;5;157m\u001b[30mC\u001b[39m\u001b[49m\u001b[48;5;157m\u001b[30mC\u001b[39m\u001b[49m\u001b[48;5;217m\u001b[30mA\u001b[39m\u001b[49m\u001b[48;5;159m\u001b[30mG\u001b[39m\u001b[49m\u001b[48;5;157m\u001b[30mC\u001b[39m\u001b[49m\u001b[48;5;217m\u001b[30mA\u001b[39m\u001b[49m\n",
       "[721]   400 \u001b[48;5;157m\u001b[30mC\u001b[39m\u001b[49m\u001b[48;5;157m\u001b[30mC\u001b[39m\u001b[49m\u001b[48;5;157m\u001b[30mC\u001b[39m\u001b[49m\u001b[48;5;159m\u001b[30mG\u001b[39m\u001b[49m\u001b[48;5;159m\u001b[30mG\u001b[39m\u001b[49m\u001b[48;5;223m\u001b[30mT\u001b[39m\u001b[49m\u001b[48;5;223m\u001b[30mT\u001b[39m\u001b[49m\u001b[48;5;217m\u001b[30mA\u001b[39m\u001b[49m\u001b[48;5;157m\u001b[30mC\u001b[39m\u001b[49m\u001b[48;5;223m\u001b[30mT\u001b[39m\u001b[49m\u001b[48;5;223m\u001b[30mT\u001b[39m\u001b[49m\u001b[48;5;157m\u001b[30mC\u001b[39m\u001b[49m\u001b[48;5;157m\u001b[30mC\u001b[39m\u001b[49m\u001b[48;5;223m\u001b[30mT\u001b[39m\u001b[49m\u001b[48;5;157m\u001b[30mC\u001b[39m\u001b[49m\u001b[48;5;157m\u001b[30mC\u001b[39m\u001b[49m\u001b[48;5;217m\u001b[30mA\u001b[39m\u001b[49m\u001b[48;5;159m\u001b[30mG\u001b[39m\u001b[49m\u001b[48;5;217m\u001b[30mA\u001b[39m\u001b[49m\u001b[48;5;159m\u001b[30mG\u001b[39m\u001b[49m\u001b[48;5;217m\u001b[30mA\u001b[39m\u001b[49m\u001b[48;5;157m\u001b[30mC\u001b[39m\u001b[49m\u001b[48;5;223m\u001b[30mT\u001b[39m\u001b[49m\u001b[48;5;159m\u001b[30mG\u001b[39m\u001b[49m\u001b[48;5;217m\u001b[30mA\u001b[39m\u001b[49m\u001b[48;5;157m\u001b[30mC\u001b[39m\u001b[49m\u001b[48;5;159m\u001b[30mG\u001b[39m\u001b[49m\u001b[48;5;217m\u001b[30mA\u001b[39m\u001b[49m\u001b[48;5;159m\u001b[30mG\u001b[39m\u001b[49m\u001b[48;5;223m\u001b[30mT\u001b[39m\u001b[49m\u001b[48;5;159m\u001b[30mG\u001b[39m\u001b[49m\u001b[48;5;157m\u001b[30mC\u001b[39m\u001b[49m\u001b[48;5;159m\u001b[30mG\u001b[39m\u001b[49m...\u001b[48;5;223m\u001b[30mT\u001b[39m\u001b[49m\u001b[48;5;157m\u001b[30mC\u001b[39m\u001b[49m\u001b[48;5;157m\u001b[30mC\u001b[39m\u001b[49m\u001b[48;5;159m\u001b[30mG\u001b[39m\u001b[49m\u001b[48;5;157m\u001b[30mC\u001b[39m\u001b[49m\u001b[48;5;159m\u001b[30mG\u001b[39m\u001b[49m\u001b[48;5;157m\u001b[30mC\u001b[39m\u001b[49m\u001b[48;5;157m\u001b[30mC\u001b[39m\u001b[49m\u001b[48;5;159m\u001b[30mG\u001b[39m\u001b[49m\u001b[48;5;159m\u001b[30mG\u001b[39m\u001b[49m\u001b[48;5;157m\u001b[30mC\u001b[39m\u001b[49m\u001b[48;5;223m\u001b[30mT\u001b[39m\u001b[49m\u001b[48;5;157m\u001b[30mC\u001b[39m\u001b[49m\u001b[48;5;159m\u001b[30mG\u001b[39m\u001b[49m\u001b[48;5;223m\u001b[30mT\u001b[39m\u001b[49m\u001b[48;5;223m\u001b[30mT\u001b[39m\u001b[49m\u001b[48;5;223m\u001b[30mT\u001b[39m\u001b[49m\u001b[48;5;223m\u001b[30mT\u001b[39m\u001b[49m\u001b[48;5;157m\u001b[30mC\u001b[39m\u001b[49m\u001b[48;5;157m\u001b[30mC\u001b[39m\u001b[49m\u001b[48;5;159m\u001b[30mG\u001b[39m\u001b[49m\u001b[48;5;159m\u001b[30mG\u001b[39m\u001b[49m\u001b[48;5;223m\u001b[30mT\u001b[39m\u001b[49m\u001b[48;5;223m\u001b[30mT\u001b[39m\u001b[49m\u001b[48;5;217m\u001b[30mA\u001b[39m\u001b[49m\u001b[48;5;223m\u001b[30mT\u001b[39m\u001b[49m\u001b[48;5;159m\u001b[30mG\u001b[39m\u001b[49m\u001b[48;5;159m\u001b[30mG\u001b[39m\u001b[49m\u001b[48;5;217m\u001b[30mA\u001b[39m\u001b[49m\u001b[48;5;159m\u001b[30mG\u001b[39m\u001b[49m\u001b[48;5;223m\u001b[30mT\u001b[39m\u001b[49m\u001b[48;5;159m\u001b[30mG\u001b[39m\u001b[49m\n",
       "[722]   400 \u001b[48;5;157m\u001b[30mC\u001b[39m\u001b[49m\u001b[48;5;217m\u001b[30mA\u001b[39m\u001b[49m\u001b[48;5;157m\u001b[30mC\u001b[39m\u001b[49m\u001b[48;5;159m\u001b[30mG\u001b[39m\u001b[49m\u001b[48;5;159m\u001b[30mG\u001b[39m\u001b[49m\u001b[48;5;159m\u001b[30mG\u001b[39m\u001b[49m\u001b[48;5;223m\u001b[30mT\u001b[39m\u001b[49m\u001b[48;5;159m\u001b[30mG\u001b[39m\u001b[49m\u001b[48;5;159m\u001b[30mG\u001b[39m\u001b[49m\u001b[48;5;157m\u001b[30mC\u001b[39m\u001b[49m\u001b[48;5;159m\u001b[30mG\u001b[39m\u001b[49m\u001b[48;5;223m\u001b[30mT\u001b[39m\u001b[49m\u001b[48;5;157m\u001b[30mC\u001b[39m\u001b[49m\u001b[48;5;223m\u001b[30mT\u001b[39m\u001b[49m\u001b[48;5;223m\u001b[30mT\u001b[39m\u001b[49m\u001b[48;5;159m\u001b[30mG\u001b[39m\u001b[49m\u001b[48;5;217m\u001b[30mA\u001b[39m\u001b[49m\u001b[48;5;157m\u001b[30mC\u001b[39m\u001b[49m\u001b[48;5;223m\u001b[30mT\u001b[39m\u001b[49m\u001b[48;5;157m\u001b[30mC\u001b[39m\u001b[49m\u001b[48;5;157m\u001b[30mC\u001b[39m\u001b[49m\u001b[48;5;157m\u001b[30mC\u001b[39m\u001b[49m\u001b[48;5;223m\u001b[30mT\u001b[39m\u001b[49m\u001b[48;5;159m\u001b[30mG\u001b[39m\u001b[49m\u001b[48;5;157m\u001b[30mC\u001b[39m\u001b[49m\u001b[48;5;157m\u001b[30mC\u001b[39m\u001b[49m\u001b[48;5;157m\u001b[30mC\u001b[39m\u001b[49m\u001b[48;5;157m\u001b[30mC\u001b[39m\u001b[49m\u001b[48;5;223m\u001b[30mT\u001b[39m\u001b[49m\u001b[48;5;157m\u001b[30mC\u001b[39m\u001b[49m\u001b[48;5;157m\u001b[30mC\u001b[39m\u001b[49m\u001b[48;5;217m\u001b[30mA\u001b[39m\u001b[49m\u001b[48;5;159m\u001b[30mG\u001b[39m\u001b[49m...\u001b[48;5;223m\u001b[30mT\u001b[39m\u001b[49m\u001b[48;5;157m\u001b[30mC\u001b[39m\u001b[49m\u001b[48;5;157m\u001b[30mC\u001b[39m\u001b[49m\u001b[48;5;159m\u001b[30mG\u001b[39m\u001b[49m\u001b[48;5;157m\u001b[30mC\u001b[39m\u001b[49m\u001b[48;5;159m\u001b[30mG\u001b[39m\u001b[49m\u001b[48;5;157m\u001b[30mC\u001b[39m\u001b[49m\u001b[48;5;217m\u001b[30mA\u001b[39m\u001b[49m\u001b[48;5;157m\u001b[30mC\u001b[39m\u001b[49m\u001b[48;5;217m\u001b[30mA\u001b[39m\u001b[49m\u001b[48;5;157m\u001b[30mC\u001b[39m\u001b[49m\u001b[48;5;157m\u001b[30mC\u001b[39m\u001b[49m\u001b[48;5;157m\u001b[30mC\u001b[39m\u001b[49m\u001b[48;5;157m\u001b[30mC\u001b[39m\u001b[49m\u001b[48;5;159m\u001b[30mG\u001b[39m\u001b[49m\u001b[48;5;157m\u001b[30mC\u001b[39m\u001b[49m\u001b[48;5;159m\u001b[30mG\u001b[39m\u001b[49m\u001b[48;5;159m\u001b[30mG\u001b[39m\u001b[49m\u001b[48;5;157m\u001b[30mC\u001b[39m\u001b[49m\u001b[48;5;157m\u001b[30mC\u001b[39m\u001b[49m\u001b[48;5;157m\u001b[30mC\u001b[39m\u001b[49m\u001b[48;5;159m\u001b[30mG\u001b[39m\u001b[49m\u001b[48;5;159m\u001b[30mG\u001b[39m\u001b[49m\u001b[48;5;159m\u001b[30mG\u001b[39m\u001b[49m\u001b[48;5;157m\u001b[30mC\u001b[39m\u001b[49m\u001b[48;5;157m\u001b[30mC\u001b[39m\u001b[49m\u001b[48;5;159m\u001b[30mG\u001b[39m\u001b[49m\u001b[48;5;157m\u001b[30mC\u001b[39m\u001b[49m\u001b[48;5;157m\u001b[30mC\u001b[39m\u001b[49m\u001b[48;5;159m\u001b[30mG\u001b[39m\u001b[49m\u001b[48;5;159m\u001b[30mG\u001b[39m\u001b[49m\u001b[48;5;157m\u001b[30mC\u001b[39m\u001b[49m\n",
       "[723]   400 \u001b[48;5;223m\u001b[30mT\u001b[39m\u001b[49m\u001b[48;5;159m\u001b[30mG\u001b[39m\u001b[49m\u001b[48;5;157m\u001b[30mC\u001b[39m\u001b[49m\u001b[48;5;157m\u001b[30mC\u001b[39m\u001b[49m\u001b[48;5;217m\u001b[30mA\u001b[39m\u001b[49m\u001b[48;5;159m\u001b[30mG\u001b[39m\u001b[49m\u001b[48;5;157m\u001b[30mC\u001b[39m\u001b[49m\u001b[48;5;157m\u001b[30mC\u001b[39m\u001b[49m\u001b[48;5;223m\u001b[30mT\u001b[39m\u001b[49m\u001b[48;5;157m\u001b[30mC\u001b[39m\u001b[49m\u001b[48;5;223m\u001b[30mT\u001b[39m\u001b[49m\u001b[48;5;159m\u001b[30mG\u001b[39m\u001b[49m\u001b[48;5;159m\u001b[30mG\u001b[39m\u001b[49m\u001b[48;5;157m\u001b[30mC\u001b[39m\u001b[49m\u001b[48;5;157m\u001b[30mC\u001b[39m\u001b[49m\u001b[48;5;217m\u001b[30mA\u001b[39m\u001b[49m\u001b[48;5;217m\u001b[30mA\u001b[39m\u001b[49m\u001b[48;5;217m\u001b[30mA\u001b[39m\u001b[49m\u001b[48;5;159m\u001b[30mG\u001b[39m\u001b[49m\u001b[48;5;159m\u001b[30mG\u001b[39m\u001b[49m\u001b[48;5;157m\u001b[30mC\u001b[39m\u001b[49m\u001b[48;5;157m\u001b[30mC\u001b[39m\u001b[49m\u001b[48;5;223m\u001b[30mT\u001b[39m\u001b[49m\u001b[48;5;159m\u001b[30mG\u001b[39m\u001b[49m\u001b[48;5;159m\u001b[30mG\u001b[39m\u001b[49m\u001b[48;5;159m\u001b[30mG\u001b[39m\u001b[49m\u001b[48;5;157m\u001b[30mC\u001b[39m\u001b[49m\u001b[48;5;159m\u001b[30mG\u001b[39m\u001b[49m\u001b[48;5;157m\u001b[30mC\u001b[39m\u001b[49m\u001b[48;5;217m\u001b[30mA\u001b[39m\u001b[49m\u001b[48;5;159m\u001b[30mG\u001b[39m\u001b[49m\u001b[48;5;217m\u001b[30mA\u001b[39m\u001b[49m\u001b[48;5;159m\u001b[30mG\u001b[39m\u001b[49m...\u001b[48;5;157m\u001b[30mC\u001b[39m\u001b[49m\u001b[48;5;217m\u001b[30mA\u001b[39m\u001b[49m\u001b[48;5;159m\u001b[30mG\u001b[39m\u001b[49m\u001b[48;5;159m\u001b[30mG\u001b[39m\u001b[49m\u001b[48;5;217m\u001b[30mA\u001b[39m\u001b[49m\u001b[48;5;159m\u001b[30mG\u001b[39m\u001b[49m\u001b[48;5;157m\u001b[30mC\u001b[39m\u001b[49m\u001b[48;5;217m\u001b[30mA\u001b[39m\u001b[49m\u001b[48;5;159m\u001b[30mG\u001b[39m\u001b[49m\u001b[48;5;157m\u001b[30mC\u001b[39m\u001b[49m\u001b[48;5;217m\u001b[30mA\u001b[39m\u001b[49m\u001b[48;5;159m\u001b[30mG\u001b[39m\u001b[49m\u001b[48;5;157m\u001b[30mC\u001b[39m\u001b[49m\u001b[48;5;217m\u001b[30mA\u001b[39m\u001b[49m\u001b[48;5;157m\u001b[30mC\u001b[39m\u001b[49m\u001b[48;5;157m\u001b[30mC\u001b[39m\u001b[49m\u001b[48;5;223m\u001b[30mT\u001b[39m\u001b[49m\u001b[48;5;159m\u001b[30mG\u001b[39m\u001b[49m\u001b[48;5;217m\u001b[30mA\u001b[39m\u001b[49m\u001b[48;5;159m\u001b[30mG\u001b[39m\u001b[49m\u001b[48;5;157m\u001b[30mC\u001b[39m\u001b[49m\u001b[48;5;159m\u001b[30mG\u001b[39m\u001b[49m\u001b[48;5;159m\u001b[30mG\u001b[39m\u001b[49m\u001b[48;5;159m\u001b[30mG\u001b[39m\u001b[49m\u001b[48;5;223m\u001b[30mT\u001b[39m\u001b[49m\u001b[48;5;159m\u001b[30mG\u001b[39m\u001b[49m\u001b[48;5;159m\u001b[30mG\u001b[39m\u001b[49m\u001b[48;5;223m\u001b[30mT\u001b[39m\u001b[49m\u001b[48;5;157m\u001b[30mC\u001b[39m\u001b[49m\u001b[48;5;223m\u001b[30mT\u001b[39m\u001b[49m\u001b[48;5;159m\u001b[30mG\u001b[39m\u001b[49m\u001b[48;5;159m\u001b[30mG\u001b[39m\u001b[49m\n",
       "[724]   400 \u001b[48;5;159m\u001b[30mG\u001b[39m\u001b[49m\u001b[48;5;157m\u001b[30mC\u001b[39m\u001b[49m\u001b[48;5;157m\u001b[30mC\u001b[39m\u001b[49m\u001b[48;5;157m\u001b[30mC\u001b[39m\u001b[49m\u001b[48;5;159m\u001b[30mG\u001b[39m\u001b[49m\u001b[48;5;159m\u001b[30mG\u001b[39m\u001b[49m\u001b[48;5;159m\u001b[30mG\u001b[39m\u001b[49m\u001b[48;5;217m\u001b[30mA\u001b[39m\u001b[49m\u001b[48;5;157m\u001b[30mC\u001b[39m\u001b[49m\u001b[48;5;223m\u001b[30mT\u001b[39m\u001b[49m\u001b[48;5;157m\u001b[30mC\u001b[39m\u001b[49m\u001b[48;5;217m\u001b[30mA\u001b[39m\u001b[49m\u001b[48;5;159m\u001b[30mG\u001b[39m\u001b[49m\u001b[48;5;223m\u001b[30mT\u001b[39m\u001b[49m\u001b[48;5;159m\u001b[30mG\u001b[39m\u001b[49m\u001b[48;5;159m\u001b[30mG\u001b[39m\u001b[49m\u001b[48;5;217m\u001b[30mA\u001b[39m\u001b[49m\u001b[48;5;159m\u001b[30mG\u001b[39m\u001b[49m\u001b[48;5;223m\u001b[30mT\u001b[39m\u001b[49m\u001b[48;5;157m\u001b[30mC\u001b[39m\u001b[49m\u001b[48;5;217m\u001b[30mA\u001b[39m\u001b[49m\u001b[48;5;159m\u001b[30mG\u001b[39m\u001b[49m\u001b[48;5;157m\u001b[30mC\u001b[39m\u001b[49m\u001b[48;5;157m\u001b[30mC\u001b[39m\u001b[49m\u001b[48;5;217m\u001b[30mA\u001b[39m\u001b[49m\u001b[48;5;157m\u001b[30mC\u001b[39m\u001b[49m\u001b[48;5;157m\u001b[30mC\u001b[39m\u001b[49m\u001b[48;5;157m\u001b[30mC\u001b[39m\u001b[49m\u001b[48;5;157m\u001b[30mC\u001b[39m\u001b[49m\u001b[48;5;217m\u001b[30mA\u001b[39m\u001b[49m\u001b[48;5;159m\u001b[30mG\u001b[39m\u001b[49m\u001b[48;5;217m\u001b[30mA\u001b[39m\u001b[49m\u001b[48;5;157m\u001b[30mC\u001b[39m\u001b[49m...\u001b[48;5;157m\u001b[30mC\u001b[39m\u001b[49m\u001b[48;5;157m\u001b[30mC\u001b[39m\u001b[49m\u001b[48;5;157m\u001b[30mC\u001b[39m\u001b[49m\u001b[48;5;217m\u001b[30mA\u001b[39m\u001b[49m\u001b[48;5;159m\u001b[30mG\u001b[39m\u001b[49m\u001b[48;5;157m\u001b[30mC\u001b[39m\u001b[49m\u001b[48;5;157m\u001b[30mC\u001b[39m\u001b[49m\u001b[48;5;159m\u001b[30mG\u001b[39m\u001b[49m\u001b[48;5;159m\u001b[30mG\u001b[39m\u001b[49m\u001b[48;5;217m\u001b[30mA\u001b[39m\u001b[49m\u001b[48;5;159m\u001b[30mG\u001b[39m\u001b[49m\u001b[48;5;217m\u001b[30mA\u001b[39m\u001b[49m\u001b[48;5;223m\u001b[30mT\u001b[39m\u001b[49m\u001b[48;5;223m\u001b[30mT\u001b[39m\u001b[49m\u001b[48;5;157m\u001b[30mC\u001b[39m\u001b[49m\u001b[48;5;217m\u001b[30mA\u001b[39m\u001b[49m\u001b[48;5;159m\u001b[30mG\u001b[39m\u001b[49m\u001b[48;5;157m\u001b[30mC\u001b[39m\u001b[49m\u001b[48;5;157m\u001b[30mC\u001b[39m\u001b[49m\u001b[48;5;157m\u001b[30mC\u001b[39m\u001b[49m\u001b[48;5;223m\u001b[30mT\u001b[39m\u001b[49m\u001b[48;5;159m\u001b[30mG\u001b[39m\u001b[49m\u001b[48;5;159m\u001b[30mG\u001b[39m\u001b[49m\u001b[48;5;159m\u001b[30mG\u001b[39m\u001b[49m\u001b[48;5;217m\u001b[30mA\u001b[39m\u001b[49m\u001b[48;5;223m\u001b[30mT\u001b[39m\u001b[49m\u001b[48;5;157m\u001b[30mC\u001b[39m\u001b[49m\u001b[48;5;223m\u001b[30mT\u001b[39m\u001b[49m\u001b[48;5;157m\u001b[30mC\u001b[39m\u001b[49m\u001b[48;5;223m\u001b[30mT\u001b[39m\u001b[49m\u001b[48;5;159m\u001b[30mG\u001b[39m\u001b[49m\u001b[48;5;223m\u001b[30mT\u001b[39m\u001b[49m"
      ]
     },
     "metadata": {},
     "output_type": "display_data"
    }
   ],
   "source": [
    "seq"
   ]
  },
  {
   "cell_type": "markdown",
   "metadata": {},
   "source": [
    "ピーク領域の配列を取得できたので、続いて転写因子のモチーフ配列がそこに含まれているかどうか確認してみましょう。  \n",
    "ここでは、`TFBSTools` パッケージを利用します。  \n",
    "まず、効率的なスキャニングができるように、元の確率マトリクスを `PWMMatrix` オブジェクトに変換します。"
   ]
  },
  {
   "cell_type": "code",
   "execution_count": 70,
   "metadata": {},
   "outputs": [],
   "source": [
    "# TFBS tools パッケージの読み込み\n",
    "library(TFBSTools)"
   ]
  },
  {
   "cell_type": "code",
   "execution_count": 71,
   "metadata": {},
   "outputs": [],
   "source": [
    "# マトリクスを PWM オブジェクトに変換\n",
    "ctcf_pwm = PWMatrix(\n",
    "    ID = 'CTCF', \n",
    "    profileMatrix = ctcf_motif\n",
    ")"
   ]
  },
  {
   "cell_type": "code",
   "execution_count": 72,
   "metadata": {},
   "outputs": [
    {
     "data": {
      "text/plain": [
       "An object of class PWMatrix\n",
       "ID: CTCF\n",
       "Name: Unknown\n",
       "Matrix Class: Unknown\n",
       "strand: +\n",
       "Pseudocounts: \n",
       "Tags: \n",
       "list()\n",
       "Background: \n",
       "   A    C    G    T \n",
       "0.25 0.25 0.25 0.25 \n",
       "Matrix: \n",
       "      1     2     3     4     5     6     7     8     9    10    11    12    13\n",
       "A 0.100 0.162 0.302 0.072 0.012 0.786 0.024 0.122 0.914 0.012 0.376 0.022 0.028\n",
       "C 0.356 0.214 0.100 0.826 0.966 0.024 0.620 0.494 0.010 0.008 0.010 0.022 0.002\n",
       "G 0.122 0.406 0.436 0.050 0.012 0.108 0.336 0.056 0.048 0.976 0.602 0.606 0.962\n",
       "T 0.422 0.218 0.162 0.052 0.010 0.082 0.020 0.328 0.028 0.004 0.012 0.350 0.008\n",
       "     14    15    16    17    18    19\n",
       "A 0.024 0.096 0.424 0.086 0.122 0.342\n",
       "C 0.016 0.818 0.024 0.532 0.348 0.260\n",
       "G 0.880 0.038 0.522 0.326 0.122 0.318\n",
       "T 0.080 0.048 0.030 0.056 0.408 0.080"
      ]
     },
     "metadata": {},
     "output_type": "display_data"
    }
   ],
   "source": [
    "ctcf_pwm"
   ]
  },
  {
   "cell_type": "markdown",
   "metadata": {},
   "source": [
    "モチーフ配列があるかどうか `searchSeq` 関数で調べることができます。  \n",
    "モチーフ配列かどうか判断するために、カットオフ値を設定する必要があります。  \n",
    "最大スコアの 80% をカットオフ値に設定します。"
   ]
  },
  {
   "cell_type": "code",
   "execution_count": 88,
   "metadata": {},
   "outputs": [],
   "source": [
    "# カットオフ値(最大スコアの 80%)を設定して、モチーフ配列がピーク領域に含まれるかどうか判定。\n",
    "hits = searchSeq(ctcf_pwm, seq, min.score=\"80%\", strand=\"*\")"
   ]
  },
  {
   "cell_type": "code",
   "execution_count": 91,
   "metadata": {},
   "outputs": [],
   "source": [
    "# data.frame に変換\n",
    "hits = as.data.frame(hits)"
   ]
  },
  {
   "cell_type": "code",
   "execution_count": 92,
   "metadata": {},
   "outputs": [
    {
     "data": {
      "text/html": [
       "<table>\n",
       "<caption>A data.frame: 5 × 12</caption>\n",
       "<thead>\n",
       "\t<tr><th></th><th scope=col>seqnames</th><th scope=col>source</th><th scope=col>feature</th><th scope=col>start</th><th scope=col>end</th><th scope=col>absScore</th><th scope=col>relScore</th><th scope=col>strand</th><th scope=col>ID</th><th scope=col>TF</th><th scope=col>class</th><th scope=col>siteSeqs</th></tr>\n",
       "\t<tr><th></th><th scope=col>&lt;chr&gt;</th><th scope=col>&lt;chr&gt;</th><th scope=col>&lt;chr&gt;</th><th scope=col>&lt;int&gt;</th><th scope=col>&lt;int&gt;</th><th scope=col>&lt;dbl&gt;</th><th scope=col>&lt;dbl&gt;</th><th scope=col>&lt;chr&gt;</th><th scope=col>&lt;chr&gt;</th><th scope=col>&lt;chr&gt;</th><th scope=col>&lt;chr&gt;</th><th scope=col>&lt;chr&gt;</th></tr>\n",
       "</thead>\n",
       "<tbody>\n",
       "\t<tr><th scope=row>1</th><td>1</td><td>TFBS</td><td>TFBS</td><td> 42</td><td> 60</td><td>11.432</td><td>0.9064761</td><td>+</td><td>CTCF</td><td>Unknown</td><td>Unknown</td><td>GGGCCTCCAGGGGGCGCTC</td></tr>\n",
       "\t<tr><th scope=row>2</th><td>1</td><td>TFBS</td><td>TFBS</td><td>100</td><td>118</td><td>10.674</td><td>0.8411988</td><td>+</td><td>CTCF</td><td>Unknown</td><td>Unknown</td><td>GGGCCTCTAGCGGGCGCTC</td></tr>\n",
       "\t<tr><th scope=row>3</th><td>2</td><td>TFBS</td><td>TFBS</td><td>154</td><td>172</td><td>11.542</td><td>0.9159490</td><td>-</td><td>CTCF</td><td>Unknown</td><td>Unknown</td><td>TGGCCACAAGGTGGCGGCC</td></tr>\n",
       "\t<tr><th scope=row>4</th><td>4</td><td>TFBS</td><td>TFBS</td><td>292</td><td>310</td><td>11.432</td><td>0.9064761</td><td>+</td><td>CTCF</td><td>Unknown</td><td>Unknown</td><td>GGGCCTCCAGGGGGCGCTC</td></tr>\n",
       "\t<tr><th scope=row>5</th><td>4</td><td>TFBS</td><td>TFBS</td><td>350</td><td>368</td><td>10.674</td><td>0.8411988</td><td>+</td><td>CTCF</td><td>Unknown</td><td>Unknown</td><td>GGGCCTCTAGCGGGCGCTC</td></tr>\n",
       "</tbody>\n",
       "</table>\n"
      ],
      "text/latex": [
       "A data.frame: 5 × 12\n",
       "\\begin{tabular}{r|llllllllllll}\n",
       "  & seqnames & source & feature & start & end & absScore & relScore & strand & ID & TF & class & siteSeqs\\\\\n",
       "  & <chr> & <chr> & <chr> & <int> & <int> & <dbl> & <dbl> & <chr> & <chr> & <chr> & <chr> & <chr>\\\\\n",
       "\\hline\n",
       "\t1 & 1 & TFBS & TFBS &  42 &  60 & 11.432 & 0.9064761 & + & CTCF & Unknown & Unknown & GGGCCTCCAGGGGGCGCTC\\\\\n",
       "\t2 & 1 & TFBS & TFBS & 100 & 118 & 10.674 & 0.8411988 & + & CTCF & Unknown & Unknown & GGGCCTCTAGCGGGCGCTC\\\\\n",
       "\t3 & 2 & TFBS & TFBS & 154 & 172 & 11.542 & 0.9159490 & - & CTCF & Unknown & Unknown & TGGCCACAAGGTGGCGGCC\\\\\n",
       "\t4 & 4 & TFBS & TFBS & 292 & 310 & 11.432 & 0.9064761 & + & CTCF & Unknown & Unknown & GGGCCTCCAGGGGGCGCTC\\\\\n",
       "\t5 & 4 & TFBS & TFBS & 350 & 368 & 10.674 & 0.8411988 & + & CTCF & Unknown & Unknown & GGGCCTCTAGCGGGCGCTC\\\\\n",
       "\\end{tabular}\n"
      ],
      "text/markdown": [
       "\n",
       "A data.frame: 5 × 12\n",
       "\n",
       "| <!--/--> | seqnames &lt;chr&gt; | source &lt;chr&gt; | feature &lt;chr&gt; | start &lt;int&gt; | end &lt;int&gt; | absScore &lt;dbl&gt; | relScore &lt;dbl&gt; | strand &lt;chr&gt; | ID &lt;chr&gt; | TF &lt;chr&gt; | class &lt;chr&gt; | siteSeqs &lt;chr&gt; |\n",
       "|---|---|---|---|---|---|---|---|---|---|---|---|---|\n",
       "| 1 | 1 | TFBS | TFBS |  42 |  60 | 11.432 | 0.9064761 | + | CTCF | Unknown | Unknown | GGGCCTCCAGGGGGCGCTC |\n",
       "| 2 | 1 | TFBS | TFBS | 100 | 118 | 10.674 | 0.8411988 | + | CTCF | Unknown | Unknown | GGGCCTCTAGCGGGCGCTC |\n",
       "| 3 | 2 | TFBS | TFBS | 154 | 172 | 11.542 | 0.9159490 | - | CTCF | Unknown | Unknown | TGGCCACAAGGTGGCGGCC |\n",
       "| 4 | 4 | TFBS | TFBS | 292 | 310 | 11.432 | 0.9064761 | + | CTCF | Unknown | Unknown | GGGCCTCCAGGGGGCGCTC |\n",
       "| 5 | 4 | TFBS | TFBS | 350 | 368 | 10.674 | 0.8411988 | + | CTCF | Unknown | Unknown | GGGCCTCTAGCGGGCGCTC |\n",
       "\n"
      ],
      "text/plain": [
       "  seqnames source feature start end absScore relScore  strand ID   TF     \n",
       "1 1        TFBS   TFBS     42    60 11.432   0.9064761 +      CTCF Unknown\n",
       "2 1        TFBS   TFBS    100   118 10.674   0.8411988 +      CTCF Unknown\n",
       "3 2        TFBS   TFBS    154   172 11.542   0.9159490 -      CTCF Unknown\n",
       "4 4        TFBS   TFBS    292   310 11.432   0.9064761 +      CTCF Unknown\n",
       "5 4        TFBS   TFBS    350   368 10.674   0.8411988 +      CTCF Unknown\n",
       "  class   siteSeqs           \n",
       "1 Unknown GGGCCTCCAGGGGGCGCTC\n",
       "2 Unknown GGGCCTCTAGCGGGCGCTC\n",
       "3 Unknown TGGCCACAAGGTGGCGGCC\n",
       "4 Unknown GGGCCTCCAGGGGGCGCTC\n",
       "5 Unknown GGGCCTCTAGCGGGCGCTC"
      ]
     },
     "metadata": {},
     "output_type": "display_data"
    }
   ],
   "source": [
    "hits[1:5,]"
   ]
  },
  {
   "cell_type": "code",
   "execution_count": 93,
   "metadata": {},
   "outputs": [],
   "source": [
    "# CTCF モチーフ配列を含むピークにラベルをつける\n",
    "motif_hits_df = data.frame(\n",
    "  peak_order     = 1:length(ctcf_peaks)\n",
    ")\n",
    "motif_hits_df$contains_motif = motif_hits_df$peak_order %in% hits$seqnames\n",
    "motif_hits_df = motif_hits_df[order(-motif_hits_df$peak_order),]"
   ]
  },
  {
   "cell_type": "code",
   "execution_count": 94,
   "metadata": {},
   "outputs": [
    {
     "data": {
      "text/html": [
       "<table>\n",
       "<caption>A data.frame: 5 × 2</caption>\n",
       "<thead>\n",
       "\t<tr><th></th><th scope=col>peak_order</th><th scope=col>contains_motif</th></tr>\n",
       "\t<tr><th></th><th scope=col>&lt;int&gt;</th><th scope=col>&lt;lgl&gt;</th></tr>\n",
       "</thead>\n",
       "<tbody>\n",
       "\t<tr><th scope=row>724</th><td>724</td><td>FALSE</td></tr>\n",
       "\t<tr><th scope=row>723</th><td>723</td><td>FALSE</td></tr>\n",
       "\t<tr><th scope=row>722</th><td>722</td><td>FALSE</td></tr>\n",
       "\t<tr><th scope=row>721</th><td>721</td><td>FALSE</td></tr>\n",
       "\t<tr><th scope=row>720</th><td>720</td><td> TRUE</td></tr>\n",
       "</tbody>\n",
       "</table>\n"
      ],
      "text/latex": [
       "A data.frame: 5 × 2\n",
       "\\begin{tabular}{r|ll}\n",
       "  & peak\\_order & contains\\_motif\\\\\n",
       "  & <int> & <lgl>\\\\\n",
       "\\hline\n",
       "\t724 & 724 & FALSE\\\\\n",
       "\t723 & 723 & FALSE\\\\\n",
       "\t722 & 722 & FALSE\\\\\n",
       "\t721 & 721 & FALSE\\\\\n",
       "\t720 & 720 &  TRUE\\\\\n",
       "\\end{tabular}\n"
      ],
      "text/markdown": [
       "\n",
       "A data.frame: 5 × 2\n",
       "\n",
       "| <!--/--> | peak_order &lt;int&gt; | contains_motif &lt;lgl&gt; |\n",
       "|---|---|---|\n",
       "| 724 | 724 | FALSE |\n",
       "| 723 | 723 | FALSE |\n",
       "| 722 | 722 | FALSE |\n",
       "| 721 | 721 | FALSE |\n",
       "| 720 | 720 |  TRUE |\n",
       "\n"
      ],
      "text/plain": [
       "    peak_order contains_motif\n",
       "724 724        FALSE         \n",
       "723 723        FALSE         \n",
       "722 722        FALSE         \n",
       "721 721        FALSE         \n",
       "720 720         TRUE         "
      ]
     },
     "metadata": {},
     "output_type": "display_data"
    }
   ],
   "source": [
    "motif_hits_df[1:5,]"
   ]
  },
  {
   "cell_type": "code",
   "execution_count": 95,
   "metadata": {},
   "outputs": [],
   "source": [
    "# モチーフ配列を含むピークの割合を計算\n",
    "motif_hits_df$perc_peaks = with(motif_hits_df, \n",
    "                                cumsum(contains_motif) / max(peak_order))\n",
    "motif_hits_df$perc_peaks = round(motif_hits_df$perc_peaks, 2)"
   ]
  },
  {
   "cell_type": "code",
   "execution_count": 97,
   "metadata": {},
   "outputs": [
    {
     "data": {
      "image/png": "[encoded data removed]",
      "text/plain": [
       "plot without title"
      ]
     },
     "metadata": {
      "image/png": {
       "height": 420,
       "width": 420
      }
     },
     "output_type": "display_data"
    }
   ],
   "source": [
    "# ピーク領域のランクとモチーフ配列を持つピーク領域の対比\n",
    "ggplot(\n",
    "    motif_hits_df, \n",
    "    aes(\n",
    "        x = peak_order, \n",
    "        y = perc_peaks\n",
    "    )) +\n",
    "  geom_line(size=2) +\n",
    "  theme_bw() +\n",
    "  theme(\n",
    "    axis.text = element_text(size=14, face='bold'),\n",
    "    axis.title = element_text(size=18,face=\"bold\"),\n",
    "    plot.title = element_text(size=14, hjust = 0.5)) +\n",
    "  xlab('Peak rank') +\n",
    "  ylab('Percetage of peaks with motif') +\n",
    "  ggtitle('Percentage of CTCF peaks with the CTCF motif')"
   ]
  },
  {
   "cell_type": "markdown",
   "metadata": {},
   "source": [
    "全体で 50% 程度のピーク配列でモチーフ配列が同定されたことがわかる(値は高ければ高いほうがよい)。  \n",
    "ピークランクが 0 というのは、すべてのピーク領域のことを指す。\n",
    "ピークランクが 100 というのは、100 以上のピーク領域のことを指す(全体から見たら、モチーフ配列を含む割合は減っていく)。"
   ]
  },
  {
   "cell_type": "markdown",
   "metadata": {},
   "source": [
    "##### 9.6.4.3 Motif localization\n",
    "ChIP-seq のデータの品質が良ければ、モチーフ配列は各ピークの頂点に局在していると予想されます。"
   ]
  },
  {
   "cell_type": "code",
   "execution_count": 99,
   "metadata": {},
   "outputs": [],
   "source": [
    "# +/- 1kb でピーク領域をリサイズ\n",
    "ctcf_peaks_resized = resize(ctcf_peaks, width = 2000, fix='center')"
   ]
  },
  {
   "cell_type": "code",
   "execution_count": 100,
   "metadata": {},
   "outputs": [],
   "source": [
    "# ゲノム配列を取得\n",
    "seq = getSeq(BSgenome.Hsapiens.UCSC.hg38,ctcf_peaks_resized)"
   ]
  },
  {
   "cell_type": "code",
   "execution_count": 101,
   "metadata": {},
   "outputs": [
    {
     "name": "stderr",
     "output_type": "stream",
     "text": [
      "Warning message in .Call2(\"XString_match_PWM\", pwm, subject, min.score, count.only, :\n",
      "“'subject' contains letters not in [ACGT] ==> assigned weight 0 to them”\n",
      "Warning message in .Call2(\"XString_match_PWM\", pwm, subject, min.score, count.only, :\n",
      "“'subject' contains letters not in [ACGT] ==> assigned weight 0 to them”\n"
     ]
    }
   ],
   "source": [
    "# モチーフ配列のマトリクスを PWM に変換\n",
    "ctcf_pwm = PWMatrix(ID = 'CTCF', profileMatrix = ctcf_motif)\n",
    "\n",
    "# モチーフ配列をピーク領域から検索\n",
    "hits = searchSeq(ctcf_pwm, seq, min.score=\"80%\", strand=\"*\")\n",
    "hits = as.data.frame(hits)"
   ]
  },
  {
   "cell_type": "code",
   "execution_count": 102,
   "metadata": {},
   "outputs": [
    {
     "data": {
      "text/html": [
       "<table>\n",
       "<caption>A data.frame: 5 × 12</caption>\n",
       "<thead>\n",
       "\t<tr><th></th><th scope=col>seqnames</th><th scope=col>source</th><th scope=col>feature</th><th scope=col>start</th><th scope=col>end</th><th scope=col>absScore</th><th scope=col>relScore</th><th scope=col>strand</th><th scope=col>ID</th><th scope=col>TF</th><th scope=col>class</th><th scope=col>siteSeqs</th></tr>\n",
       "\t<tr><th></th><th scope=col>&lt;chr&gt;</th><th scope=col>&lt;chr&gt;</th><th scope=col>&lt;chr&gt;</th><th scope=col>&lt;int&gt;</th><th scope=col>&lt;int&gt;</th><th scope=col>&lt;dbl&gt;</th><th scope=col>&lt;dbl&gt;</th><th scope=col>&lt;chr&gt;</th><th scope=col>&lt;chr&gt;</th><th scope=col>&lt;chr&gt;</th><th scope=col>&lt;chr&gt;</th><th scope=col>&lt;chr&gt;</th></tr>\n",
       "</thead>\n",
       "<tbody>\n",
       "\t<tr><th scope=row>1</th><td>1</td><td>TFBS</td><td>TFBS</td><td> 842</td><td> 860</td><td>11.432</td><td>0.9064761</td><td>+</td><td>CTCF</td><td>Unknown</td><td>Unknown</td><td>GGGCCTCCAGGGGGCGCTC</td></tr>\n",
       "\t<tr><th scope=row>2</th><td>1</td><td>TFBS</td><td>TFBS</td><td> 900</td><td> 918</td><td>10.674</td><td>0.8411988</td><td>+</td><td>CTCF</td><td>Unknown</td><td>Unknown</td><td>GGGCCTCTAGCGGGCGCTC</td></tr>\n",
       "\t<tr><th scope=row>3</th><td>2</td><td>TFBS</td><td>TFBS</td><td> 954</td><td> 972</td><td>11.542</td><td>0.9159490</td><td>-</td><td>CTCF</td><td>Unknown</td><td>Unknown</td><td>TGGCCACAAGGTGGCGGCC</td></tr>\n",
       "\t<tr><th scope=row>4</th><td>3</td><td>TFBS</td><td>TFBS</td><td>  35</td><td>  53</td><td>10.384</td><td>0.8162246</td><td>+</td><td>CTCF</td><td>Unknown</td><td>Unknown</td><td>GTTCCCCCAGAGGGCACAA</td></tr>\n",
       "\t<tr><th scope=row>5</th><td>4</td><td>TFBS</td><td>TFBS</td><td>1092</td><td>1110</td><td>11.432</td><td>0.9064761</td><td>+</td><td>CTCF</td><td>Unknown</td><td>Unknown</td><td>GGGCCTCCAGGGGGCGCTC</td></tr>\n",
       "</tbody>\n",
       "</table>\n"
      ],
      "text/latex": [
       "A data.frame: 5 × 12\n",
       "\\begin{tabular}{r|llllllllllll}\n",
       "  & seqnames & source & feature & start & end & absScore & relScore & strand & ID & TF & class & siteSeqs\\\\\n",
       "  & <chr> & <chr> & <chr> & <int> & <int> & <dbl> & <dbl> & <chr> & <chr> & <chr> & <chr> & <chr>\\\\\n",
       "\\hline\n",
       "\t1 & 1 & TFBS & TFBS &  842 &  860 & 11.432 & 0.9064761 & + & CTCF & Unknown & Unknown & GGGCCTCCAGGGGGCGCTC\\\\\n",
       "\t2 & 1 & TFBS & TFBS &  900 &  918 & 10.674 & 0.8411988 & + & CTCF & Unknown & Unknown & GGGCCTCTAGCGGGCGCTC\\\\\n",
       "\t3 & 2 & TFBS & TFBS &  954 &  972 & 11.542 & 0.9159490 & - & CTCF & Unknown & Unknown & TGGCCACAAGGTGGCGGCC\\\\\n",
       "\t4 & 3 & TFBS & TFBS &   35 &   53 & 10.384 & 0.8162246 & + & CTCF & Unknown & Unknown & GTTCCCCCAGAGGGCACAA\\\\\n",
       "\t5 & 4 & TFBS & TFBS & 1092 & 1110 & 11.432 & 0.9064761 & + & CTCF & Unknown & Unknown & GGGCCTCCAGGGGGCGCTC\\\\\n",
       "\\end{tabular}\n"
      ],
      "text/markdown": [
       "\n",
       "A data.frame: 5 × 12\n",
       "\n",
       "| <!--/--> | seqnames &lt;chr&gt; | source &lt;chr&gt; | feature &lt;chr&gt; | start &lt;int&gt; | end &lt;int&gt; | absScore &lt;dbl&gt; | relScore &lt;dbl&gt; | strand &lt;chr&gt; | ID &lt;chr&gt; | TF &lt;chr&gt; | class &lt;chr&gt; | siteSeqs &lt;chr&gt; |\n",
       "|---|---|---|---|---|---|---|---|---|---|---|---|---|\n",
       "| 1 | 1 | TFBS | TFBS |  842 |  860 | 11.432 | 0.9064761 | + | CTCF | Unknown | Unknown | GGGCCTCCAGGGGGCGCTC |\n",
       "| 2 | 1 | TFBS | TFBS |  900 |  918 | 10.674 | 0.8411988 | + | CTCF | Unknown | Unknown | GGGCCTCTAGCGGGCGCTC |\n",
       "| 3 | 2 | TFBS | TFBS |  954 |  972 | 11.542 | 0.9159490 | - | CTCF | Unknown | Unknown | TGGCCACAAGGTGGCGGCC |\n",
       "| 4 | 3 | TFBS | TFBS |   35 |   53 | 10.384 | 0.8162246 | + | CTCF | Unknown | Unknown | GTTCCCCCAGAGGGCACAA |\n",
       "| 5 | 4 | TFBS | TFBS | 1092 | 1110 | 11.432 | 0.9064761 | + | CTCF | Unknown | Unknown | GGGCCTCCAGGGGGCGCTC |\n",
       "\n"
      ],
      "text/plain": [
       "  seqnames source feature start end  absScore relScore  strand ID   TF     \n",
       "1 1        TFBS   TFBS     842   860 11.432   0.9064761 +      CTCF Unknown\n",
       "2 1        TFBS   TFBS     900   918 10.674   0.8411988 +      CTCF Unknown\n",
       "3 2        TFBS   TFBS     954   972 11.542   0.9159490 -      CTCF Unknown\n",
       "4 3        TFBS   TFBS      35    53 10.384   0.8162246 +      CTCF Unknown\n",
       "5 4        TFBS   TFBS    1092  1110 11.432   0.9064761 +      CTCF Unknown\n",
       "  class   siteSeqs           \n",
       "1 Unknown GGGCCTCCAGGGGGCGCTC\n",
       "2 Unknown GGGCCTCTAGCGGGCGCTC\n",
       "3 Unknown TGGCCACAAGGTGGCGGCC\n",
       "4 Unknown GTTCCCCCAGAGGGCACAA\n",
       "5 Unknown GGGCCTCCAGGGGGCGCTC"
      ]
     },
     "metadata": {},
     "output_type": "display_data"
    }
   ],
   "source": [
    "hits[1:5,]"
   ]
  },
  {
   "cell_type": "code",
   "execution_count": 103,
   "metadata": {},
   "outputs": [],
   "source": [
    "# 開始位置をセット (モチーフ配列の 1000bp 前を開始位置と定義する -> 2000 bp をピーク領域としているため)\n",
    "hits$position = hits$start - 1000 "
   ]
  },
  {
   "cell_type": "code",
   "execution_count": 104,
   "metadata": {},
   "outputs": [
    {
     "data": {
      "text/html": [
       "<table>\n",
       "<caption>A data.frame: 5 × 13</caption>\n",
       "<thead>\n",
       "\t<tr><th></th><th scope=col>seqnames</th><th scope=col>source</th><th scope=col>feature</th><th scope=col>start</th><th scope=col>end</th><th scope=col>absScore</th><th scope=col>relScore</th><th scope=col>strand</th><th scope=col>ID</th><th scope=col>TF</th><th scope=col>class</th><th scope=col>siteSeqs</th><th scope=col>position</th></tr>\n",
       "\t<tr><th></th><th scope=col>&lt;chr&gt;</th><th scope=col>&lt;chr&gt;</th><th scope=col>&lt;chr&gt;</th><th scope=col>&lt;int&gt;</th><th scope=col>&lt;int&gt;</th><th scope=col>&lt;dbl&gt;</th><th scope=col>&lt;dbl&gt;</th><th scope=col>&lt;chr&gt;</th><th scope=col>&lt;chr&gt;</th><th scope=col>&lt;chr&gt;</th><th scope=col>&lt;chr&gt;</th><th scope=col>&lt;chr&gt;</th><th scope=col>&lt;dbl&gt;</th></tr>\n",
       "</thead>\n",
       "<tbody>\n",
       "\t<tr><th scope=row>1</th><td>1</td><td>TFBS</td><td>TFBS</td><td> 842</td><td> 860</td><td>11.432</td><td>0.9064761</td><td>+</td><td>CTCF</td><td>Unknown</td><td>Unknown</td><td>GGGCCTCCAGGGGGCGCTC</td><td>-158</td></tr>\n",
       "\t<tr><th scope=row>2</th><td>1</td><td>TFBS</td><td>TFBS</td><td> 900</td><td> 918</td><td>10.674</td><td>0.8411988</td><td>+</td><td>CTCF</td><td>Unknown</td><td>Unknown</td><td>GGGCCTCTAGCGGGCGCTC</td><td>-100</td></tr>\n",
       "\t<tr><th scope=row>3</th><td>2</td><td>TFBS</td><td>TFBS</td><td> 954</td><td> 972</td><td>11.542</td><td>0.9159490</td><td>-</td><td>CTCF</td><td>Unknown</td><td>Unknown</td><td>TGGCCACAAGGTGGCGGCC</td><td> -46</td></tr>\n",
       "\t<tr><th scope=row>4</th><td>3</td><td>TFBS</td><td>TFBS</td><td>  35</td><td>  53</td><td>10.384</td><td>0.8162246</td><td>+</td><td>CTCF</td><td>Unknown</td><td>Unknown</td><td>GTTCCCCCAGAGGGCACAA</td><td>-965</td></tr>\n",
       "\t<tr><th scope=row>5</th><td>4</td><td>TFBS</td><td>TFBS</td><td>1092</td><td>1110</td><td>11.432</td><td>0.9064761</td><td>+</td><td>CTCF</td><td>Unknown</td><td>Unknown</td><td>GGGCCTCCAGGGGGCGCTC</td><td>  92</td></tr>\n",
       "</tbody>\n",
       "</table>\n"
      ],
      "text/latex": [
       "A data.frame: 5 × 13\n",
       "\\begin{tabular}{r|lllllllllllll}\n",
       "  & seqnames & source & feature & start & end & absScore & relScore & strand & ID & TF & class & siteSeqs & position\\\\\n",
       "  & <chr> & <chr> & <chr> & <int> & <int> & <dbl> & <dbl> & <chr> & <chr> & <chr> & <chr> & <chr> & <dbl>\\\\\n",
       "\\hline\n",
       "\t1 & 1 & TFBS & TFBS &  842 &  860 & 11.432 & 0.9064761 & + & CTCF & Unknown & Unknown & GGGCCTCCAGGGGGCGCTC & -158\\\\\n",
       "\t2 & 1 & TFBS & TFBS &  900 &  918 & 10.674 & 0.8411988 & + & CTCF & Unknown & Unknown & GGGCCTCTAGCGGGCGCTC & -100\\\\\n",
       "\t3 & 2 & TFBS & TFBS &  954 &  972 & 11.542 & 0.9159490 & - & CTCF & Unknown & Unknown & TGGCCACAAGGTGGCGGCC &  -46\\\\\n",
       "\t4 & 3 & TFBS & TFBS &   35 &   53 & 10.384 & 0.8162246 & + & CTCF & Unknown & Unknown & GTTCCCCCAGAGGGCACAA & -965\\\\\n",
       "\t5 & 4 & TFBS & TFBS & 1092 & 1110 & 11.432 & 0.9064761 & + & CTCF & Unknown & Unknown & GGGCCTCCAGGGGGCGCTC &   92\\\\\n",
       "\\end{tabular}\n"
      ],
      "text/markdown": [
       "\n",
       "A data.frame: 5 × 13\n",
       "\n",
       "| <!--/--> | seqnames &lt;chr&gt; | source &lt;chr&gt; | feature &lt;chr&gt; | start &lt;int&gt; | end &lt;int&gt; | absScore &lt;dbl&gt; | relScore &lt;dbl&gt; | strand &lt;chr&gt; | ID &lt;chr&gt; | TF &lt;chr&gt; | class &lt;chr&gt; | siteSeqs &lt;chr&gt; | position &lt;dbl&gt; |\n",
       "|---|---|---|---|---|---|---|---|---|---|---|---|---|---|\n",
       "| 1 | 1 | TFBS | TFBS |  842 |  860 | 11.432 | 0.9064761 | + | CTCF | Unknown | Unknown | GGGCCTCCAGGGGGCGCTC | -158 |\n",
       "| 2 | 1 | TFBS | TFBS |  900 |  918 | 10.674 | 0.8411988 | + | CTCF | Unknown | Unknown | GGGCCTCTAGCGGGCGCTC | -100 |\n",
       "| 3 | 2 | TFBS | TFBS |  954 |  972 | 11.542 | 0.9159490 | - | CTCF | Unknown | Unknown | TGGCCACAAGGTGGCGGCC |  -46 |\n",
       "| 4 | 3 | TFBS | TFBS |   35 |   53 | 10.384 | 0.8162246 | + | CTCF | Unknown | Unknown | GTTCCCCCAGAGGGCACAA | -965 |\n",
       "| 5 | 4 | TFBS | TFBS | 1092 | 1110 | 11.432 | 0.9064761 | + | CTCF | Unknown | Unknown | GGGCCTCCAGGGGGCGCTC |   92 |\n",
       "\n"
      ],
      "text/plain": [
       "  seqnames source feature start end  absScore relScore  strand ID   TF     \n",
       "1 1        TFBS   TFBS     842   860 11.432   0.9064761 +      CTCF Unknown\n",
       "2 1        TFBS   TFBS     900   918 10.674   0.8411988 +      CTCF Unknown\n",
       "3 2        TFBS   TFBS     954   972 11.542   0.9159490 -      CTCF Unknown\n",
       "4 3        TFBS   TFBS      35    53 10.384   0.8162246 +      CTCF Unknown\n",
       "5 4        TFBS   TFBS    1092  1110 11.432   0.9064761 +      CTCF Unknown\n",
       "  class   siteSeqs            position\n",
       "1 Unknown GGGCCTCCAGGGGGCGCTC -158    \n",
       "2 Unknown GGGCCTCTAGCGGGCGCTC -100    \n",
       "3 Unknown TGGCCACAAGGTGGCGGCC  -46    \n",
       "4 Unknown GTTCCCCCAGAGGGCACAA -965    \n",
       "5 Unknown GGGCCTCCAGGGGGCGCTC   92    "
      ]
     },
     "metadata": {},
     "output_type": "display_data"
    }
   ],
   "source": [
    "hits[1:5,]"
   ]
  },
  {
   "cell_type": "code",
   "execution_count": 107,
   "metadata": {},
   "outputs": [
    {
     "data": {
      "image/png": "[encoded data removed]",
      "text/plain": [
       "plot without title"
      ]
     },
     "metadata": {
      "image/png": {
       "height": 420,
       "width": 420
      }
     },
     "output_type": "display_data"
    }
   ],
   "source": [
    "# 可視化\n",
    "ggplot(data=hits, aes(position)) +\n",
    "  geom_density(size=2) +\n",
    "  theme_bw() +\n",
    "  geom_vline(xintercept = 0, linetype=2, color='red', size=2) +\n",
    "  xlab('Position around the CTCF peaks') +\n",
    "  ylab('Per position percentage\\nof motif occurence') +\n",
    "  theme(\n",
    "    axis.text = element_text(size=14, face='bold'),\n",
    "    axis.title = element_text(size=18,face=\"bold\"),\n",
    "    plot.title = element_text(size=14,hjust = 0.5))"
   ]
  },
  {
   "cell_type": "code",
   "execution_count": null,
   "metadata": {},
   "outputs": [],
   "source": []
  }
 ],
 "metadata": {
  "kernelspec": {
   "display_name": "R",
   "language": "R",
   "name": "ir"
  },
  "language_info": {
   "codemirror_mode": "r",
   "file_extension": ".r",
   "mimetype": "text/x-r-source",
   "name": "R",
   "pygments_lexer": "r",
   "version": "4.0.3"
  }
 },
 "nbformat": 4,
 "nbformat_minor": 4
}
